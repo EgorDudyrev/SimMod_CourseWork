{
 "cells": [
  {
   "cell_type": "code",
   "execution_count": 1,
   "metadata": {
    "collapsed": true
   },
   "outputs": [],
   "source": [
    "import simpy as sp\n",
    "import numpy as np"
   ]
  },
  {
   "cell_type": "markdown",
   "metadata": {},
   "source": [
    "Simpy documentation - https://simpy.readthedocs.io/en/latest/contents.html "
   ]
  },
  {
   "cell_type": "markdown",
   "metadata": {},
   "source": [
    "# Data preparation"
   ]
  },
  {
   "cell_type": "code",
   "execution_count": 2,
   "metadata": {},
   "outputs": [],
   "source": [
    "cl_statuses = ['generated', 'ask_for_line', 'get_line', 'no_lines', 'blocked',\n",
    "               'unblocked', 'drop_on_unblock', 'in_queue', 'drop_from_queue', 'connected',\n",
    "               'drop_success']\n",
    "map_cl_status_code = {s:idx for idx,s in enumerate(cl_statuses)}\n",
    "map_code_cl_status = {v:k for k,v in map_cl_status_code.items()}"
   ]
  },
  {
   "cell_type": "code",
   "execution_count": 3,
   "metadata": {},
   "outputs": [],
   "source": [
    "cl_columns = ['id','priority','call_start_time','call_end_time','max_waiting_time','status']\n",
    "cl_columns_map = {k:idx for idx,k in enumerate(cl_columns)}"
   ]
  },
  {
   "cell_type": "markdown",
   "metadata": {},
   "source": [
    "# Testing model"
   ]
  },
  {
   "cell_type": "code",
   "execution_count": 4,
   "metadata": {
    "collapsed": true
   },
   "outputs": [],
   "source": [
    "class CallCenter(object):\n",
    "    def __init__(self, env, n_lines, n_vip_lines):\n",
    "        self.env = env\n",
    "        self.n_lines = n_lines\n",
    "        self.n_vip_lines = n_vip_lines\n",
    "        self.lines = sp.Resource(env, capacity=self.n_lines)\n",
    "\n",
    "    def request_line(self, cl_id):\n",
    "        cl_priority = self.env.client_mx[cl_id, cl_columns_map['priority']]\n",
    "        n_lines_to_give = self.n_lines-self.n_vip_lines if cl_priority==3 else self.n_lines\n",
    "        if self.lines.count<n_lines_to_give:\n",
    "            req = self.lines.request()\n",
    "            yield req\n",
    "        else:\n",
    "            raise self.NoLinesAvailable()\n",
    "        yield self.env.timeout(8)\n",
    "        return req\n",
    "        \n",
    "    def release_line(self, req):\n",
    "        yield self.lines.release(req)\n",
    "    \n",
    "    class NoLinesAvailable(sp.exceptions.SimPyException):\n",
    "        pass"
   ]
  },
  {
   "cell_type": "code",
   "execution_count": 5,
   "metadata": {},
   "outputs": [],
   "source": [
    "class Client(object):\n",
    "    def __init__(self, env, id_):\n",
    "        self.env = env\n",
    "        self.id_ = id_\n",
    "        self.action = env.process(self.run())\n",
    "    \n",
    "    def run(self):\n",
    "        cc = self.env.call_center\n",
    "        try:\n",
    "            req = yield self.env.process(cc.request_line(self.id_))\n",
    "        except cc.NoLinesAvailable as e:\n",
    "            return\n",
    "        yield self.env.timeout(3)\n",
    "        yield self.env.process(cc.release_line(req))"
   ]
  },
  {
   "cell_type": "code",
   "execution_count": 6,
   "metadata": {
    "collapsed": true
   },
   "outputs": [],
   "source": [
    "def add_client_to_matrix(matrix, priority, call_start_time):\n",
    "    data = np.array([-1]*matrix.shape[1])\n",
    "    id_ = len(matrix)\n",
    "    data[cl_columns_map['id']] = id_\n",
    "    data[cl_columns_map['priority']] = priority\n",
    "    data[cl_columns_map['call_start_time']] = call_start_time\n",
    "    data[cl_columns_map['max_waiting_time']] = 5*60\n",
    "    data[cl_columns_map['status']] = map_cl_status_code['generated']\n",
    "    return id_, np.append(matrix, [data], axis=0)"
   ]
  },
  {
   "cell_type": "code",
   "execution_count": 7,
   "metadata": {
    "collapsed": true
   },
   "outputs": [],
   "source": [
    "def client_generator(env):\n",
    "    while True:\n",
    "        if np.random.rand()<0.5:\n",
    "            id_, env.client_mx = add_client_to_matrix(env.client_mx, 3, env.now)\n",
    "            client = Client(env, id_)\n",
    "        yield env.timeout(1)"
   ]
  },
  {
   "cell_type": "code",
   "execution_count": 8,
   "metadata": {},
   "outputs": [],
   "source": [
    "env = sp.Environment()\n",
    "env.client_mx = np.empty([0,len(cl_columns)])\n",
    "env.call_center = CallCenter(env, 2,0)\n",
    "env.client_generator = env.process(client_generator(env))"
   ]
  },
  {
   "cell_type": "code",
   "execution_count": 9,
   "metadata": {},
   "outputs": [],
   "source": [
    "env.run(until=50)"
   ]
  },
  {
   "cell_type": "code",
   "execution_count": 10,
   "metadata": {},
   "outputs": [
    {
     "data": {
      "text/plain": [
       "array([[   0.,    3.,    0.,   -1.,  300.,    0.],\n",
       "       [   1.,    3.,    1.,   -1.,  300.,    0.],\n",
       "       [   2.,    3.,    2.,   -1.,  300.,    0.],\n",
       "       [   3.,    3.,    3.,   -1.,  300.,    0.],\n",
       "       [   4.,    3.,    4.,   -1.,  300.,    0.],\n",
       "       [   5.,    3.,    5.,   -1.,  300.,    0.],\n",
       "       [   6.,    3.,    6.,   -1.,  300.,    0.],\n",
       "       [   7.,    3.,    8.,   -1.,  300.,    0.],\n",
       "       [   8.,    3.,    9.,   -1.,  300.,    0.],\n",
       "       [   9.,    3.,   10.,   -1.,  300.,    0.],\n",
       "       [  10.,    3.,   13.,   -1.,  300.,    0.],\n",
       "       [  11.,    3.,   14.,   -1.,  300.,    0.],\n",
       "       [  12.,    3.,   15.,   -1.,  300.,    0.],\n",
       "       [  13.,    3.,   17.,   -1.,  300.,    0.],\n",
       "       [  14.,    3.,   18.,   -1.,  300.,    0.],\n",
       "       [  15.,    3.,   21.,   -1.,  300.,    0.],\n",
       "       [  16.,    3.,   23.,   -1.,  300.,    0.],\n",
       "       [  17.,    3.,   25.,   -1.,  300.,    0.],\n",
       "       [  18.,    3.,   26.,   -1.,  300.,    0.],\n",
       "       [  19.,    3.,   28.,   -1.,  300.,    0.],\n",
       "       [  20.,    3.,   30.,   -1.,  300.,    0.],\n",
       "       [  21.,    3.,   31.,   -1.,  300.,    0.],\n",
       "       [  22.,    3.,   33.,   -1.,  300.,    0.],\n",
       "       [  23.,    3.,   36.,   -1.,  300.,    0.],\n",
       "       [  24.,    3.,   39.,   -1.,  300.,    0.],\n",
       "       [  25.,    3.,   45.,   -1.,  300.,    0.],\n",
       "       [  26.,    3.,   48.,   -1.,  300.,    0.]])"
      ]
     },
     "execution_count": 10,
     "metadata": {},
     "output_type": "execute_result"
    }
   ],
   "source": [
    "env.client_mx"
   ]
  }
 ],
 "metadata": {
  "kernelspec": {
   "display_name": "Python 3",
   "language": "python",
   "name": "python3"
  },
  "language_info": {
   "codemirror_mode": {
    "name": "ipython",
    "version": 3
   },
   "file_extension": ".py",
   "mimetype": "text/x-python",
   "name": "python",
   "nbconvert_exporter": "python",
   "pygments_lexer": "ipython3",
   "version": "3.6.3"
  }
 },
 "nbformat": 4,
 "nbformat_minor": 2
}
