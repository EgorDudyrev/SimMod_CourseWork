{
 "cells": [
  {
   "cell_type": "code",
   "execution_count": 24,
   "metadata": {
    "collapsed": true
   },
   "outputs": [],
   "source": [
    "import simpy as sp\n",
    "import numpy as np\n",
    "import pandas as pd\n",
    "\n",
    "import datetime as dt\n",
    "\n",
    "from tqdm import tqdm_notebook"
   ]
  },
  {
   "cell_type": "markdown",
   "metadata": {},
   "source": [
    "Simpy documentation - https://simpy.readthedocs.io/en/latest/contents.html "
   ]
  },
  {
   "cell_type": "markdown",
   "metadata": {},
   "source": [
    "# Data preparation"
   ]
  },
  {
   "cell_type": "code",
   "execution_count": 2,
   "metadata": {},
   "outputs": [],
   "source": [
    "cl_statuses = ['generated', 'ask_for_line', 'get_line', 'no_lines', 'blocked',\n",
    "               'unblocked', 'drop_on_unblock', 'in_queue', 'drop_from_queue', 'connected',\n",
    "               'drop_success']\n",
    "map_cl_status_code = {s:idx for idx,s in enumerate(cl_statuses)}\n",
    "map_code_cl_status = {v:k for k,v in map_cl_status_code.items()}"
   ]
  },
  {
   "cell_type": "code",
   "execution_count": 3,
   "metadata": {},
   "outputs": [],
   "source": [
    "cl_columns = ['id','priority','call_start_time','call_end_time','max_waiting_time','status']\n",
    "cl_columns_map = {k:idx for idx,k in enumerate(cl_columns)}"
   ]
  },
  {
   "cell_type": "code",
   "execution_count": 4,
   "metadata": {
    "collapsed": true
   },
   "outputs": [],
   "source": [
    "def get_client_ds(matrix, columns):\n",
    "    client_ds = pd.DataFrame(matrix, columns=columns, dtype=np.int)\n",
    "    client_ds['status_code'] = client_ds['status']\n",
    "    client_ds['status'] = client_ds['status'].transform(lambda x: map_code_cl_status[x])\n",
    "    client_ds['type'] = client_ds['priority'].transform(lambda x: {1:'gold',2:'silver',3:'regular'}[x])\n",
    "    client_ds['call_start_time_dt'] = client_ds['call_start_time'].transform(lambda x: dt.timedelta(seconds=x))\n",
    "    client_ds['call_start_time_dt'] = client_ds['call_start_time_dt'] + dt.datetime(2018,1,1,7)\n",
    "    client_ds['call_end_time_dt'] = client_ds['call_end_time'].transform(lambda x: dt.timedelta(seconds=x))\n",
    "    client_ds['call_end_time_dt'] = client_ds['call_end_time_dt'] + dt.datetime(2018,1,1,7)\n",
    "    client_ds['max_waiting_time_dt'] = client_ds['max_waiting_time'].transform(lambda x: dt.timedelta(seconds=x))\n",
    "    client_ds = client_ds.reindex(columns=['id','priority','type', 'status_code','status',\n",
    "                           'call_start_time','call_start_time_dt','call_end_time', 'call_end_time_end',\n",
    "                           'max_waiting_time', 'max_waiting_time_dt'])\n",
    "    return client_ds"
   ]
  },
  {
   "cell_type": "markdown",
   "metadata": {},
   "source": [
    "# Testing model"
   ]
  },
  {
   "cell_type": "code",
   "execution_count": 5,
   "metadata": {
    "collapsed": true
   },
   "outputs": [],
   "source": [
    "class CallCenter(object):\n",
    "    def __init__(self, env, n_lines, n_vip_lines):\n",
    "        self.env = env\n",
    "        self.n_lines = n_lines\n",
    "        self.n_vip_lines = n_vip_lines\n",
    "        self.lines = sp.Resource(env, capacity=self.n_lines)\n",
    "\n",
    "    def request_line(self, cl_id):\n",
    "        cl_priority = self.env.client_mx[cl_id, cl_columns_map['priority']]\n",
    "        n_lines_to_give = self.n_lines-self.n_vip_lines if cl_priority==3 else self.n_lines\n",
    "        if self.lines.count<n_lines_to_give:\n",
    "            req = self.lines.request()\n",
    "            yield req\n",
    "        else:\n",
    "            raise self.NoLinesAvailable()\n",
    "        yield self.env.timeout(8)\n",
    "        return req\n",
    "        \n",
    "    def release_line(self, req):\n",
    "        yield self.lines.release(req)\n",
    "    \n",
    "    class NoLinesAvailable(sp.exceptions.SimPyException):\n",
    "        pass"
   ]
  },
  {
   "cell_type": "code",
   "execution_count": 6,
   "metadata": {},
   "outputs": [],
   "source": [
    "class Client(object):\n",
    "    def __init__(self, env, id_):\n",
    "        self.env = env\n",
    "        self.id_ = id_\n",
    "        self.action = env.process(self.run())\n",
    "    \n",
    "    def run(self):\n",
    "        cc = self.env.call_center\n",
    "        try:\n",
    "            req = yield self.env.process(cc.request_line(self.id_))\n",
    "        except cc.NoLinesAvailable as e:\n",
    "            return\n",
    "        yield self.env.timeout(3)\n",
    "        yield self.env.process(cc.release_line(req))"
   ]
  },
  {
   "cell_type": "code",
   "execution_count": 7,
   "metadata": {
    "collapsed": true
   },
   "outputs": [],
   "source": [
    "def add_client_to_matrix(matrix, priority, call_start_time):\n",
    "    data = np.array([-1]*matrix.shape[1])\n",
    "    id_ = len(matrix)\n",
    "    data[cl_columns_map['id']] = id_\n",
    "    data[cl_columns_map['priority']] = priority\n",
    "    data[cl_columns_map['call_start_time']] = call_start_time\n",
    "    data[cl_columns_map['max_waiting_time']] = 5*60\n",
    "    data[cl_columns_map['status']] = map_cl_status_code['generated']\n",
    "    return id_, np.append(matrix, [data], axis=0)"
   ]
  },
  {
   "cell_type": "code",
   "execution_count": 8,
   "metadata": {
    "collapsed": true
   },
   "outputs": [],
   "source": [
    "def client_generator(env):\n",
    "    while True:\n",
    "        if np.random.rand()<0.5:\n",
    "            id_, env.client_mx = add_client_to_matrix(env.client_mx, 3, env.now)\n",
    "            client = Client(env, id_)\n",
    "        yield env.timeout(1)"
   ]
  },
  {
   "cell_type": "code",
   "execution_count": 20,
   "metadata": {},
   "outputs": [],
   "source": [
    "env = sp.Environment()\n",
    "env.client_mx = np.empty([0,len(cl_columns)])\n",
    "env.call_center = CallCenter(env, 2,0)\n",
    "env.client_generator = env.process(client_generator(env))"
   ]
  },
  {
   "cell_type": "code",
   "execution_count": 21,
   "metadata": {},
   "outputs": [
    {
     "data": {
      "application/vnd.jupyter.widget-view+json": {
       "model_id": "8e7b887701224240ba92ef3372008771",
       "version_major": 2,
       "version_minor": 0
      },
      "text/plain": [
       "A Jupyter Widget"
      ]
     },
     "metadata": {},
     "output_type": "display_data"
    },
    {
     "name": "stdout",
     "output_type": "stream",
     "text": [
      "\n"
     ]
    }
   ],
   "source": [
    "for i in tqdm_notebook(range(60*60)):\n",
    "    env.run(until=i+1)"
   ]
  },
  {
   "cell_type": "code",
   "execution_count": 23,
   "metadata": {},
   "outputs": [
    {
     "name": "stdout",
     "output_type": "stream",
     "text": [
      "(1803, 11)\n"
     ]
    },
    {
     "data": {
      "text/html": [
       "<div>\n",
       "<style>\n",
       "    .dataframe thead tr:only-child th {\n",
       "        text-align: right;\n",
       "    }\n",
       "\n",
       "    .dataframe thead th {\n",
       "        text-align: left;\n",
       "    }\n",
       "\n",
       "    .dataframe tbody tr th {\n",
       "        vertical-align: top;\n",
       "    }\n",
       "</style>\n",
       "<table border=\"1\" class=\"dataframe\">\n",
       "  <thead>\n",
       "    <tr style=\"text-align: right;\">\n",
       "      <th></th>\n",
       "      <th>id</th>\n",
       "      <th>priority</th>\n",
       "      <th>type</th>\n",
       "      <th>status_code</th>\n",
       "      <th>status</th>\n",
       "      <th>call_start_time</th>\n",
       "      <th>call_start_time_dt</th>\n",
       "      <th>call_end_time</th>\n",
       "      <th>call_end_time_end</th>\n",
       "      <th>max_waiting_time</th>\n",
       "      <th>max_waiting_time_dt</th>\n",
       "    </tr>\n",
       "  </thead>\n",
       "  <tbody>\n",
       "    <tr>\n",
       "      <th>0</th>\n",
       "      <td>0</td>\n",
       "      <td>3</td>\n",
       "      <td>regular</td>\n",
       "      <td>0</td>\n",
       "      <td>generated</td>\n",
       "      <td>2</td>\n",
       "      <td>2018-01-01 07:00:02</td>\n",
       "      <td>-1</td>\n",
       "      <td>NaN</td>\n",
       "      <td>300</td>\n",
       "      <td>00:05:00</td>\n",
       "    </tr>\n",
       "    <tr>\n",
       "      <th>1</th>\n",
       "      <td>1</td>\n",
       "      <td>3</td>\n",
       "      <td>regular</td>\n",
       "      <td>0</td>\n",
       "      <td>generated</td>\n",
       "      <td>3</td>\n",
       "      <td>2018-01-01 07:00:03</td>\n",
       "      <td>-1</td>\n",
       "      <td>NaN</td>\n",
       "      <td>300</td>\n",
       "      <td>00:05:00</td>\n",
       "    </tr>\n",
       "    <tr>\n",
       "      <th>2</th>\n",
       "      <td>2</td>\n",
       "      <td>3</td>\n",
       "      <td>regular</td>\n",
       "      <td>0</td>\n",
       "      <td>generated</td>\n",
       "      <td>4</td>\n",
       "      <td>2018-01-01 07:00:04</td>\n",
       "      <td>-1</td>\n",
       "      <td>NaN</td>\n",
       "      <td>300</td>\n",
       "      <td>00:05:00</td>\n",
       "    </tr>\n",
       "    <tr>\n",
       "      <th>3</th>\n",
       "      <td>3</td>\n",
       "      <td>3</td>\n",
       "      <td>regular</td>\n",
       "      <td>0</td>\n",
       "      <td>generated</td>\n",
       "      <td>5</td>\n",
       "      <td>2018-01-01 07:00:05</td>\n",
       "      <td>-1</td>\n",
       "      <td>NaN</td>\n",
       "      <td>300</td>\n",
       "      <td>00:05:00</td>\n",
       "    </tr>\n",
       "    <tr>\n",
       "      <th>4</th>\n",
       "      <td>4</td>\n",
       "      <td>3</td>\n",
       "      <td>regular</td>\n",
       "      <td>0</td>\n",
       "      <td>generated</td>\n",
       "      <td>6</td>\n",
       "      <td>2018-01-01 07:00:06</td>\n",
       "      <td>-1</td>\n",
       "      <td>NaN</td>\n",
       "      <td>300</td>\n",
       "      <td>00:05:00</td>\n",
       "    </tr>\n",
       "  </tbody>\n",
       "</table>\n",
       "</div>"
      ],
      "text/plain": [
       "   id  priority     type  status_code     status  call_start_time  \\\n",
       "0   0         3  regular            0  generated                2   \n",
       "1   1         3  regular            0  generated                3   \n",
       "2   2         3  regular            0  generated                4   \n",
       "3   3         3  regular            0  generated                5   \n",
       "4   4         3  regular            0  generated                6   \n",
       "\n",
       "   call_start_time_dt  call_end_time  call_end_time_end  max_waiting_time  \\\n",
       "0 2018-01-01 07:00:02             -1                NaN               300   \n",
       "1 2018-01-01 07:00:03             -1                NaN               300   \n",
       "2 2018-01-01 07:00:04             -1                NaN               300   \n",
       "3 2018-01-01 07:00:05             -1                NaN               300   \n",
       "4 2018-01-01 07:00:06             -1                NaN               300   \n",
       "\n",
       "  max_waiting_time_dt  \n",
       "0            00:05:00  \n",
       "1            00:05:00  \n",
       "2            00:05:00  \n",
       "3            00:05:00  \n",
       "4            00:05:00  "
      ]
     },
     "execution_count": 23,
     "metadata": {},
     "output_type": "execute_result"
    }
   ],
   "source": [
    "client_ds = get_client_ds(env.client_mx, cl_columns)\n",
    "print(client_ds.shape)\n",
    "client_ds.head()"
   ]
  }
 ],
 "metadata": {
  "kernelspec": {
   "display_name": "Python 3",
   "language": "python",
   "name": "python3"
  },
  "language_info": {
   "codemirror_mode": {
    "name": "ipython",
    "version": 3
   },
   "file_extension": ".py",
   "mimetype": "text/x-python",
   "name": "python",
   "nbconvert_exporter": "python",
   "pygments_lexer": "ipython3",
   "version": "3.6.3"
  }
 },
 "nbformat": 4,
 "nbformat_minor": 2
}
