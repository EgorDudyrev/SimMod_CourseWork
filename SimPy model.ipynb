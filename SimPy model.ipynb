{
 "cells": [
  {
   "cell_type": "code",
   "execution_count": 1,
   "metadata": {
    "collapsed": true
   },
   "outputs": [],
   "source": [
    "import simpy as sp\n",
    "import numpy as np\n",
    "import pandas as pd\n",
    "\n",
    "import datetime as dt\n",
    "\n",
    "from tqdm import tqdm_notebook"
   ]
  },
  {
   "cell_type": "markdown",
   "metadata": {},
   "source": [
    "Simpy documentation - https://simpy.readthedocs.io/en/latest/contents.html "
   ]
  },
  {
   "cell_type": "markdown",
   "metadata": {},
   "source": [
    "## Useful functions"
   ]
  },
  {
   "cell_type": "code",
   "execution_count": 2,
   "metadata": {
    "collapsed": true
   },
   "outputs": [],
   "source": [
    "def add_client_to_matrix(matrix, priority, call_start_time):\n",
    "    data = np.array([-1]*matrix.shape[1])\n",
    "    id_ = len(matrix)\n",
    "    data[cl_columns_map['id']] = id_\n",
    "    data[cl_columns_map['priority']] = priority\n",
    "    data[cl_columns_map['call_start_time']] = call_start_time\n",
    "    data[cl_columns_map['max_waiting_time']] = 9*60\n",
    "    data[cl_columns_map['status']] = map_cl_status_code['generated']\n",
    "    return id_, np.append(matrix, [data], axis=0)"
   ]
  },
  {
   "cell_type": "code",
   "execution_count": 3,
   "metadata": {
    "collapsed": true
   },
   "outputs": [],
   "source": [
    "def add_operator_to_matrix(matrix, priority, start_work_time, work_duration=10*60):\n",
    "    data = np.array([-1]*matrix.shape[1])\n",
    "    id_ = len(matrix)\n",
    "    data[op_columns_map['id']] = id_\n",
    "    data[op_columns_map['priority']] = priority\n",
    "    data[op_columns_map['start_work_time']] = start_work_time\n",
    "    data[op_columns_map['work_duration']] = work_duration\n",
    "    return id_, np.append(matrix, [data], axis=0)"
   ]
  },
  {
   "cell_type": "code",
   "execution_count": 4,
   "metadata": {},
   "outputs": [],
   "source": [
    "def get_client_ds(matrix, columns):\n",
    "    client_ds = pd.DataFrame(matrix, columns=columns, dtype=np.int)\n",
    "    client_ds = client_ds.replace(-1,np.nan)\n",
    "    client_ds['status'] = client_ds['status'].transform(lambda x: map_code_cl_status[x])\n",
    "    client_ds['type'] = client_ds['priority'].transform(lambda x: {1:'gold',2:'silver',3:'regular'}[x])\n",
    "    client_ds = client_ds.drop('priority',axis=1)\n",
    "    client_ds['max_waiting_time_dt'] = client_ds['max_waiting_time'].transform(lambda x: dt.timedelta(seconds=x))\n",
    "    client_ds = client_ds.drop('max_waiting_time',axis=1)\n",
    "    \n",
    "    for i in ['call','block','queue','connect']:\n",
    "        client_ds[f'{i}_duration_time'] = client_ds[f'{i}_end_time']-client_ds[f'{i}_start_time']\n",
    "    \n",
    "    for i in ['call', 'block', 'queue', 'connect']:\n",
    "        for j in ['start','end','duration']:\n",
    "            client_ds[f'{i}_{j}_time_dt'] = client_ds[f'{i}_{j}_time'].transform(\n",
    "                lambda x: dt.timedelta(seconds=x) if x>=0 else None)\n",
    "            if j!='duration':\n",
    "                client_ds[f'{i}_{j}_time_dt'] = client_ds[f'{i}_{j}_time_dt']+dt.datetime(2018,1,1,7)\n",
    "            client_ds = client_ds.drop(f'{i}_{j}_time', axis=1)\n",
    "    \n",
    "    return client_ds"
   ]
  },
  {
   "cell_type": "code",
   "execution_count": 5,
   "metadata": {
    "collapsed": true
   },
   "outputs": [],
   "source": [
    "def get_operator_ds(matrix, columns):\n",
    "    operator_ds = pd.DataFrame(matrix, columns=columns, dtype=np.int)\n",
    "    operator_ds = operator_ds.replace(-1, np.nan)\n",
    "    operator_ds['type'] = operator_ds['priority'].transform(lambda x: {1:'gold',2:'silver',3:'regular'}[x])\n",
    "    operator_ds['end_work_time'] = operator_ds['start_work_time']+operator_ds['work_duration']\n",
    "    for i in ['start_work_time', 'end_work_time', 'work_duration']:\n",
    "            operator_ds[f'{i}_dt'] = operator_ds[i].transform(\n",
    "                lambda x: dt.timedelta(seconds=x) if x>=0 else None)\n",
    "            if 'duration' not in i:\n",
    "                operator_ds[f'{i}_dt'] = operator_ds[f'{i}_dt']+dt.datetime(2018,1,1,7)\n",
    "    \n",
    "    operator_ds = operator_ds.drop(['priority', 'start_work_time', 'work_duration', 'end_work_time'], axis=1)\n",
    "    return operator_ds"
   ]
  },
  {
   "cell_type": "markdown",
   "metadata": {},
   "source": [
    "# Data preparation"
   ]
  },
  {
   "cell_type": "code",
   "execution_count": 6,
   "metadata": {
    "collapsed": true
   },
   "outputs": [],
   "source": [
    "cl_statuses = ['generated', 'ask_for_line', 'get_line', 'no_lines', 'blocked',\n",
    "               'unblocked', 'drop_on_unblock', 'in_queue', 'drop_from_queue', 'connected',\n",
    "               'drop_success']\n",
    "map_cl_status_code = {s:idx for idx,s in enumerate(cl_statuses)}\n",
    "map_code_cl_status = {v:k for k,v in map_cl_status_code.items()}"
   ]
  },
  {
   "cell_type": "code",
   "execution_count": 7,
   "metadata": {
    "collapsed": true
   },
   "outputs": [],
   "source": [
    "cl_columns = ['id','priority','call_start_time','call_end_time','max_waiting_time','status',\n",
    "             'block_start_time', 'block_end_time',\n",
    "             'queue_start_time', 'queue_end_time',\n",
    "             'connect_start_time', 'connect_end_time', 'operator_id']\n",
    "cl_columns_map = {k:idx for idx,k in enumerate(cl_columns)}"
   ]
  },
  {
   "cell_type": "code",
   "execution_count": 8,
   "metadata": {
    "collapsed": true
   },
   "outputs": [],
   "source": [
    "op_columns = ['id', 'priority', 'start_work_time', 'work_duration']\n",
    "op_columns_map = {k:idx for idx,k in enumerate(op_columns)}\n",
    "op_mx = np.empty([0,len(op_columns)], dtype=np.int)\n",
    "for p, swt in [(3, 0),\n",
    "               (3, 10*60)]:\n",
    "    id_, op_mx = add_operator_to_matrix(op_mx, p, swt)"
   ]
  },
  {
   "cell_type": "code",
   "execution_count": 9,
   "metadata": {
    "collapsed": true
   },
   "outputs": [],
   "source": [
    "VERY_LONG_TIME = 12*60"
   ]
  },
  {
   "cell_type": "markdown",
   "metadata": {},
   "source": [
    "# Testing model"
   ]
  },
  {
   "cell_type": "code",
   "execution_count": 10,
   "metadata": {
    "collapsed": true
   },
   "outputs": [],
   "source": [
    "class Queue(sp.PriorityStore):\n",
    "    \n",
    "    get = sp.core.BoundClass(sp.resources.store.FilterStoreGet)\n",
    "    \"\"\"Request a to get an *item*, for which *filter* returns ``True``, out of\n",
    "    the store.\"\"\"\n",
    "\n",
    "    def _do_get(self, event):\n",
    "        for item in self.items:\n",
    "            if event.filter(item):\n",
    "                self.items.remove(item)\n",
    "                event.succeed(item)\n",
    "                break\n",
    "        return True"
   ]
  },
  {
   "cell_type": "code",
   "execution_count": 11,
   "metadata": {},
   "outputs": [],
   "source": [
    "class CallCenter(object):\n",
    "    def __init__(self, env, n_lines, n_vip_lines):\n",
    "        self.env = env\n",
    "        self.n_lines = n_lines\n",
    "        self.n_vip_lines = n_vip_lines\n",
    "        self.lines = sp.Resource(env, capacity=self.n_lines)\n",
    "        self.queue = Queue(env)\n",
    "\n",
    "    def request_line(self, client):\n",
    "        cl_id = client.id_\n",
    "        cl_priority =  client.get_mx_field('priority')\n",
    "        n_lines_to_give = self.n_lines-self.n_vip_lines if cl_priority==3 else self.n_lines\n",
    "        if self.lines.count<n_lines_to_give:\n",
    "            req = self.lines.request()\n",
    "            req.cl_id = cl_id\n",
    "            client.req = req\n",
    "            yield req\n",
    "            client.set_status('get_line')\n",
    "        else:\n",
    "            raise self.NoLinesAvailable()\n",
    "        yield self.env.process(self.put_to_queue(client))\n",
    "    \n",
    "    def release_line(self, client):\n",
    "        if client.id_ in [i.item.id_ for i in self.queue.items]:\n",
    "            yield self.queue.get(lambda x: x.item.id_==client.id_)\n",
    "        yield self.lines.release(client.req)\n",
    "    \n",
    "    def put_to_queue(self, client):\n",
    "        cl_id = client.id_\n",
    "        cl_priority = client.get_mx_field('priority')\n",
    "        if cl_priority == 3:\n",
    "            yield self.queue.put(sp.PriorityItem(cl_priority, client))\n",
    "            client.put_in_queue.succeed()\n",
    "            yield self.env.timeout(1)\n",
    "            # Если клиент всё ещё в очереди, то оцениваем время его ожидания\n",
    "            if client in [x.item for x in self.queue.items]:\n",
    "                yield self.queue.get(lambda x: x.item.id_==client.id_)\n",
    "                client.waiting_queue.interrupt()\n",
    "                self.env.process(self.block_client(client))\n",
    "        else:\n",
    "            self.env.process(self.block_client(client))\n",
    "            \n",
    "    def request_client(self, operator):\n",
    "        op_id = operator.id_\n",
    "        op_priority = self.env.op_mx[operator.id_, op_columns_map['priority']]\n",
    "        client = yield self.queue.get(lambda x: x.priority>=op_priority)\n",
    "        client = client.item\n",
    "        return client\n",
    "    \n",
    "    def block_client(self, client):\n",
    "        client.block.succeed()\n",
    "        cl_priority = client.get_mx_field('priority')\n",
    "        block_time = 7 if cl_priority == 3 else 10 \n",
    "        yield self.env.timeout(block_time)\n",
    "        ttw = self.estimate_wait_time(client)\n",
    "        dropped = yield self.env.process(client.decide_to_drop_unblock(time_to_wait=ttw))\n",
    "        if not dropped:\n",
    "            yield self.queue.put(sp.PriorityItem(cl_priority, client))\n",
    "            client.put_in_queue.succeed()\n",
    "    \n",
    "    def estimate_wait_time(self, client):\n",
    "        return 0  # For testing purposes only\n",
    "    \n",
    "    class NoLinesAvailable(sp.exceptions.SimPyException):\n",
    "        pass"
   ]
  },
  {
   "cell_type": "code",
   "execution_count": 12,
   "metadata": {
    "collapsed": true
   },
   "outputs": [],
   "source": [
    "class Client(object):\n",
    "    def __init__(self, env, id_):\n",
    "        self.env = env\n",
    "        self.id_ = id_\n",
    "        \n",
    "        self.put_in_queue, self.get_from_queue = env.event(), env.event()\n",
    "        self.block, self.unblock = env.event(), env.event()\n",
    "        self.connect, self.disconnect = env.event(), env.event()\n",
    "                \n",
    "        self.waiting_block = env.process(self.wait_in_block())\n",
    "        self.waiting_queue = env.process(self.wait_in_queue())\n",
    "        self.talking_proc = env.process(self.talk_with_operator())\n",
    "        self.action = env.process(self.call())\n",
    "    \n",
    "    def call(self):\n",
    "        cc = self.env.call_center\n",
    "        try:\n",
    "            self.set_status('ask_for_line')\n",
    "            yield self.env.process(cc.request_line(self))\n",
    "        except cc.NoLinesAvailable as e:\n",
    "            self.set_status('no_lines')\n",
    "            return\n",
    "    \n",
    "    def drop_call(self, status):\n",
    "        yield self.env.process(self.env.call_center.release_line(self))\n",
    "        self.set_mx_field('call_end_time', self.env.now)\n",
    "        self.set_status(status)\n",
    "    \n",
    "    def wait_in_queue(self):\n",
    "        while True:\n",
    "            yield self.put_in_queue\n",
    "            self.set_status('in_queue')\n",
    "            self.set_mx_field('queue_start_time', self.env.now)\n",
    "            try:\n",
    "                yield self.env.timeout(VERY_LONG_TIME)\n",
    "                yield self.env.process(self.drop_call('drop_from_queue'))\n",
    "            except sp.Interrupt: \n",
    "                pass\n",
    "            self.set_mx_field('queue_end_time', self.env.now)\n",
    "            self.put_in_queue = self.env.event()\n",
    "        \n",
    "    def wait_in_block(self):\n",
    "        yield self.block\n",
    "        self.set_status('blocked')\n",
    "        self.set_mx_field('block_start_time', self.env.now)\n",
    "        \n",
    "    def decide_to_drop_unblock(self, time_to_wait):\n",
    "        mwt = self.get_mx_field('max_waiting_time')\n",
    "        self.set_mx_field('block_end_time', self.env.now)\n",
    "        if time_to_wait > mwt:\n",
    "            yield self.env.process(self.drop_call('drop_on_unblock'))\n",
    "            return True\n",
    "        return False\n",
    "        \n",
    "    def talk_with_operator(self):\n",
    "        yield self.connect\n",
    "        self.waiting_queue.interrupt()\n",
    "        self.set_status('connected')\n",
    "        self.set_mx_field('connect_start_time', self.env.now)\n",
    "        yield self.disconnect\n",
    "        self.set_mx_field('connect_end_time', self.env.now)\n",
    "        yield self.env.process(self.drop_call('drop_success'))\n",
    "    \n",
    "    def set_mx_field(self, field, value):\n",
    "        self.env.client_mx[self.id_, cl_columns_map[field]] = value\n",
    "    \n",
    "    def set_status(self, status):\n",
    "        self.set_mx_field('status', map_cl_status_code[status])\n",
    "        \n",
    "    def set_call_end_time(self):\n",
    "        self.set_mx_field('call_end_time', self.env.now)\n",
    "    \n",
    "    def get_mx_field(self, field):\n",
    "        return self.env.client_mx[self.id_, cl_columns_map[field]]"
   ]
  },
  {
   "cell_type": "code",
   "execution_count": 13,
   "metadata": {
    "collapsed": true
   },
   "outputs": [],
   "source": [
    "class Operator(object):\n",
    "    def __init__(self, env, id_):\n",
    "        self.env = env\n",
    "        self.id_ = id_\n",
    "        \n",
    "        self.action = env.process(self.start_working())\n",
    "        \n",
    "    def start_working(self):\n",
    "        swt = self.env.op_mx[self.id_, op_columns_map['start_work_time']]\n",
    "        yield self.env.timeout(swt)\n",
    "        yield self.env.process(self.working())\n",
    "        \n",
    "    def working(self):\n",
    "        swt = self.env.op_mx[self.id_, op_columns_map['start_work_time']]\n",
    "        wd = self.env.op_mx[self.id_, op_columns_map['work_duration']]\n",
    "        while self.env.now<swt+wd:         \n",
    "            client = yield self.env.process(self.env.call_center.request_client(self))\n",
    "            client.set_mx_field('operator_id', self.id_)\n",
    "            client.connect.succeed()\n",
    "            yield self.env.timeout(1*60)\n",
    "            client.disconnect.succeed()"
   ]
  },
  {
   "cell_type": "code",
   "execution_count": 14,
   "metadata": {
    "collapsed": true
   },
   "outputs": [],
   "source": [
    "def client_generator(env):\n",
    "    while True:\n",
    "        if np.random.rand()<0.5:\n",
    "            id_, env.client_mx = add_client_to_matrix(env.client_mx, 3, env.now)\n",
    "            client = Client(env, id_)\n",
    "        yield env.timeout(1)"
   ]
  },
  {
   "cell_type": "code",
   "execution_count": 15,
   "metadata": {
    "collapsed": true
   },
   "outputs": [],
   "source": [
    "def init_env():\n",
    "    env = sp.Environment()\n",
    "    env.client_mx = np.empty([0,len(cl_columns)], dtype=np.int)\n",
    "    env.op_mx = op_mx\n",
    "    env.call_center = CallCenter(env, 2,0)\n",
    "    env.client_generator = env.process(client_generator(env))\n",
    "    env.operators = [Operator(env, id_) for id_ in op_mx[:,op_columns_map['id']]]\n",
    "    return env"
   ]
  },
  {
   "cell_type": "code",
   "execution_count": 16,
   "metadata": {},
   "outputs": [
    {
     "data": {
      "application/vnd.jupyter.widget-view+json": {
       "model_id": "b58586f9d59e4ff2b63bbe3bf384d2c9",
       "version_major": 2,
       "version_minor": 0
      },
      "text/plain": [
       "A Jupyter Widget"
      ]
     },
     "metadata": {},
     "output_type": "display_data"
    },
    {
     "name": "stdout",
     "output_type": "stream",
     "text": [
      "\n"
     ]
    }
   ],
   "source": [
    "env = init_env()\n",
    "for i in tqdm_notebook(range(20*60)):\n",
    "    env.run(until=i+1)"
   ]
  },
  {
   "cell_type": "code",
   "execution_count": 17,
   "metadata": {},
   "outputs": [
    {
     "name": "stdout",
     "output_type": "stream",
     "text": [
      "(606, 17)\n"
     ]
    },
    {
     "data": {
      "text/html": [
       "<div>\n",
       "<style>\n",
       "    .dataframe thead tr:only-child th {\n",
       "        text-align: right;\n",
       "    }\n",
       "\n",
       "    .dataframe thead th {\n",
       "        text-align: left;\n",
       "    }\n",
       "\n",
       "    .dataframe tbody tr th {\n",
       "        vertical-align: top;\n",
       "    }\n",
       "</style>\n",
       "<table border=\"1\" class=\"dataframe\">\n",
       "  <thead>\n",
       "    <tr style=\"text-align: right;\">\n",
       "      <th></th>\n",
       "      <th>id</th>\n",
       "      <th>status</th>\n",
       "      <th>operator_id</th>\n",
       "      <th>type</th>\n",
       "      <th>max_waiting_time_dt</th>\n",
       "      <th>call_start_time_dt</th>\n",
       "      <th>call_end_time_dt</th>\n",
       "      <th>call_duration_time_dt</th>\n",
       "      <th>block_start_time_dt</th>\n",
       "      <th>block_end_time_dt</th>\n",
       "      <th>block_duration_time_dt</th>\n",
       "      <th>queue_start_time_dt</th>\n",
       "      <th>queue_end_time_dt</th>\n",
       "      <th>queue_duration_time_dt</th>\n",
       "      <th>connect_start_time_dt</th>\n",
       "      <th>connect_end_time_dt</th>\n",
       "      <th>connect_duration_time_dt</th>\n",
       "    </tr>\n",
       "  </thead>\n",
       "  <tbody>\n",
       "    <tr>\n",
       "      <th>0</th>\n",
       "      <td>0</td>\n",
       "      <td>drop_success</td>\n",
       "      <td>0.0</td>\n",
       "      <td>regular</td>\n",
       "      <td>00:09:00</td>\n",
       "      <td>2018-01-01 07:00:00</td>\n",
       "      <td>2018-01-01 07:01:00</td>\n",
       "      <td>00:01:00</td>\n",
       "      <td>NaT</td>\n",
       "      <td>NaT</td>\n",
       "      <td>NaT</td>\n",
       "      <td>2018-01-01 07:00:00</td>\n",
       "      <td>2018-01-01 07:00:00</td>\n",
       "      <td>00:00:00</td>\n",
       "      <td>2018-01-01 07:00:00</td>\n",
       "      <td>2018-01-01 07:01:00</td>\n",
       "      <td>00:01:00</td>\n",
       "    </tr>\n",
       "    <tr>\n",
       "      <th>1</th>\n",
       "      <td>1</td>\n",
       "      <td>drop_success</td>\n",
       "      <td>0.0</td>\n",
       "      <td>regular</td>\n",
       "      <td>00:09:00</td>\n",
       "      <td>2018-01-01 07:00:03</td>\n",
       "      <td>2018-01-01 07:02:00</td>\n",
       "      <td>00:01:57</td>\n",
       "      <td>2018-01-01 07:00:04</td>\n",
       "      <td>2018-01-01 07:00:11</td>\n",
       "      <td>00:00:07</td>\n",
       "      <td>2018-01-01 07:00:11</td>\n",
       "      <td>2018-01-01 07:01:00</td>\n",
       "      <td>00:00:49</td>\n",
       "      <td>2018-01-01 07:01:00</td>\n",
       "      <td>2018-01-01 07:02:00</td>\n",
       "      <td>00:01:00</td>\n",
       "    </tr>\n",
       "    <tr>\n",
       "      <th>2</th>\n",
       "      <td>2</td>\n",
       "      <td>no_lines</td>\n",
       "      <td>NaN</td>\n",
       "      <td>regular</td>\n",
       "      <td>00:09:00</td>\n",
       "      <td>2018-01-01 07:00:04</td>\n",
       "      <td>NaT</td>\n",
       "      <td>NaT</td>\n",
       "      <td>NaT</td>\n",
       "      <td>NaT</td>\n",
       "      <td>NaT</td>\n",
       "      <td>NaT</td>\n",
       "      <td>NaT</td>\n",
       "      <td>NaT</td>\n",
       "      <td>NaT</td>\n",
       "      <td>NaT</td>\n",
       "      <td>NaT</td>\n",
       "    </tr>\n",
       "    <tr>\n",
       "      <th>3</th>\n",
       "      <td>3</td>\n",
       "      <td>no_lines</td>\n",
       "      <td>NaN</td>\n",
       "      <td>regular</td>\n",
       "      <td>00:09:00</td>\n",
       "      <td>2018-01-01 07:00:05</td>\n",
       "      <td>NaT</td>\n",
       "      <td>NaT</td>\n",
       "      <td>NaT</td>\n",
       "      <td>NaT</td>\n",
       "      <td>NaT</td>\n",
       "      <td>NaT</td>\n",
       "      <td>NaT</td>\n",
       "      <td>NaT</td>\n",
       "      <td>NaT</td>\n",
       "      <td>NaT</td>\n",
       "      <td>NaT</td>\n",
       "    </tr>\n",
       "    <tr>\n",
       "      <th>4</th>\n",
       "      <td>4</td>\n",
       "      <td>no_lines</td>\n",
       "      <td>NaN</td>\n",
       "      <td>regular</td>\n",
       "      <td>00:09:00</td>\n",
       "      <td>2018-01-01 07:00:07</td>\n",
       "      <td>NaT</td>\n",
       "      <td>NaT</td>\n",
       "      <td>NaT</td>\n",
       "      <td>NaT</td>\n",
       "      <td>NaT</td>\n",
       "      <td>NaT</td>\n",
       "      <td>NaT</td>\n",
       "      <td>NaT</td>\n",
       "      <td>NaT</td>\n",
       "      <td>NaT</td>\n",
       "      <td>NaT</td>\n",
       "    </tr>\n",
       "  </tbody>\n",
       "</table>\n",
       "</div>"
      ],
      "text/plain": [
       "   id        status  operator_id     type max_waiting_time_dt  \\\n",
       "0   0  drop_success          0.0  regular            00:09:00   \n",
       "1   1  drop_success          0.0  regular            00:09:00   \n",
       "2   2      no_lines          NaN  regular            00:09:00   \n",
       "3   3      no_lines          NaN  regular            00:09:00   \n",
       "4   4      no_lines          NaN  regular            00:09:00   \n",
       "\n",
       "   call_start_time_dt    call_end_time_dt call_duration_time_dt  \\\n",
       "0 2018-01-01 07:00:00 2018-01-01 07:01:00              00:01:00   \n",
       "1 2018-01-01 07:00:03 2018-01-01 07:02:00              00:01:57   \n",
       "2 2018-01-01 07:00:04                 NaT                   NaT   \n",
       "3 2018-01-01 07:00:05                 NaT                   NaT   \n",
       "4 2018-01-01 07:00:07                 NaT                   NaT   \n",
       "\n",
       "  block_start_time_dt   block_end_time_dt block_duration_time_dt  \\\n",
       "0                 NaT                 NaT                    NaT   \n",
       "1 2018-01-01 07:00:04 2018-01-01 07:00:11               00:00:07   \n",
       "2                 NaT                 NaT                    NaT   \n",
       "3                 NaT                 NaT                    NaT   \n",
       "4                 NaT                 NaT                    NaT   \n",
       "\n",
       "  queue_start_time_dt   queue_end_time_dt queue_duration_time_dt  \\\n",
       "0 2018-01-01 07:00:00 2018-01-01 07:00:00               00:00:00   \n",
       "1 2018-01-01 07:00:11 2018-01-01 07:01:00               00:00:49   \n",
       "2                 NaT                 NaT                    NaT   \n",
       "3                 NaT                 NaT                    NaT   \n",
       "4                 NaT                 NaT                    NaT   \n",
       "\n",
       "  connect_start_time_dt connect_end_time_dt connect_duration_time_dt  \n",
       "0   2018-01-01 07:00:00 2018-01-01 07:01:00                 00:01:00  \n",
       "1   2018-01-01 07:01:00 2018-01-01 07:02:00                 00:01:00  \n",
       "2                   NaT                 NaT                      NaT  \n",
       "3                   NaT                 NaT                      NaT  \n",
       "4                   NaT                 NaT                      NaT  "
      ]
     },
     "execution_count": 17,
     "metadata": {},
     "output_type": "execute_result"
    }
   ],
   "source": [
    "client_ds = get_client_ds(env.client_mx, cl_columns)\n",
    "print(client_ds.shape)\n",
    "client_ds.head()"
   ]
  },
  {
   "cell_type": "code",
   "execution_count": 18,
   "metadata": {},
   "outputs": [
    {
     "data": {
      "text/plain": [
       "no_lines        585\n",
       "drop_success     19\n",
       "connected         1\n",
       "in_queue          1\n",
       "Name: status, dtype: int64"
      ]
     },
     "execution_count": 18,
     "metadata": {},
     "output_type": "execute_result"
    }
   ],
   "source": [
    "client_ds['status'].value_counts()"
   ]
  },
  {
   "cell_type": "code",
   "execution_count": 19,
   "metadata": {},
   "outputs": [
    {
     "name": "stdout",
     "output_type": "stream",
     "text": [
      "(2, 5)\n"
     ]
    },
    {
     "data": {
      "text/html": [
       "<div>\n",
       "<style>\n",
       "    .dataframe thead tr:only-child th {\n",
       "        text-align: right;\n",
       "    }\n",
       "\n",
       "    .dataframe thead th {\n",
       "        text-align: left;\n",
       "    }\n",
       "\n",
       "    .dataframe tbody tr th {\n",
       "        vertical-align: top;\n",
       "    }\n",
       "</style>\n",
       "<table border=\"1\" class=\"dataframe\">\n",
       "  <thead>\n",
       "    <tr style=\"text-align: right;\">\n",
       "      <th></th>\n",
       "      <th>id</th>\n",
       "      <th>type</th>\n",
       "      <th>start_work_time_dt</th>\n",
       "      <th>end_work_time_dt</th>\n",
       "      <th>work_duration_dt</th>\n",
       "    </tr>\n",
       "  </thead>\n",
       "  <tbody>\n",
       "    <tr>\n",
       "      <th>0</th>\n",
       "      <td>0</td>\n",
       "      <td>regular</td>\n",
       "      <td>2018-01-01 07:00:00</td>\n",
       "      <td>2018-01-01 07:10:00</td>\n",
       "      <td>00:10:00</td>\n",
       "    </tr>\n",
       "    <tr>\n",
       "      <th>1</th>\n",
       "      <td>1</td>\n",
       "      <td>regular</td>\n",
       "      <td>2018-01-01 07:10:00</td>\n",
       "      <td>2018-01-01 07:20:00</td>\n",
       "      <td>00:10:00</td>\n",
       "    </tr>\n",
       "  </tbody>\n",
       "</table>\n",
       "</div>"
      ],
      "text/plain": [
       "   id     type  start_work_time_dt    end_work_time_dt work_duration_dt\n",
       "0   0  regular 2018-01-01 07:00:00 2018-01-01 07:10:00         00:10:00\n",
       "1   1  regular 2018-01-01 07:10:00 2018-01-01 07:20:00         00:10:00"
      ]
     },
     "execution_count": 19,
     "metadata": {},
     "output_type": "execute_result"
    }
   ],
   "source": [
    "op_ds = get_operator_ds(env.op_mx, op_columns)\n",
    "print(op_ds.shape)\n",
    "op_ds.head()"
   ]
  }
 ],
 "metadata": {
  "kernelspec": {
   "display_name": "Python 3",
   "language": "python",
   "name": "python3"
  },
  "language_info": {
   "codemirror_mode": {
    "name": "ipython",
    "version": 3
   },
   "file_extension": ".py",
   "mimetype": "text/x-python",
   "name": "python",
   "nbconvert_exporter": "python",
   "pygments_lexer": "ipython3",
   "version": "3.6.3"
  }
 },
 "nbformat": 4,
 "nbformat_minor": 2
}
