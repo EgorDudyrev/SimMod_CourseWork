{
 "cells": [
  {
   "cell_type": "code",
   "execution_count": 1,
   "metadata": {
    "collapsed": true
   },
   "outputs": [],
   "source": [
    "import simpy as sp\n",
    "import numpy as np\n",
    "import pandas as pd\n",
    "import matplotlib.pyplot as plt\n",
    "import seaborn as sns\n",
    "\n",
    "import datetime as dt\n",
    "from itertools import product\n",
    "\n",
    "from tqdm import tqdm_notebook"
   ]
  },
  {
   "cell_type": "markdown",
   "metadata": {},
   "source": [
    "Simpy documentation - https://simpy.readthedocs.io/en/latest/contents.html "
   ]
  },
  {
   "cell_type": "markdown",
   "metadata": {},
   "source": [
    "## Useful functions"
   ]
  },
  {
   "cell_type": "code",
   "execution_count": 2,
   "metadata": {
    "collapsed": true
   },
   "outputs": [],
   "source": [
    "def add_client_to_matrix(matrix, priority, call_start_time):\n",
    "    \"\"\"\n",
    "    Calling at client_generator\n",
    "    \"\"\"\n",
    "    data = np.array([-1]*matrix.shape[1])\n",
    "    id_ = len(matrix)\n",
    "    data[cl_columns_map['id']] = id_\n",
    "    data[cl_columns_map['priority']] = priority\n",
    "    data[cl_columns_map['call_start_time']] = call_start_time\n",
    "    mwt = np.random.triangular(12, np.mean([12,30]), 30) if priority==3 else np.random.triangular(8, np.mean([8,17]), 17)\n",
    "    data[cl_columns_map['max_waiting_time']] = dt.timedelta(minutes=mwt).seconds\n",
    "    data[cl_columns_map['status']] = map_cl_status_code['generated']\n",
    "    data[cl_columns_map['call_type']] = np.random.choice(calls_type_distr.index, p=calls_type_distr['p'])\n",
    "    return id_, np.append(matrix, [data], axis=0)"
   ]
  },
  {
   "cell_type": "code",
   "execution_count": 3,
   "metadata": {
    "collapsed": true
   },
   "outputs": [],
   "source": [
    "def set_op_mx(op_time_ds):\n",
    "    op_mx = np.empty([0,len(op_columns)], dtype=np.int)\n",
    "    for hour, row in op_time_ds.iterrows():\n",
    "        for t,n in row.iteritems():\n",
    "            for i in range(n):\n",
    "                p = {'gold':1, 'silver':2, 'regular':3}[t]\n",
    "                id_, op_mx = add_operator_to_matrix(op_mx, p, dt.timedelta(hours=int(hour)))\n",
    "    return op_mx"
   ]
  },
  {
   "cell_type": "code",
   "execution_count": 4,
   "metadata": {
    "collapsed": true
   },
   "outputs": [],
   "source": [
    "def add_operator_to_matrix(matrix, priority, start_work_time, work_duration=dt.timedelta(hours=8).seconds):\n",
    "    \"\"\"\n",
    "    Call manually when configuring operators shedule\n",
    "    \"\"\"\n",
    "    data = np.array([-1]*matrix.shape[1])\n",
    "    id_ = len(matrix)\n",
    "    data[op_columns_map['id']] = id_\n",
    "    data[op_columns_map['priority']] = priority\n",
    "    data[op_columns_map['start_work_time']] = (start_work_time-dt.timedelta(hours=7)).seconds\n",
    "    data[op_columns_map['work_duration']] = work_duration\n",
    "    data[op_columns_map['efficiency']] = {1:12, 2:5, 3:0}[priority]\n",
    "    return id_, np.append(matrix, [data], axis=0)"
   ]
  },
  {
   "cell_type": "code",
   "execution_count": 5,
   "metadata": {
    "collapsed": true
   },
   "outputs": [],
   "source": [
    "def get_client_ds(env):\n",
    "    \"\"\"\n",
    "    Get pretty DataFrame with all the clients information\n",
    "    \"\"\"\n",
    "    matrix = env.client_mx\n",
    "    client_ds = pd.DataFrame(matrix, columns=cl_columns, dtype=np.int)\n",
    "    client_ds = client_ds.replace(-1,np.nan)\n",
    "    client_ds['status'] = client_ds['status'].transform(lambda x: map_code_cl_status[x])\n",
    "    client_ds['type'] = client_ds['priority'].transform(lambda x: {1:'gold',2:'silver',3:'regular'}[x])\n",
    "    client_ds['call_type'] = client_ds['call_type'].transform(lambda x: calls_type_distr.at[x, 'type'])\n",
    "    client_ds = client_ds.drop('priority',axis=1)\n",
    "    client_ds['max_waiting_time_dt'] = client_ds['max_waiting_time'].transform(lambda x: dt.timedelta(seconds=x))\n",
    "    client_ds = client_ds.drop('max_waiting_time',axis=1)\n",
    "    \n",
    "    for i in ['call','block','queue','connect']:\n",
    "        client_ds[f'{i}_duration_time'] = client_ds[f'{i}_end_time']-client_ds[f'{i}_start_time']\n",
    "    \n",
    "    for i in ['call', 'block', 'queue', 'connect']:\n",
    "        for j in ['start','end','duration']:\n",
    "            client_ds[f'{i}_{j}_time_dt'] = client_ds[f'{i}_{j}_time'].transform(\n",
    "                lambda x: dt.timedelta(seconds=x) if x>=0 else None)\n",
    "            if j!='duration':\n",
    "                client_ds[f'{i}_{j}_time_dt'] = client_ds[f'{i}_{j}_time_dt']+dt.datetime(2018,1,1,7)\n",
    "            client_ds = client_ds.drop(f'{i}_{j}_time', axis=1)\n",
    "    \n",
    "    client_ds['hour'] = [x.hour for x in client_ds['call_start_time_dt']]\n",
    "    return client_ds"
   ]
  },
  {
   "cell_type": "code",
   "execution_count": 6,
   "metadata": {
    "collapsed": true
   },
   "outputs": [],
   "source": [
    "def get_operator_ds(env):\n",
    "    matrix = env.op_mx\n",
    "    operator_ds = pd.DataFrame(matrix, columns=op_columns, dtype=np.int)\n",
    "    operator_ds = operator_ds.replace(-1, np.nan)\n",
    "    operator_ds['type'] = operator_ds['priority'].transform(lambda x: {1:'gold',2:'silver',3:'regular'}[x])\n",
    "    operator_ds['efficiency'] = operator_ds['efficiency']/100\n",
    "    operator_ds['end_work_time'] = operator_ds['start_work_time']+operator_ds['work_duration']\n",
    "    for i in ['start_work_time', 'end_work_time', 'work_duration']:\n",
    "            operator_ds[f'{i}_dt'] = operator_ds[i].transform(\n",
    "                lambda x: dt.timedelta(seconds=x) if x>=0 else None)\n",
    "            if 'duration' not in i:\n",
    "                operator_ds[f'{i}_dt'] = operator_ds[f'{i}_dt']+dt.timedelta(hours=7)#dt.datetime(2018,1,1,7)\n",
    "    \n",
    "    operator_ds = operator_ds.drop(['priority', 'start_work_time', 'work_duration', 'end_work_time'], axis=1)\n",
    "    return operator_ds"
   ]
  },
  {
   "cell_type": "code",
   "execution_count": 7,
   "metadata": {
    "collapsed": true
   },
   "outputs": [],
   "source": [
    "def get_client_calls_distribution(client_ds):\n",
    "    call_numbers = client_ds.groupby(['type', 'hour'])['id'].count().to_frame()\n",
    "    call_numbers['type'] = [x[0] for x in call_numbers.index.values]\n",
    "    call_numbers['hour'] = [x[1] for x in call_numbers.index.values]\n",
    "    call_numbers.index = range(len(call_numbers))\n",
    "    call_numbers = call_numbers.pivot_table(columns=['type'], index=['hour'], values='id')\n",
    "    call_numbers = call_numbers.reindex(columns=['gold','silver','regular'])\n",
    "    return call_numbers"
   ]
  },
  {
   "cell_type": "code",
   "execution_count": 8,
   "metadata": {
    "collapsed": true
   },
   "outputs": [],
   "source": [
    "def plot_client_calls_distribution(calls_distribution, figsize=(15,5), colors=['gold','silver','black']):\n",
    "    plt.figure(figsize=figsize)\n",
    "    for idx, f in enumerate(calls_distribution.columns):\n",
    "        label = {0:'gold',1:'silver',2:'ordinary'}[idx]+' empirical'\n",
    "        plt.plot(calls_distribution[f]/3600, '-', label=label, color=colors[idx])\n",
    "    for idx, f in enumerate(call_frequency_ds.columns):\n",
    "        label = {0:'gold',1:'silver',2:'ordinary'}[idx]+' theoretical'\n",
    "        plt.plot(call_frequency_ds[f]/3600, '--', label=label, color=colors[idx])\n",
    "    plt.legend()\n",
    "    plt.title('Client calls distribution')\n",
    "    plt.ylabel('probability')\n",
    "    plt.xlabel('hour')\n",
    "    plt.show()"
   ]
  },
  {
   "cell_type": "code",
   "execution_count": 9,
   "metadata": {},
   "outputs": [],
   "source": [
    "def plot_call_types_distribution(client_ds, figsize=(8,4)):\n",
    "    plt.figure(figsize=figsize)\n",
    "    s = client_ds.groupby('call_type')['id'].count()/len(client_ds)\n",
    "    s = s.reindex(calls_type_distr['type'])\n",
    "    plt.bar(calls_type_distr.index-0.2, s, label='empirical', width=0.4)\n",
    "    plt.bar(calls_type_distr.index+0.2, calls_type_distr['p'], label='theoretical', width=0.4)\n",
    "    plt.title('Call types distribution')\n",
    "    plt.xticks(calls_type_distr.index, calls_type_distr['type'])\n",
    "    plt.ylim(0,1)\n",
    "    plt.ylabel('probability')\n",
    "    plt.legend()\n",
    "    plt.show()"
   ]
  },
  {
   "cell_type": "code",
   "execution_count": 10,
   "metadata": {
    "collapsed": true
   },
   "outputs": [],
   "source": [
    "def plot_connection_duration_distr(client_ds, figsize=(15,15)):\n",
    "    ds = client_ds[['call_type', 'connect_duration_time_dt', 'operator_id']].dropna()\n",
    "    ds = pd.merge(ds, op_ds, left_on='operator_id', right_on='id'\n",
    "                  ).drop(['id','operator_id'],axis=1).rename(columns={'type':'operator_type'})\n",
    "    ds['connect_duration_time_dt'] = [x.seconds for x in ds['connect_duration_time_dt']]\n",
    "    \n",
    "    plt.figure(figsize=figsize)\n",
    "    for op_type_id in range(3):\n",
    "        for call_type_id in range(3):\n",
    "            plt.subplot(3,3,op_type_id*3+call_type_id+1)\n",
    "            call_type = calls_type_distr.at[call_type_id, 'type']\n",
    "            op_type = {idx:t for idx,t in enumerate(['gold','silver','regular'])}[op_type_id]\n",
    "            plt.title(call_type)\n",
    "            plt.ylabel(op_type)\n",
    "            cds = ds[(ds['call_type']==call_type)&(ds['operator_type']==op_type)]\n",
    "            sns.distplot(cds['connect_duration_time_dt'],\n",
    "                         label='empirical')\n",
    "            stime, etime = calls_type_distr.loc[call_type_id, ['serv_time', 'extra_time']]\n",
    "            #stime = np.array(stime)+etime[0] #if etime is normal\n",
    "            stime = np.array(stime)+(etime[0]+etime[1])/2 #if etime is kind of triangular\n",
    "            op_eff = cds['efficiency'].values[0]\n",
    "            stime = stime*(1-op_eff)\n",
    "            h = 2/(stime[2]-stime[0])\n",
    "            plt.plot(stime, [0,h,0], label='theoretical')\n",
    "            plt.ylim(0, h*1.2)\n",
    "            plt.xlabel('connection duration (sec)')\n",
    "            \n",
    "            plt.text(cds['connect_duration_time_dt'].max()*0.85 ,h,'Calls amount: {}'.format(len(cds)))\n",
    "    plt.figlegend()\n",
    "    plt.suptitle('Connection duration distributions', size=18)\n",
    "    plt.tight_layout()\n",
    "    plt.subplots_adjust(top=0.92)\n",
    "    plt.show()"
   ]
  },
  {
   "cell_type": "code",
   "execution_count": 11,
   "metadata": {
    "collapsed": true
   },
   "outputs": [],
   "source": [
    "def plot_clients_success(client_ds, figsize=(15,5)):\n",
    "    cds = client_ds[['type']].rename(columns={'type':'client_type'})\n",
    "    cds['success'] = client_ds['status'].isin(['drop_success','connected'])\n",
    "    cds['hour'] = [x.hour if x else None for x in client_ds['call_start_time_dt']]\n",
    "    cds = cds.pivot_table(index='client_type', columns='hour', values='success', aggfunc='mean').reindex(['gold','silver','regular'])\n",
    "    plt.figure(figsize=figsize)\n",
    "    sns.heatmap(cds, vmin=0, vmax=1, cmap='Greens', square=True, annot=True, fmt='.2%')\n",
    "    plt.title('Successed clients')\n",
    "    plt.show()"
   ]
  },
  {
   "cell_type": "code",
   "execution_count": 12,
   "metadata": {
    "collapsed": true
   },
   "outputs": [],
   "source": [
    "def plot_clients_no_lines(client_ds, figsize=(15,5)):\n",
    "    cds = client_ds[['type']].rename(columns={'type':'client_type'})\n",
    "    cds['client_type'] = cds['client_type'].transform(lambda x:'vip' if x != 'regular' else x)\n",
    "    cds['no_lines'] = client_ds['status']=='no_lines'\n",
    "    cds['hour'] = [x.hour if x else None for x in client_ds['call_start_time_dt']]\n",
    "    \n",
    "    plt.figure(figsize=figsize)\n",
    "    grid = plt.GridSpec(1, 4, wspace=0.4, hspace=0.3,)\n",
    "    plt.subplot(grid[:3])\n",
    "    sns.heatmap(cds.pivot_table(index='client_type', columns='hour', values='no_lines', aggfunc='mean').reindex(['vip','regular']),\n",
    "                vmin=0, vmax=1, cmap='Greens_r', square=True, center=0.02, annot=True, fmt='.2%', cbar=False)\n",
    "    plt.subplot(grid[3])\n",
    "    sns.heatmap(cds.groupby('client_type')['no_lines'].mean().to_frame().reindex(['vip','regular']),\n",
    "                vmin=0, vmax=1, cmap='Greens_r', square=True, center=0.02, annot=True, fmt='.2%')\n",
    "    plt.suptitle('Clients got no_lines')\n",
    "    plt.show()"
   ]
  },
  {
   "cell_type": "code",
   "execution_count": 13,
   "metadata": {
    "collapsed": true
   },
   "outputs": [],
   "source": [
    "def plot_clients_waitings(client_ds, figsize=(15,5)):\n",
    "    cds = client_ds[['type', 'call_start_time_dt', 'queue_duration_time_dt']].rename(columns={'type':'client_type'}).dropna()\n",
    "    cds['hour'] = [x.hour if x else None for x in cds['call_start_time_dt']]\n",
    "    cds['duration'] = [x.seconds for x in cds['queue_duration_time_dt']]\n",
    "    cds['limit_time_wait'] = cds['client_type'].transform(lambda x: {'gold':90, 'silver':180, 'regular':900}[x])\n",
    "    cds['less_then_limit'] = cds['duration']<cds['limit_time_wait']\n",
    "    \n",
    "    plt.figure(figsize=figsize)\n",
    "    grid = plt.GridSpec(1, 4, wspace=0.4, hspace=0.3,)\n",
    "    plt.subplot(grid[:3])\n",
    "    sns.heatmap(cds.pivot_table(index='client_type', columns='hour', values='less_then_limit', aggfunc='mean').reindex(['gold','silver','regular']),\n",
    "                vmin=0, vmax=1, cmap='Greens', square=True, annot=True, fmt='.2%', cbar=False)\n",
    "    plt.subplot(grid[3])\n",
    "    sns.heatmap(cds.groupby('client_type')['less_then_limit'].mean().to_frame().reindex(['gold','silver','regular']),\n",
    "                vmin=0, vmax=1, cmap='Greens', square=True, annot=True, fmt='.2%')\n",
    "\n",
    "    plt.suptitle('Clients waiting less then limit')\n",
    "    plt.show()"
   ]
  },
  {
   "cell_type": "code",
   "execution_count": 14,
   "metadata": {
    "collapsed": true
   },
   "outputs": [],
   "source": [
    "def get_simulation_stat(client_ds, op_ds):\n",
    "    gold_queue_waiting = (client_ds[client_ds['type']=='gold']['queue_duration_time_dt'].dropna()<dt.timedelta(seconds=90)).mean()\n",
    "    silver_queue_waiting = (client_ds[client_ds['type']=='silver']['queue_duration_time_dt'].dropna()<dt.timedelta(minutes=3)).mean()\n",
    "    regular_queue_waiting = (client_ds[client_ds['type']=='regular']['queue_duration_time_dt'].dropna()<dt.timedelta(minutes=15)).mean()\n",
    "\n",
    "    vip_no_lines = (client_ds[client_ds['type'].isin(['gold','silver'])]['status']=='no_lines').mean()\n",
    "    regular_no_lines = (client_ds[client_ds['type']=='regular']['status']=='no_lines').mean()\n",
    "    \n",
    "    op_ds['salary'] = op_ds['type'].transform(lambda x: {'regular': 400, 'silver':500, 'gold':600}[x])\n",
    "    op_ds['salary'] = op_ds['salary']*[x.seconds//3600 for x in op_ds['work_duration_dt']]\n",
    "    \n",
    "    cost = op_ds['salary'].sum() + max(n_lines-50,0)*2000\n",
    "    \n",
    "    sim_data = {\n",
    "        'n_lines':n_lines, 'n_vip_lines': n_vip_lines, 'cost':cost,\n",
    "        'vip_no_lines': vip_no_lines, 'regular_no_lines': regular_no_lines,\n",
    "        'gold_wait': gold_queue_waiting, 'silver_wait': silver_queue_waiting, 'regular_wait': regular_queue_waiting\n",
    "    }\n",
    "    sim_data = dict(sim_data,\n",
    "        **{k:v for v,k in zip(op_time_ds.values.flatten(), [f'{t}_{h}' for h,t in product(op_time_ds.index, op_time_ds.columns,)])},\n",
    "        )\n",
    "    return sim_data"
   ]
  },
  {
   "cell_type": "markdown",
   "metadata": {},
   "source": [
    "# Data preparation"
   ]
  },
  {
   "cell_type": "code",
   "execution_count": 15,
   "metadata": {
    "collapsed": true
   },
   "outputs": [],
   "source": [
    "cl_statuses = ['generated', 'ask_for_line', 'get_line', 'no_lines', 'blocked',\n",
    "               'unblocked', 'drop_on_unblock', 'in_queue', 'drop_from_queue', 'connected',\n",
    "               'drop_success']\n",
    "map_cl_status_code = {s:idx for idx,s in enumerate(cl_statuses)}\n",
    "map_code_cl_status = {v:k for k,v in map_cl_status_code.items()}"
   ]
  },
  {
   "cell_type": "code",
   "execution_count": 16,
   "metadata": {
    "collapsed": true
   },
   "outputs": [],
   "source": [
    "cl_columns = ['id','priority','call_start_time','call_end_time','max_waiting_time','status', 'call_type',\n",
    "             'block_start_time', 'block_end_time',\n",
    "             'queue_start_time', 'queue_end_time',\n",
    "             'connect_start_time', 'connect_end_time', 'operator_id']\n",
    "cl_columns_map = {k:idx for idx,k in enumerate(cl_columns)}"
   ]
  },
  {
   "cell_type": "code",
   "execution_count": 17,
   "metadata": {},
   "outputs": [],
   "source": [
    "op_columns = ['id', 'priority', 'efficiency', 'start_work_time', 'work_duration']\n",
    "op_columns_map = {k:idx for idx,k in enumerate(op_columns)}"
   ]
  },
  {
   "cell_type": "code",
   "execution_count": 18,
   "metadata": {},
   "outputs": [
    {
     "data": {
      "text/html": [
       "<div>\n",
       "<style>\n",
       "    .dataframe thead tr:only-child th {\n",
       "        text-align: right;\n",
       "    }\n",
       "\n",
       "    .dataframe thead th {\n",
       "        text-align: left;\n",
       "    }\n",
       "\n",
       "    .dataframe tbody tr th {\n",
       "        vertical-align: top;\n",
       "    }\n",
       "</style>\n",
       "<table border=\"1\" class=\"dataframe\">\n",
       "  <thead>\n",
       "    <tr style=\"text-align: right;\">\n",
       "      <th></th>\n",
       "      <th>gold_clients</th>\n",
       "      <th>silver_clients</th>\n",
       "      <th>regular_clients</th>\n",
       "    </tr>\n",
       "    <tr>\n",
       "      <th>time_range</th>\n",
       "      <th></th>\n",
       "      <th></th>\n",
       "      <th></th>\n",
       "    </tr>\n",
       "  </thead>\n",
       "  <tbody>\n",
       "    <tr>\n",
       "      <th>7</th>\n",
       "      <td>28.48</td>\n",
       "      <td>60.52</td>\n",
       "      <td>87</td>\n",
       "    </tr>\n",
       "    <tr>\n",
       "      <th>8</th>\n",
       "      <td>77.76</td>\n",
       "      <td>165.24</td>\n",
       "      <td>165</td>\n",
       "    </tr>\n",
       "    <tr>\n",
       "      <th>9</th>\n",
       "      <td>70.72</td>\n",
       "      <td>150.28</td>\n",
       "      <td>236</td>\n",
       "    </tr>\n",
       "    <tr>\n",
       "      <th>10</th>\n",
       "      <td>57.60</td>\n",
       "      <td>122.40</td>\n",
       "      <td>323</td>\n",
       "    </tr>\n",
       "    <tr>\n",
       "      <th>11</th>\n",
       "      <td>96.32</td>\n",
       "      <td>204.68</td>\n",
       "      <td>277</td>\n",
       "    </tr>\n",
       "    <tr>\n",
       "      <th>12</th>\n",
       "      <td>156.80</td>\n",
       "      <td>333.20</td>\n",
       "      <td>440</td>\n",
       "    </tr>\n",
       "    <tr>\n",
       "      <th>13</th>\n",
       "      <td>126.08</td>\n",
       "      <td>267.92</td>\n",
       "      <td>269</td>\n",
       "    </tr>\n",
       "    <tr>\n",
       "      <th>14</th>\n",
       "      <td>111.04</td>\n",
       "      <td>235.96</td>\n",
       "      <td>342</td>\n",
       "    </tr>\n",
       "    <tr>\n",
       "      <th>15</th>\n",
       "      <td>76.80</td>\n",
       "      <td>163.20</td>\n",
       "      <td>175</td>\n",
       "    </tr>\n",
       "    <tr>\n",
       "      <th>16</th>\n",
       "      <td>86.08</td>\n",
       "      <td>182.92</td>\n",
       "      <td>273</td>\n",
       "    </tr>\n",
       "    <tr>\n",
       "      <th>17</th>\n",
       "      <td>46.40</td>\n",
       "      <td>98.60</td>\n",
       "      <td>115</td>\n",
       "    </tr>\n",
       "    <tr>\n",
       "      <th>18</th>\n",
       "      <td>22.08</td>\n",
       "      <td>46.92</td>\n",
       "      <td>56</td>\n",
       "    </tr>\n",
       "  </tbody>\n",
       "</table>\n",
       "</div>"
      ],
      "text/plain": [
       "            gold_clients  silver_clients  regular_clients\n",
       "time_range                                               \n",
       "7                  28.48           60.52               87\n",
       "8                  77.76          165.24              165\n",
       "9                  70.72          150.28              236\n",
       "10                 57.60          122.40              323\n",
       "11                 96.32          204.68              277\n",
       "12                156.80          333.20              440\n",
       "13                126.08          267.92              269\n",
       "14                111.04          235.96              342\n",
       "15                 76.80          163.20              175\n",
       "16                 86.08          182.92              273\n",
       "17                 46.40           98.60              115\n",
       "18                 22.08           46.92               56"
      ]
     },
     "execution_count": 18,
     "metadata": {},
     "output_type": "execute_result"
    }
   ],
   "source": [
    "call_frequency_ds = pd.DataFrame()\n",
    "call_frequency_ds['time_range'] = range(7,19)\n",
    "call_frequency_ds['regular_clients'] = [87, 165, 236, 323, 277, 440, 269, 342, 175, 273, 115,  56]\n",
    "call_frequency_ds['vip_clients'] = [89, 243, 221, 180, 301, 490, 394, 347, 240, 269, 145,  69]\n",
    "call_frequency_ds['silver_clients'] = 0.68*call_frequency_ds['vip_clients']\n",
    "call_frequency_ds['gold_clients'] = call_frequency_ds['vip_clients']-call_frequency_ds['silver_clients']\n",
    "call_frequency_ds.index = call_frequency_ds['time_range']\n",
    "call_frequency_ds = call_frequency_ds.reindex(columns=['gold_clients', 'silver_clients', 'regular_clients'])\n",
    "call_frequency_ds"
   ]
  },
  {
   "cell_type": "code",
   "execution_count": 19,
   "metadata": {},
   "outputs": [
    {
     "data": {
      "text/html": [
       "<div>\n",
       "<style>\n",
       "    .dataframe thead tr:only-child th {\n",
       "        text-align: right;\n",
       "    }\n",
       "\n",
       "    .dataframe thead th {\n",
       "        text-align: left;\n",
       "    }\n",
       "\n",
       "    .dataframe tbody tr th {\n",
       "        vertical-align: top;\n",
       "    }\n",
       "</style>\n",
       "<table border=\"1\" class=\"dataframe\">\n",
       "  <thead>\n",
       "    <tr style=\"text-align: right;\">\n",
       "      <th></th>\n",
       "      <th>type</th>\n",
       "      <th>type_rus</th>\n",
       "      <th>p</th>\n",
       "      <th>serv_time</th>\n",
       "      <th>extra_time</th>\n",
       "    </tr>\n",
       "  </thead>\n",
       "  <tbody>\n",
       "    <tr>\n",
       "      <th>0</th>\n",
       "      <td>info</td>\n",
       "      <td>Информация</td>\n",
       "      <td>0.16</td>\n",
       "      <td>[72, 123, 225]</td>\n",
       "      <td>[3, 6]</td>\n",
       "    </tr>\n",
       "    <tr>\n",
       "      <th>1</th>\n",
       "      <td>book</td>\n",
       "      <td>Бронь</td>\n",
       "      <td>0.76</td>\n",
       "      <td>[135, 177, 516]</td>\n",
       "      <td>[30, 48]</td>\n",
       "    </tr>\n",
       "    <tr>\n",
       "      <th>2</th>\n",
       "      <td>rebook</td>\n",
       "      <td>Перебронь</td>\n",
       "      <td>0.08</td>\n",
       "      <td>[72, 114, 348]</td>\n",
       "      <td>[24, 36]</td>\n",
       "    </tr>\n",
       "  </tbody>\n",
       "</table>\n",
       "</div>"
      ],
      "text/plain": [
       "     type    type_rus     p        serv_time extra_time\n",
       "0    info  Информация  0.16   [72, 123, 225]     [3, 6]\n",
       "1    book       Бронь  0.76  [135, 177, 516]   [30, 48]\n",
       "2  rebook   Перебронь  0.08   [72, 114, 348]   [24, 36]"
      ]
     },
     "execution_count": 19,
     "metadata": {},
     "output_type": "execute_result"
    }
   ],
   "source": [
    "calls_type_distr = pd.DataFrame([['info', 'Информация', 0.16, (1.2, 2.05, 3.75), (0.05, 0.1)],\n",
    "                                 ['book', 'Бронь', 0.76, (2.25, 2.95, 8.6), (0.5, 0.8)],\n",
    "                                 ['rebook', 'Перебронь', 0.08, (1.2, 1.9, 5.8), (0.4, 0.6)]],\n",
    "                                columns=['type', 'type_rus', 'p', 'serv_time', 'extra_time'])\n",
    "calls_type_distr['serv_time'] = [[dt.timedelta(minutes=y).seconds for y in x] for x in calls_type_distr['serv_time']]\n",
    "calls_type_distr['extra_time'] = [[dt.timedelta(minutes=y).seconds for y in x] for x in calls_type_distr['extra_time']]\n",
    "calls_type_distr"
   ]
  },
  {
   "cell_type": "code",
   "execution_count": 20,
   "metadata": {},
   "outputs": [],
   "source": [
    "try:\n",
    "    simulation_ds = pd.read_csv('simulation_ds.csv', index_col=0)\n",
    "except:\n",
    "    simulation_ds = pd.DataFrame(columns=[\n",
    "    'n_lines', 'n_vip_lines', 'cost',\n",
    "    'gold_wait', 'silver_wait', 'regular_wait',\n",
    "    'vip_no_lines', 'regular_no_lines',\n",
    "    'gold_7', 'gold_8', 'gold_9', 'gold_10', 'gold_11',\n",
    "    'silver_7', 'silver_8', 'silver_9', 'silver_10', 'silver_11',\n",
    "    'regular_7', 'regular_8', 'regular_9', 'regular_10', 'regular_11',\n",
    "    ])"
   ]
  },
  {
   "cell_type": "markdown",
   "metadata": {},
   "source": [
    "# Set model"
   ]
  },
  {
   "cell_type": "code",
   "execution_count": 21,
   "metadata": {
    "collapsed": true
   },
   "outputs": [],
   "source": [
    "class Queue(sp.PriorityStore):\n",
    "    \"\"\"\n",
    "    Queue where clients are waiting till operators catch them.\n",
    "    Combination of simpy PriorityStore and FilterStore.\n",
    "    When calling get(filter) it return item (client) with least priority (the most important) who matches filter\n",
    "    \"\"\"\n",
    "    get = sp.core.BoundClass(sp.resources.store.FilterStoreGet)\n",
    "    \"\"\"Request a to get an *item*, for which *filter* returns ``True``, out of\n",
    "    the store.\"\"\"\n",
    "\n",
    "    def _do_get(self, event):\n",
    "        for item in self.items:\n",
    "            if event.filter(item):\n",
    "                self.items.remove(item)\n",
    "                event.succeed(item)\n",
    "                break\n",
    "        return True"
   ]
  },
  {
   "cell_type": "code",
   "execution_count": 22,
   "metadata": {
    "collapsed": true
   },
   "outputs": [],
   "source": [
    "class CallCenter(object):\n",
    "    def __init__(self, env, n_lines, n_vip_lines):\n",
    "        self.env = env\n",
    "        self.n_lines = n_lines\n",
    "        self.n_vip_lines = n_vip_lines\n",
    "        self.lines = sp.Resource(env, capacity=self.n_lines)\n",
    "        self.queue = Queue(env)\n",
    "\n",
    "    def request_line(self, client):\n",
    "        \"\"\"\n",
    "        Execute when client starts calling\n",
    "        \"\"\"\n",
    "        cl_id = client.id_\n",
    "        cl_priority =  client.get_mx_field('priority')\n",
    "        n_lines_to_give = self.n_lines-self.n_vip_lines if cl_priority==3 else self.n_lines\n",
    "        if self.lines.count<n_lines_to_give:\n",
    "            req = self.lines.request()\n",
    "            req.cl_id = cl_id\n",
    "            client.req = req\n",
    "            yield req\n",
    "            client.set_status('get_line')\n",
    "        else:\n",
    "            raise self.NoLinesAvailable()\n",
    "        yield self.env.process(self.put_to_queue(client))\n",
    "    \n",
    "    def release_line(self, client):\n",
    "        \"\"\"\n",
    "        Execute when client dropped the phone\n",
    "        \"\"\"\n",
    "        if client.id_ in [i.item.id_ for i in self.queue.items]:\n",
    "            yield self.queue.get(lambda x: x.item.id_==client.id_)\n",
    "        yield self.lines.release(client.req)\n",
    "    \n",
    "    def put_to_queue(self, client):\n",
    "        cl_id = client.id_\n",
    "        cl_priority = client.get_mx_field('priority')\n",
    "        if cl_priority == 3:\n",
    "            yield self.queue.put(sp.PriorityItem(cl_priority, client))\n",
    "            client.put_in_queue.succeed()\n",
    "            yield self.env.timeout(1)\n",
    "            # If client is still in queue, estimate its waiting time\n",
    "            if client in [x.item for x in self.queue.items]:\n",
    "                yield self.queue.get(lambda x: x.item.id_==client.id_)\n",
    "                client.waiting_queue.interrupt()\n",
    "                self.env.process(self.block_client(client))\n",
    "        else:\n",
    "            self.env.process(self.block_client(client))\n",
    "            \n",
    "    def request_client(self, operator):\n",
    "        \"\"\"\n",
    "        Execute when operator is freed and ready to take another client\n",
    "        \"\"\"\n",
    "        op_id = operator.id_\n",
    "        op_priority = operator.get_mx_field('priority')\n",
    "        client = yield self.queue.get(lambda cl: cl.priority<=op_priority)\n",
    "        client = client.item\n",
    "        return client\n",
    "    \n",
    "    def block_client(self, client):\n",
    "        \"\"\"\n",
    "        Execute when client should be blocked.\n",
    "        For regular clients: \"blocking\" is when system \"estimates\" time for client to wait in queue\n",
    "        For vip clients: \"blocking\" is \"entering\" vip card ids\n",
    "        \"\"\"\n",
    "        client.block.succeed()\n",
    "        cl_priority = client.get_mx_field('priority')\n",
    "        if cl_priority == 3:\n",
    "            block_time = 7\n",
    "        else:\n",
    "            block_time = int(round(np.random.uniform(7,16),0))\n",
    "        yield self.env.timeout(block_time)\n",
    "        ttw = self.estimate_wait_time(client)\n",
    "        dropped = yield self.env.process(client.decide_to_drop_unblock(time_to_wait=ttw))\n",
    "        if not dropped:\n",
    "            yield self.queue.put(sp.PriorityItem(cl_priority, client))\n",
    "            client.put_in_queue.succeed()\n",
    "    \n",
    "    def estimate_wait_time(self, client):\n",
    "        \"\"\"\n",
    "        Function to estimate how much time client will wait in queue\n",
    "        \"\"\"\n",
    "        return 0  # For testing purposes only\n",
    "    \n",
    "    class NoLinesAvailable(sp.exceptions.SimPyException):\n",
    "        \"\"\"\n",
    "        Special exception saying there no free phone lines that client cat occupy\n",
    "        \"\"\"\n",
    "        pass"
   ]
  },
  {
   "cell_type": "code",
   "execution_count": 23,
   "metadata": {
    "collapsed": true
   },
   "outputs": [],
   "source": [
    "class Client(object):\n",
    "    def __init__(self, env, id_):\n",
    "        self.env = env\n",
    "        self.id_ = id_\n",
    "        \n",
    "        self.put_in_queue, self.get_from_queue = env.event(), env.event()\n",
    "        self.block, self.unblock = env.event(), env.event()\n",
    "        self.connect, self.disconnect = env.event(), env.event()\n",
    "                \n",
    "        self.waiting_block = env.process(self.wait_in_block())\n",
    "        self.waiting_queue = env.process(self.wait_in_queue())\n",
    "        self.talking_proc = env.process(self.talk_with_operator())\n",
    "        self.action = env.process(self.call())\n",
    "    \n",
    "    def call(self):\n",
    "        \"\"\"\n",
    "        When client is just generated and calling to system\n",
    "        \"\"\"\n",
    "        cc = self.env.call_center\n",
    "        try:\n",
    "            self.set_status('ask_for_line')\n",
    "            yield self.env.process(cc.request_line(self))\n",
    "        except cc.NoLinesAvailable as e:\n",
    "            self.set_status('no_lines')\n",
    "            return\n",
    "    \n",
    "    def drop_call(self, status):\n",
    "        \"\"\"\n",
    "        When client wants to drop the phone by some reason given in 'status'\n",
    "        \"\"\"\n",
    "        yield self.env.process(self.env.call_center.release_line(self))\n",
    "        self.set_mx_field('call_end_time', self.env.now)\n",
    "        self.set_status(status)\n",
    "    \n",
    "    def wait_in_queue(self):\n",
    "        \"\"\"\n",
    "        When client waiting in queue till he/she decide to drop the phone\n",
    "        \"\"\"\n",
    "        while True:\n",
    "            yield self.put_in_queue\n",
    "            self.set_status('in_queue')\n",
    "            self.set_mx_field('queue_start_time', self.env.now)\n",
    "            try:\n",
    "                prio = self.get_mx_field('priority')\n",
    "                mqwt = {1:3, 2:6, 3:30}[prio]\n",
    "                mqwt = dt.timedelta(minutes=mqwt).seconds #CHANGE TO WHAT? TASK VALUES ARE FOR OTHER MEASURES\n",
    "                yield self.env.timeout(mqwt)\n",
    "                yield self.env.process(self.drop_call('drop_from_queue'))\n",
    "            except sp.Interrupt: \n",
    "                pass\n",
    "            self.set_mx_field('queue_end_time', self.env.now)\n",
    "            self.put_in_queue = self.env.event()\n",
    "        \n",
    "    def wait_in_block(self):\n",
    "        \"\"\"\n",
    "        When client is blocked and \"do\" something mentioned in CallCenter.block_client()\n",
    "        \"\"\"\n",
    "        yield self.block\n",
    "        self.set_status('blocked')\n",
    "        self.set_mx_field('block_start_time', self.env.now)\n",
    "        \n",
    "    def decide_to_drop_unblock(self, time_to_wait):\n",
    "        \"\"\"\n",
    "        When client is told how much time he/she will wait in queue\n",
    "        \"\"\"\n",
    "        mwt = self.get_mx_field('max_waiting_time')\n",
    "        self.set_mx_field('block_end_time', self.env.now)\n",
    "        if time_to_wait > mwt:\n",
    "            yield self.env.process(self.drop_call('drop_on_unblock'))\n",
    "            return True\n",
    "        return False\n",
    "        \n",
    "    def talk_with_operator(self):\n",
    "        \"\"\"\n",
    "        When client is connected with operator and \"talks\" with him/her\n",
    "        \"\"\"\n",
    "        yield self.connect\n",
    "        self.waiting_queue.interrupt()\n",
    "        self.set_status('connected')\n",
    "        self.set_mx_field('connect_start_time', self.env.now)\n",
    "        yield self.disconnect\n",
    "        self.set_mx_field('connect_end_time', self.env.now)\n",
    "        yield self.env.process(self.drop_call('drop_success'))\n",
    "    \n",
    "    def set_mx_field(self, field, value):\n",
    "        \"\"\"\n",
    "        Function for code to be more readable\n",
    "        \"\"\"\n",
    "        self.env.client_mx[self.id_, cl_columns_map[field]] = value \n",
    "    \n",
    "    def set_status(self, status):\n",
    "        \"\"\"\n",
    "        Function for code to be more readable\n",
    "        \"\"\"\n",
    "        self.set_mx_field('status', map_cl_status_code[status])\n",
    "        \n",
    "    def set_call_end_time(self):\n",
    "        \"\"\"\n",
    "        Function for code to be more readable\n",
    "        \"\"\"\n",
    "        self.set_mx_field('call_end_time', self.env.now)\n",
    "    \n",
    "    def get_mx_field(self, field):\n",
    "        \"\"\"\n",
    "        Function for code to be more readable\n",
    "        \"\"\"\n",
    "        return self.env.client_mx[self.id_, cl_columns_map[field]]"
   ]
  },
  {
   "cell_type": "code",
   "execution_count": 24,
   "metadata": {
    "collapsed": true
   },
   "outputs": [],
   "source": [
    "class Operator(object):\n",
    "    def __init__(self, env, id_):\n",
    "        self.env = env\n",
    "        self.id_ = id_\n",
    "        \n",
    "        self.action = env.process(self.start_working())\n",
    "        \n",
    "    def start_working(self):\n",
    "        swt = self.get_mx_field('start_work_time')\n",
    "        yield self.env.timeout(swt)\n",
    "        yield self.env.process(self.working())\n",
    "        \n",
    "    def working(self):\n",
    "        swt, wd = [self.get_mx_field(f) for f in ['start_work_time', 'work_duration']]\n",
    "        while self.env.now<swt+wd:         \n",
    "            client = yield self.env.process(self.env.call_center.request_client(self))\n",
    "            client.set_mx_field('operator_id', self.id_)\n",
    "            client.connect.succeed()\n",
    "            call_t = client.get_mx_field('call_type')\n",
    "            serv_t, extr_t = calls_type_distr.loc[call_t, ['serv_time','extra_time']]\n",
    "            serv_t = np.random.triangular(*serv_t)\n",
    "            #extr_t = max(np.random.normal(*extr_t), 0) #dist should be normal but values are strange\n",
    "            extr_t = np.random.triangular(extr_t[0], (extr_t[0]+extr_t[1])/2, extr_t[1])\n",
    "            total_t = serv_t+extr_t\n",
    "            efficiency = self.get_mx_field('efficiency')\n",
    "            total_t = int(round(total_t*(1-efficiency/100),0))\n",
    "            yield self.env.timeout(total_t)\n",
    "            client.disconnect.succeed()\n",
    "            \n",
    "    def get_mx_field(self, field):\n",
    "        \"\"\"\n",
    "        Function for code to be more readable\n",
    "        \"\"\"\n",
    "        return self.env.op_mx[self.id_, op_columns_map[field]]"
   ]
  },
  {
   "cell_type": "code",
   "execution_count": 25,
   "metadata": {
    "collapsed": true
   },
   "outputs": [],
   "source": [
    "def client_generator(env):\n",
    "    while True:\n",
    "        for cl_priority in range(1,4):\n",
    "            p = call_frequency_ds.iat[env.now//3600, cl_priority-1]/3600\n",
    "            if np.random.rand()<p:\n",
    "                id_, env.client_mx = add_client_to_matrix(env.client_mx, cl_priority, env.now)\n",
    "                client = Client(env, id_)\n",
    "        yield env.timeout(1)"
   ]
  },
  {
   "cell_type": "code",
   "execution_count": 26,
   "metadata": {
    "collapsed": true
   },
   "outputs": [],
   "source": [
    "def init_env():\n",
    "    env = sp.Environment()\n",
    "    env.client_mx = np.empty([0,len(cl_columns)], dtype=np.int) #matrix to write clients data\n",
    "    env.op_mx = set_op_mx(op_time_ds) #matrix with operators data\n",
    "    env.call_center = CallCenter(env, n_lines=n_lines, n_vip_lines=n_vip_lines) \n",
    "    env.client_generator = env.process(client_generator(env))\n",
    "    env.operators = [Operator(env, id_) for id_ in env.op_mx[:,op_columns_map['id']]]\n",
    "    return env"
   ]
  },
  {
   "cell_type": "markdown",
   "metadata": {},
   "source": [
    "# Set simulation and run"
   ]
  },
  {
   "cell_type": "code",
   "execution_count": 27,
   "metadata": {
    "collapsed": true
   },
   "outputs": [],
   "source": [
    "n_lines = 55\n",
    "n_vip_lines = 3"
   ]
  },
  {
   "cell_type": "code",
   "execution_count": 28,
   "metadata": {},
   "outputs": [
    {
     "data": {
      "text/html": [
       "<div>\n",
       "<style>\n",
       "    .dataframe thead tr:only-child th {\n",
       "        text-align: right;\n",
       "    }\n",
       "\n",
       "    .dataframe thead th {\n",
       "        text-align: left;\n",
       "    }\n",
       "\n",
       "    .dataframe tbody tr th {\n",
       "        vertical-align: top;\n",
       "    }\n",
       "</style>\n",
       "<table border=\"1\" class=\"dataframe\">\n",
       "  <thead>\n",
       "    <tr style=\"text-align: right;\">\n",
       "      <th></th>\n",
       "      <th>gold</th>\n",
       "      <th>silver</th>\n",
       "      <th>regular</th>\n",
       "    </tr>\n",
       "  </thead>\n",
       "  <tbody>\n",
       "    <tr>\n",
       "      <th>7</th>\n",
       "      <td>3</td>\n",
       "      <td>5</td>\n",
       "      <td>6</td>\n",
       "    </tr>\n",
       "    <tr>\n",
       "      <th>8</th>\n",
       "      <td>4</td>\n",
       "      <td>6</td>\n",
       "      <td>10</td>\n",
       "    </tr>\n",
       "    <tr>\n",
       "      <th>9</th>\n",
       "      <td>0</td>\n",
       "      <td>0</td>\n",
       "      <td>10</td>\n",
       "    </tr>\n",
       "    <tr>\n",
       "      <th>10</th>\n",
       "      <td>0</td>\n",
       "      <td>5</td>\n",
       "      <td>7</td>\n",
       "    </tr>\n",
       "    <tr>\n",
       "      <th>11</th>\n",
       "      <td>3</td>\n",
       "      <td>4</td>\n",
       "      <td>6</td>\n",
       "    </tr>\n",
       "  </tbody>\n",
       "</table>\n",
       "</div>"
      ],
      "text/plain": [
       "    gold  silver  regular\n",
       "7      3       5        6\n",
       "8      4       6       10\n",
       "9      0       0       10\n",
       "10     0       5        7\n",
       "11     3       4        6"
      ]
     },
     "execution_count": 28,
     "metadata": {},
     "output_type": "execute_result"
    }
   ],
   "source": [
    "op_time_ds = pd.DataFrame(index=range(7,12))\n",
    "op_time_ds['gold'] = [3, 4, 0, 0, 3]\n",
    "op_time_ds['silver'] = [5, 6, 0, 5, 4]\n",
    "op_time_ds['regular'] = [6, 10, 10, 7,6]\n",
    "op_time_ds"
   ]
  },
  {
   "cell_type": "code",
   "execution_count": 29,
   "metadata": {},
   "outputs": [
    {
     "data": {
      "application/vnd.jupyter.widget-view+json": {
       "model_id": "e120b66e033049d1b28255bc871c2b95",
       "version_major": 2,
       "version_minor": 0
      },
      "text/plain": [
       "A Jupyter Widget"
      ]
     },
     "metadata": {},
     "output_type": "display_data"
    },
    {
     "name": "stdout",
     "output_type": "stream",
     "text": [
      "\n"
     ]
    }
   ],
   "source": [
    "env = init_env()\n",
    "for i in tqdm_notebook(range(dt.timedelta(hours=12, minutes=0, seconds=0).seconds)):\n",
    "    env.run(until=i+1)"
   ]
  },
  {
   "cell_type": "code",
   "execution_count": 30,
   "metadata": {},
   "outputs": [],
   "source": [
    "client_ds = get_client_ds(env)\n",
    "op_ds = get_operator_ds(env)\n",
    "\n",
    "sim_data = get_simulation_stat(client_ds, op_ds)\n",
    "simulation_ds = simulation_ds.append(sim_data, ignore_index=True)\n",
    "\n",
    "simulation_ds.to_csv('simulation_ds.csv')"
   ]
  },
  {
   "cell_type": "code",
   "execution_count": 31,
   "metadata": {},
   "outputs": [
    {
     "data": {
      "image/png": "[encoded data removed]",
      "text/plain": [
       "<matplotlib.figure.Figure at 0x1a79b0b14a8>"
      ]
     },
     "metadata": {},
     "output_type": "display_data"
    }
   ],
   "source": [
    "plot_clients_no_lines(client_ds)"
   ]
  },
  {
   "cell_type": "code",
   "execution_count": 32,
   "metadata": {
    "scrolled": true
   },
   "outputs": [
    {
     "data": {
      "image/png": "[encoded data removed]",
      "text/plain": [
       "<matplotlib.figure.Figure at 0x1a78e51b908>"
      ]
     },
     "metadata": {},
     "output_type": "display_data"
    }
   ],
   "source": [
    "plot_clients_waitings(client_ds)"
   ]
  },
  {
   "cell_type": "code",
   "execution_count": 33,
   "metadata": {
    "scrolled": true
   },
   "outputs": [
    {
     "data": {
      "image/png": "[encoded data removed]",
      "text/plain": [
       "<matplotlib.figure.Figure at 0x1a79af70be0>"
      ]
     },
     "metadata": {},
     "output_type": "display_data"
    }
   ],
   "source": [
    "plot_clients_success(client_ds)"
   ]
  },
  {
   "cell_type": "markdown",
   "metadata": {},
   "source": [
    "# Find best parameters"
   ]
  },
  {
   "cell_type": "code",
   "execution_count": 34,
   "metadata": {
    "collapsed": true
   },
   "outputs": [],
   "source": [
    "cds = simulation_ds.copy()"
   ]
  },
  {
   "cell_type": "code",
   "execution_count": 35,
   "metadata": {},
   "outputs": [],
   "source": [
    "cds = cds[(cds['gold_wait']>=0.98)&(cds['silver_wait']>=0.95)&(cds['regular_wait']>=0.85)\n",
    "   &(cds['regular_no_lines']<=0.2)&(cds['vip_no_lines']<=0.02)]"
   ]
  },
  {
   "cell_type": "code",
   "execution_count": 36,
   "metadata": {},
   "outputs": [
    {
     "data": {
      "text/plain": [
       "(34, 23)"
      ]
     },
     "execution_count": 36,
     "metadata": {},
     "output_type": "execute_result"
    }
   ],
   "source": [
    "cds.shape"
   ]
  },
  {
   "cell_type": "code",
   "execution_count": 37,
   "metadata": {},
   "outputs": [
    {
     "data": {
      "text/plain": [
       "n_lines                 55.000000\n",
       "n_vip_lines              5.000000\n",
       "cost                242000.000000\n",
       "gold_wait                1.000000\n",
       "silver_wait              0.999496\n",
       "regular_wait             0.970962\n",
       "vip_no_lines             0.002691\n",
       "regular_no_lines         0.192938\n",
       "gold_7                   5.000000\n",
       "gold_8                   0.000000\n",
       "gold_9                   0.000000\n",
       "gold_10                  0.000000\n",
       "gold_11                  5.000000\n",
       "silver_7                 8.000000\n",
       "silver_8                 0.000000\n",
       "silver_9                 0.000000\n",
       "silver_10                0.000000\n",
       "silver_11               10.000000\n",
       "regular_7                6.000000\n",
       "regular_8               10.000000\n",
       "regular_9                9.000000\n",
       "regular_10               5.000000\n",
       "regular_11               5.000000\n",
       "Name: 60, dtype: float64"
      ]
     },
     "execution_count": 37,
     "metadata": {},
     "output_type": "execute_result"
    }
   ],
   "source": [
    "cds.sort_values('cost').iloc[0]"
   ]
  }
 ],
 "metadata": {
  "kernelspec": {
   "display_name": "Python 3",
   "language": "python",
   "name": "python3"
  },
  "language_info": {
   "codemirror_mode": {
    "name": "ipython",
    "version": 3
   },
   "file_extension": ".py",
   "mimetype": "text/x-python",
   "name": "python",
   "nbconvert_exporter": "python",
   "pygments_lexer": "ipython3",
   "version": "3.6.3"
  }
 },
 "nbformat": 4,
 "nbformat_minor": 2
}
