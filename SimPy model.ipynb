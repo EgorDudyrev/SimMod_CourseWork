{
 "cells": [
  {
   "cell_type": "code",
   "execution_count": 1,
   "metadata": {
    "collapsed": true
   },
   "outputs": [],
   "source": [
    "import simpy as sp\n",
    "import numpy as np\n",
    "import pandas as pd\n",
    "\n",
    "import datetime as dt\n",
    "\n",
    "from tqdm import tqdm_notebook"
   ]
  },
  {
   "cell_type": "markdown",
   "metadata": {},
   "source": [
    "Simpy documentation - https://simpy.readthedocs.io/en/latest/contents.html "
   ]
  },
  {
   "cell_type": "markdown",
   "metadata": {},
   "source": [
    "# Data preparation"
   ]
  },
  {
   "cell_type": "code",
   "execution_count": 2,
   "metadata": {},
   "outputs": [],
   "source": [
    "cl_statuses = ['generated', 'ask_for_line', 'get_line', 'no_lines', 'blocked',\n",
    "               'unblocked', 'drop_on_unblock', 'in_queue', 'drop_from_queue', 'connected',\n",
    "               'drop_success']\n",
    "map_cl_status_code = {s:idx for idx,s in enumerate(cl_statuses)}\n",
    "map_code_cl_status = {v:k for k,v in map_cl_status_code.items()}"
   ]
  },
  {
   "cell_type": "code",
   "execution_count": 3,
   "metadata": {},
   "outputs": [],
   "source": [
    "cl_columns = ['id','priority','call_start_time','call_end_time','max_waiting_time','status']\n",
    "cl_columns_map = {k:idx for idx,k in enumerate(cl_columns)}"
   ]
  },
  {
   "cell_type": "markdown",
   "metadata": {},
   "source": [
    "## Useful functions"
   ]
  },
  {
   "cell_type": "code",
   "execution_count": 4,
   "metadata": {
    "collapsed": true
   },
   "outputs": [],
   "source": [
    "def add_client_to_matrix(matrix, priority, call_start_time):\n",
    "    data = np.array([-1]*matrix.shape[1])\n",
    "    id_ = len(matrix)\n",
    "    data[cl_columns_map['id']] = id_\n",
    "    data[cl_columns_map['priority']] = priority\n",
    "    data[cl_columns_map['call_start_time']] = call_start_time\n",
    "    data[cl_columns_map['max_waiting_time']] = 5*60\n",
    "    data[cl_columns_map['status']] = map_cl_status_code['generated']\n",
    "    return id_, np.append(matrix, [data], axis=0)"
   ]
  },
  {
   "cell_type": "code",
   "execution_count": 5,
   "metadata": {
    "collapsed": true
   },
   "outputs": [],
   "source": [
    "def get_client_ds(matrix, columns):\n",
    "    client_ds = pd.DataFrame(matrix, columns=columns, dtype=np.int)\n",
    "    client_ds['status_code'] = client_ds['status']\n",
    "    client_ds['status'] = client_ds['status'].transform(lambda x: map_code_cl_status[x])\n",
    "    client_ds['type'] = client_ds['priority'].transform(lambda x: {1:'gold',2:'silver',3:'regular'}[x])\n",
    "    client_ds['call_start_time_dt'] = client_ds['call_start_time'].transform(lambda x: dt.timedelta(seconds=x))\n",
    "    client_ds['call_start_time_dt'] = client_ds['call_start_time_dt'] + dt.datetime(2018,1,1,7)\n",
    "    client_ds['call_end_time_dt'] = client_ds['call_end_time'].transform(lambda x: dt.timedelta(seconds=x) if x>=0 else None)\n",
    "    client_ds['call_end_time_dt'] = client_ds['call_end_time_dt'] + dt.datetime(2018,1,1,7)\n",
    "    client_ds['max_waiting_time_dt'] = client_ds['max_waiting_time'].transform(lambda x: dt.timedelta(seconds=x))\n",
    "    client_ds = client_ds.reindex(columns=['id','priority','type', 'status_code','status',\n",
    "                           'call_start_time','call_start_time_dt','call_end_time', 'call_end_time_dt',\n",
    "                           'max_waiting_time', 'max_waiting_time_dt'])\n",
    "    return client_ds"
   ]
  },
  {
   "cell_type": "markdown",
   "metadata": {},
   "source": [
    "# Testing model"
   ]
  },
  {
   "cell_type": "code",
   "execution_count": 6,
   "metadata": {
    "collapsed": true
   },
   "outputs": [],
   "source": [
    "class Queue(sp.PriorityStore):\n",
    "    \n",
    "    get = sp.core.BoundClass(sp.resources.store.FilterStoreGet)\n",
    "    \"\"\"Request a to get an *item*, for which *filter* returns ``True``, out of\n",
    "    the store.\"\"\"\n",
    "\n",
    "    def _do_get(self, event):\n",
    "        for item in self.items:\n",
    "            if event.filter(item):\n",
    "                self.items.remove(item)\n",
    "                event.succeed(item)\n",
    "                break\n",
    "        return True"
   ]
  },
  {
   "cell_type": "code",
   "execution_count": 7,
   "metadata": {
    "collapsed": true
   },
   "outputs": [],
   "source": [
    "class CallCenter(object):\n",
    "    def __init__(self, env, n_lines, n_vip_lines):\n",
    "        self.env = env\n",
    "        self.n_lines = n_lines\n",
    "        self.n_vip_lines = n_vip_lines\n",
    "        self.lines = sp.Resource(env, capacity=self.n_lines)\n",
    "        self.queue = Queue(env)\n",
    "\n",
    "    def request_line(self, cl_id):\n",
    "        cl_priority = self.env.client_mx[cl_id, cl_columns_map['priority']]\n",
    "        n_lines_to_give = self.n_lines-self.n_vip_lines if cl_priority==3 else self.n_lines\n",
    "        Client.set_status_by_id(self.env, cl_id, 'ask_for_line')\n",
    "        if self.lines.count<n_lines_to_give:\n",
    "            req = self.lines.request()\n",
    "            req.cl_id = cl_id\n",
    "            yield req\n",
    "            Client.set_status_by_id(self.env, cl_id, 'get_line')\n",
    "        else:\n",
    "            Client.set_status_by_id(self.env, cl_id, 'no_lines')\n",
    "            raise self.NoLinesAvailable()\n",
    "        Client.set_status_by_id(self.env, cl_id, 'blocked')\n",
    "        yield self.env.timeout(8)\n",
    "        Client.set_status_by_id(self.env, cl_id, 'unblocked')\n",
    "        yield self.queue.put(sp.PriorityItem(cl_priority, cl_id))\n",
    "        Client.set_status_by_id(self.env, cl_id, 'in_queue')\n",
    "        return req\n",
    "        \n",
    "    def release_line(self, req):\n",
    "        if req.cl_id in [i.item for i in self.queue.items]:\n",
    "            yield self.queue.get(lambda x: x.item==req.cl_id)\n",
    "        yield self.lines.release(req)\n",
    "        Client.set_call_end_time_by_id(self.env, req.cl_id)\n",
    "    \n",
    "    class NoLinesAvailable(sp.exceptions.SimPyException):\n",
    "        pass"
   ]
  },
  {
   "cell_type": "code",
   "execution_count": 8,
   "metadata": {},
   "outputs": [],
   "source": [
    "class Client(object):\n",
    "    def __init__(self, env, id_):\n",
    "        self.env = env\n",
    "        self.id_ = id_\n",
    "        self.action = env.process(self.run())\n",
    "    \n",
    "    def run(self):\n",
    "        cc = self.env.call_center\n",
    "        try:\n",
    "            req = yield self.env.process(cc.request_line(self.id_))\n",
    "        except cc.NoLinesAvailable as e:\n",
    "            return\n",
    "        yield self.env.timeout(self.env.client_mx[self.id_,cl_columns_map['max_waiting_time']])\n",
    "        yield self.env.process(cc.release_line(req))\n",
    "        self.set_status('drop_from_queue')\n",
    "        \n",
    "    @staticmethod\n",
    "    def set_status_by_id(env, id_, status):\n",
    "        env.client_mx[id_, cl_columns_map['status']] = map_cl_status_code[status]\n",
    "    \n",
    "    def set_status(self, status):\n",
    "        self.set_status_by_id(self.env, self.id_, status)\n",
    "        \n",
    "    @staticmethod\n",
    "    def set_call_end_time_by_id(env, id_):\n",
    "        env.client_mx[id_, cl_columns_map['call_end_time']] = env.now\n",
    "    \n",
    "    def set_call_end_time(self):\n",
    "        self.set_call_end_time_by_id(self.env, self.id_)"
   ]
  },
  {
   "cell_type": "code",
   "execution_count": 9,
   "metadata": {
    "collapsed": true
   },
   "outputs": [],
   "source": [
    "def client_generator(env):\n",
    "    while True:\n",
    "        if np.random.rand()<0.5:\n",
    "            id_, env.client_mx = add_client_to_matrix(env.client_mx, 3, env.now)\n",
    "            client = Client(env, id_)\n",
    "        yield env.timeout(1)"
   ]
  },
  {
   "cell_type": "code",
   "execution_count": 10,
   "metadata": {
    "collapsed": true
   },
   "outputs": [],
   "source": [
    "def init_env():\n",
    "    env = sp.Environment()\n",
    "    env.client_mx = np.empty([0,len(cl_columns)])\n",
    "    env.call_center = CallCenter(env, 2,0)\n",
    "    env.client_generator = env.process(client_generator(env))\n",
    "    return env"
   ]
  },
  {
   "cell_type": "code",
   "execution_count": 11,
   "metadata": {},
   "outputs": [
    {
     "data": {
      "application/vnd.jupyter.widget-view+json": {
       "model_id": "5f8287b3d0794652911d1e0bfab8e311",
       "version_major": 2,
       "version_minor": 0
      },
      "text/plain": [
       "A Jupyter Widget"
      ]
     },
     "metadata": {},
     "output_type": "display_data"
    },
    {
     "name": "stdout",
     "output_type": "stream",
     "text": [
      "\n"
     ]
    }
   ],
   "source": [
    "env = init_env()\n",
    "for i in tqdm_notebook(range(6*60)):\n",
    "    env.run(until=i+1)"
   ]
  },
  {
   "cell_type": "code",
   "execution_count": 12,
   "metadata": {},
   "outputs": [
    {
     "name": "stdout",
     "output_type": "stream",
     "text": [
      "(166, 11)\n"
     ]
    },
    {
     "data": {
      "text/html": [
       "<div>\n",
       "<style>\n",
       "    .dataframe thead tr:only-child th {\n",
       "        text-align: right;\n",
       "    }\n",
       "\n",
       "    .dataframe thead th {\n",
       "        text-align: left;\n",
       "    }\n",
       "\n",
       "    .dataframe tbody tr th {\n",
       "        vertical-align: top;\n",
       "    }\n",
       "</style>\n",
       "<table border=\"1\" class=\"dataframe\">\n",
       "  <thead>\n",
       "    <tr style=\"text-align: right;\">\n",
       "      <th></th>\n",
       "      <th>id</th>\n",
       "      <th>priority</th>\n",
       "      <th>type</th>\n",
       "      <th>status_code</th>\n",
       "      <th>status</th>\n",
       "      <th>call_start_time</th>\n",
       "      <th>call_start_time_dt</th>\n",
       "      <th>call_end_time</th>\n",
       "      <th>call_end_time_dt</th>\n",
       "      <th>max_waiting_time</th>\n",
       "      <th>max_waiting_time_dt</th>\n",
       "    </tr>\n",
       "  </thead>\n",
       "  <tbody>\n",
       "    <tr>\n",
       "      <th>0</th>\n",
       "      <td>0</td>\n",
       "      <td>3</td>\n",
       "      <td>regular</td>\n",
       "      <td>8</td>\n",
       "      <td>drop_from_queue</td>\n",
       "      <td>5</td>\n",
       "      <td>2018-01-01 07:00:05</td>\n",
       "      <td>313</td>\n",
       "      <td>2018-01-01 07:05:13</td>\n",
       "      <td>300</td>\n",
       "      <td>00:05:00</td>\n",
       "    </tr>\n",
       "    <tr>\n",
       "      <th>1</th>\n",
       "      <td>1</td>\n",
       "      <td>3</td>\n",
       "      <td>regular</td>\n",
       "      <td>8</td>\n",
       "      <td>drop_from_queue</td>\n",
       "      <td>6</td>\n",
       "      <td>2018-01-01 07:00:06</td>\n",
       "      <td>314</td>\n",
       "      <td>2018-01-01 07:05:14</td>\n",
       "      <td>300</td>\n",
       "      <td>00:05:00</td>\n",
       "    </tr>\n",
       "    <tr>\n",
       "      <th>2</th>\n",
       "      <td>2</td>\n",
       "      <td>3</td>\n",
       "      <td>regular</td>\n",
       "      <td>3</td>\n",
       "      <td>no_lines</td>\n",
       "      <td>7</td>\n",
       "      <td>2018-01-01 07:00:07</td>\n",
       "      <td>-1</td>\n",
       "      <td>NaT</td>\n",
       "      <td>300</td>\n",
       "      <td>00:05:00</td>\n",
       "    </tr>\n",
       "    <tr>\n",
       "      <th>3</th>\n",
       "      <td>3</td>\n",
       "      <td>3</td>\n",
       "      <td>regular</td>\n",
       "      <td>3</td>\n",
       "      <td>no_lines</td>\n",
       "      <td>10</td>\n",
       "      <td>2018-01-01 07:00:10</td>\n",
       "      <td>-1</td>\n",
       "      <td>NaT</td>\n",
       "      <td>300</td>\n",
       "      <td>00:05:00</td>\n",
       "    </tr>\n",
       "    <tr>\n",
       "      <th>4</th>\n",
       "      <td>4</td>\n",
       "      <td>3</td>\n",
       "      <td>regular</td>\n",
       "      <td>3</td>\n",
       "      <td>no_lines</td>\n",
       "      <td>11</td>\n",
       "      <td>2018-01-01 07:00:11</td>\n",
       "      <td>-1</td>\n",
       "      <td>NaT</td>\n",
       "      <td>300</td>\n",
       "      <td>00:05:00</td>\n",
       "    </tr>\n",
       "  </tbody>\n",
       "</table>\n",
       "</div>"
      ],
      "text/plain": [
       "   id  priority     type  status_code           status  call_start_time  \\\n",
       "0   0         3  regular            8  drop_from_queue                5   \n",
       "1   1         3  regular            8  drop_from_queue                6   \n",
       "2   2         3  regular            3         no_lines                7   \n",
       "3   3         3  regular            3         no_lines               10   \n",
       "4   4         3  regular            3         no_lines               11   \n",
       "\n",
       "   call_start_time_dt  call_end_time    call_end_time_dt  max_waiting_time  \\\n",
       "0 2018-01-01 07:00:05            313 2018-01-01 07:05:13               300   \n",
       "1 2018-01-01 07:00:06            314 2018-01-01 07:05:14               300   \n",
       "2 2018-01-01 07:00:07             -1                 NaT               300   \n",
       "3 2018-01-01 07:00:10             -1                 NaT               300   \n",
       "4 2018-01-01 07:00:11             -1                 NaT               300   \n",
       "\n",
       "  max_waiting_time_dt  \n",
       "0            00:05:00  \n",
       "1            00:05:00  \n",
       "2            00:05:00  \n",
       "3            00:05:00  \n",
       "4            00:05:00  "
      ]
     },
     "execution_count": 12,
     "metadata": {},
     "output_type": "execute_result"
    }
   ],
   "source": [
    "client_ds = get_client_ds(env.client_mx, cl_columns)\n",
    "print(client_ds.shape)\n",
    "client_ds.head()"
   ]
  },
  {
   "cell_type": "code",
   "execution_count": 13,
   "metadata": {},
   "outputs": [
    {
     "data": {
      "text/plain": [
       "no_lines           162\n",
       "in_queue             2\n",
       "drop_from_queue      2\n",
       "Name: status, dtype: int64"
      ]
     },
     "execution_count": 13,
     "metadata": {},
     "output_type": "execute_result"
    }
   ],
   "source": [
    "client_ds['status'].value_counts()"
   ]
  }
 ],
 "metadata": {
  "kernelspec": {
   "display_name": "Python 3",
   "language": "python",
   "name": "python3"
  },
  "language_info": {
   "codemirror_mode": {
    "name": "ipython",
    "version": 3
   },
   "file_extension": ".py",
   "mimetype": "text/x-python",
   "name": "python",
   "nbconvert_exporter": "python",
   "pygments_lexer": "ipython3",
   "version": "3.6.3"
  }
 },
 "nbformat": 4,
 "nbformat_minor": 2
}
