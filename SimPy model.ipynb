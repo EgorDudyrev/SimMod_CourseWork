{
 "cells": [
  {
   "cell_type": "code",
   "execution_count": 1,
   "metadata": {
    "collapsed": true
   },
   "outputs": [],
   "source": [
    "import simpy as sp"
   ]
  },
  {
   "cell_type": "markdown",
   "metadata": {},
   "source": [
    "Simpy documentation - https://simpy.readthedocs.io/en/latest/contents.html "
   ]
  },
  {
   "cell_type": "markdown",
   "metadata": {},
   "source": [
    "# Testing model"
   ]
  },
  {
   "cell_type": "code",
   "execution_count": 2,
   "metadata": {},
   "outputs": [],
   "source": [
    "class CallCenter(object):\n",
    "    def __init__(self, env, n_lines, n_vip_lines):\n",
    "        self.env = env\n",
    "        self.n_lines = n_lines\n",
    "        self.n_vip_lines = n_vip_lines\n",
    "        self.lines = sp.Resource(env, capacity=self.n_lines)\n",
    "\n",
    "    def request_line(self, client_priority):\n",
    "        n_lines_to_give = self.n_lines-self.n_vip_lines if client_priority==3 else self.n_lines\n",
    "        if self.lines.count<n_lines_to_give:\n",
    "                return self.lines.request\n",
    "        else:\n",
    "            raise self.NoLinesAvailable()\n",
    "        \n",
    "    class NoLinesAvailable(sp.exceptions.SimPyException):\n",
    "        pass"
   ]
  },
  {
   "cell_type": "code",
   "execution_count": 3,
   "metadata": {},
   "outputs": [],
   "source": [
    "class Client(object):\n",
    "    def __init__(self, env, name):\n",
    "        self.env = env\n",
    "        self.name = name\n",
    "        self.action = env.process(self.run())\n",
    "    \n",
    "    def run(self):\n",
    "        print(self.name, 'ran at {}'.format(self.env.now))\n",
    "        try:\n",
    "            with self.env.call_center.request_line(1)() as req:\n",
    "                yield req\n",
    "                print('{} got line at {}'.format(self.name, self.env.now))\n",
    "                yield self.env.timeout(3)\n",
    "        except self.env.call_center.NoLinesAvailable as e:\n",
    "            lines = self.env.call_center.lines\n",
    "            print('No lines available for {} at {}'.format(self.name, self.env.now), lines.capacity, lines.count)"
   ]
  },
  {
   "cell_type": "code",
   "execution_count": 4,
   "metadata": {},
   "outputs": [],
   "source": [
    "env = sp.Environment()\n",
    "env.call_center = CallCenter(env, 2,0)\n",
    "clients = [Client(env, i) for i in range(5)]"
   ]
  },
  {
   "cell_type": "code",
   "execution_count": 5,
   "metadata": {},
   "outputs": [
    {
     "name": "stdout",
     "output_type": "stream",
     "text": [
      "0 ran at 0\n",
      "1 ran at 0\n",
      "2 ran at 0\n",
      "No lines available for 2 at 0 2 2\n",
      "3 ran at 0\n",
      "No lines available for 3 at 0 2 2\n",
      "4 ran at 0\n",
      "No lines available for 4 at 0 2 2\n",
      "0 got line at 0\n",
      "1 got line at 0\n"
     ]
    }
   ],
   "source": [
    "env.run(until=10)"
   ]
  }
 ],
 "metadata": {
  "kernelspec": {
   "display_name": "Python 3",
   "language": "python",
   "name": "python3"
  },
  "language_info": {
   "codemirror_mode": {
    "name": "ipython",
    "version": 3
   },
   "file_extension": ".py",
   "mimetype": "text/x-python",
   "name": "python",
   "nbconvert_exporter": "python",
   "pygments_lexer": "ipython3",
   "version": "3.6.3"
  }
 },
 "nbformat": 4,
 "nbformat_minor": 2
}
