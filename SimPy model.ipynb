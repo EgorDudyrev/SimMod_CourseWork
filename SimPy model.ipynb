{
 "cells": [
  {
   "cell_type": "code",
   "execution_count": 1,
   "metadata": {
    "collapsed": true
   },
   "outputs": [],
   "source": [
    "import simpy as sp\n",
    "import numpy as np"
   ]
  },
  {
   "cell_type": "markdown",
   "metadata": {},
   "source": [
    "Simpy documentation - https://simpy.readthedocs.io/en/latest/contents.html "
   ]
  },
  {
   "cell_type": "markdown",
   "metadata": {},
   "source": [
    "# Testing model"
   ]
  },
  {
   "cell_type": "code",
   "execution_count": 2,
   "metadata": {
    "collapsed": true
   },
   "outputs": [],
   "source": [
    "class CallCenter(object):\n",
    "    def __init__(self, env, n_lines, n_vip_lines):\n",
    "        self.env = env\n",
    "        self.n_lines = n_lines\n",
    "        self.n_vip_lines = n_vip_lines\n",
    "        self.lines = sp.Resource(env, capacity=self.n_lines)\n",
    "\n",
    "    def request_line(self, client_priority):\n",
    "        n_lines_to_give = self.n_lines-self.n_vip_lines if client_priority==3 else self.n_lines\n",
    "        if self.lines.count<n_lines_to_give:\n",
    "            req = self.lines.request()\n",
    "            yield req\n",
    "        else:\n",
    "            raise self.NoLinesAvailable()\n",
    "        yield self.env.timeout(8)\n",
    "        return req\n",
    "        \n",
    "    def release_line(self, req):\n",
    "        yield self.lines.release(req)\n",
    "    \n",
    "    class NoLinesAvailable(sp.exceptions.SimPyException):\n",
    "        pass"
   ]
  },
  {
   "cell_type": "code",
   "execution_count": 3,
   "metadata": {},
   "outputs": [],
   "source": [
    "class Client(object):\n",
    "    def __init__(self, env, name, priority):\n",
    "        self.env = env\n",
    "        self.name = name\n",
    "        self.priority = priority\n",
    "        self.action = env.process(self.run())\n",
    "    \n",
    "    def run(self):\n",
    "        #print(self.name, 'ran at {}'.format(self.env.now))\n",
    "        cc = self.env.call_center\n",
    "        try:\n",
    "            print('{} asking for line at {}'.format(self.name, self.env.now))\n",
    "            req = yield self.env.process(cc.request_line(self.priority))\n",
    "            print('{} get line at {}'.format(self.name, self.env.now))\n",
    "        except cc.NoLinesAvailable as e:\n",
    "            print('No lines available for {} at {}. Occupied lines: {}'.format(self.name, self.env.now, cc.lines.count))\n",
    "            return\n",
    "        yield self.env.timeout(3)\n",
    "        yield self.env.process(cc.release_line(req))"
   ]
  },
  {
   "cell_type": "code",
   "execution_count": 4,
   "metadata": {
    "collapsed": true
   },
   "outputs": [],
   "source": [
    "def client_generator(env):\n",
    "    cl_number = 0\n",
    "    while True:\n",
    "        if np.random.rand()<0.5:\n",
    "            client = Client(env, cl_number, 3)\n",
    "            cl_number += 1\n",
    "        yield env.timeout(1)"
   ]
  },
  {
   "cell_type": "code",
   "execution_count": 5,
   "metadata": {
    "collapsed": true
   },
   "outputs": [],
   "source": [
    "env = sp.Environment()\n",
    "env.call_center = CallCenter(env, 2,0)\n",
    "env.client_generator = env.process(client_generator(env))"
   ]
  },
  {
   "cell_type": "code",
   "execution_count": 6,
   "metadata": {},
   "outputs": [
    {
     "name": "stdout",
     "output_type": "stream",
     "text": [
      "0 asking for line at 1\n",
      "1 asking for line at 2\n",
      "2 asking for line at 3\n",
      "No lines available for 2 at 3. Occupied lines: 2\n",
      "3 asking for line at 5\n",
      "No lines available for 3 at 5. Occupied lines: 2\n",
      "4 asking for line at 6\n",
      "No lines available for 4 at 6. Occupied lines: 2\n",
      "0 get line at 9\n",
      "5 asking for line at 10\n",
      "1 get line at 10\n",
      "No lines available for 5 at 10. Occupied lines: 2\n",
      "6 asking for line at 11\n",
      "No lines available for 6 at 11. Occupied lines: 2\n",
      "7 asking for line at 12\n",
      "8 asking for line at 15\n",
      "9 asking for line at 17\n",
      "No lines available for 9 at 17. Occupied lines: 2\n",
      "10 asking for line at 19\n",
      "No lines available for 10 at 19. Occupied lines: 2\n",
      "11 asking for line at 20\n",
      "7 get line at 20\n",
      "No lines available for 11 at 20. Occupied lines: 2\n",
      "12 asking for line at 21\n",
      "No lines available for 12 at 21. Occupied lines: 2\n",
      "13 asking for line at 23\n",
      "8 get line at 23\n",
      "14 asking for line at 25\n",
      "No lines available for 14 at 25. Occupied lines: 2\n",
      "15 asking for line at 29\n",
      "16 asking for line at 30\n",
      "No lines available for 16 at 30. Occupied lines: 2\n",
      "17 asking for line at 31\n",
      "13 get line at 31\n",
      "No lines available for 17 at 31. Occupied lines: 2\n",
      "15 get line at 37\n",
      "18 asking for line at 38\n",
      "19 asking for line at 39\n",
      "No lines available for 19 at 39. Occupied lines: 2\n",
      "20 asking for line at 42\n",
      "21 asking for line at 44\n",
      "No lines available for 21 at 44. Occupied lines: 2\n",
      "22 asking for line at 46\n",
      "18 get line at 46\n",
      "No lines available for 22 at 46. Occupied lines: 2\n"
     ]
    }
   ],
   "source": [
    "env.run(until=50)"
   ]
  }
 ],
 "metadata": {
  "kernelspec": {
   "display_name": "Python 3",
   "language": "python",
   "name": "python3"
  },
  "language_info": {
   "codemirror_mode": {
    "name": "ipython",
    "version": 3
   },
   "file_extension": ".py",
   "mimetype": "text/x-python",
   "name": "python",
   "nbconvert_exporter": "python",
   "pygments_lexer": "ipython3",
   "version": "3.6.3"
  }
 },
 "nbformat": 4,
 "nbformat_minor": 2
}
