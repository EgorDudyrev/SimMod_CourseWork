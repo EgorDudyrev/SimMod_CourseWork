{
 "cells": [
  {
   "cell_type": "code",
   "execution_count": null,
   "metadata": {
    "collapsed": true
   },
   "outputs": [],
   "source": [
    "import networkx as nx\n",
    "import numpy as np\n",
    "import pandas as pd\n",
    "import matplotlib.pyplot as plt\n",
    "from matplotlib import colors as mcolors\n",
    "import seaborn as sns\n",
    "\n",
    "from tqdm import tqdm_notebook"
   ]
  },
  {
   "cell_type": "code",
   "execution_count": null,
   "metadata": {
    "collapsed": true
   },
   "outputs": [],
   "source": [
    "import importlib\n",
    "try:\n",
    "    importlib.reload(sm)\n",
    "except:\n",
    "    import sim_model as sm"
   ]
  },
  {
   "cell_type": "code",
   "execution_count": null,
   "metadata": {
    "collapsed": true
   },
   "outputs": [],
   "source": [
    "from IPython.display import clear_output"
   ]
  },
  {
   "cell_type": "code",
   "execution_count": null,
   "metadata": {},
   "outputs": [],
   "source": [
    "print(nx.__version__)\n",
    "print(np.__version__)"
   ]
  },
  {
   "cell_type": "markdown",
   "metadata": {},
   "source": [
    "# Define functions"
   ]
  },
  {
   "cell_type": "code",
   "execution_count": null,
   "metadata": {
    "collapsed": true
   },
   "outputs": [],
   "source": [
    "MAX_OPERATORS_START_ON_HOUR = 10"
   ]
  },
  {
   "cell_type": "code",
   "execution_count": null,
   "metadata": {
    "collapsed": true
   },
   "outputs": [],
   "source": [
    "def generate_gene():\n",
    "    return np.random.randint(0,MAX_OPERATORS_START_ON_HOUR,15)\n",
    "\n",
    "def get_cost(stat):\n",
    "    cost = (np.array([stat['gold_wait']<0.98, stat['silver_wait']<0.95, stat['regular_wait']<0.85,\n",
    "                      stat['regular_no_lines']>0.2, stat['vip_no_lines']>0.02\n",
    "                     ])*1e9\n",
    "           ).sum()+stat['cost']\n",
    "    return cost\n",
    "\n",
    "def get_fitness(stat):\n",
    "    return 1e6/get_cost(stat)\n",
    "\n",
    "def select_pairs(chromos):\n",
    "    return np.array([(chromos[i], chromos[j]) for i,j in np.random.randint(0, len(chromos), size=(N//2, 2))])\n",
    "\n",
    "def crossover(a, b):\n",
    "    return np.array([i if np.random.rand()<0.5 else j for i,j in zip(a,b)])\n",
    "\n",
    "def mutation(chromos):\n",
    "    mutated = np.array([i if np.random.rand()<1-MUTATION_P else np.random.randint(MAX_OPERATORS_START_ON_HOUR)\n",
    "                        for i in chromos])\n",
    "    return mutated\n",
    "\n",
    "def reduction(old_chromos, children, fits=None, is_manual=False):\n",
    "    if is_manual:\n",
    "        new_chromos = np.vstack([old_chromos[:1], children[:len(old_chromos)-1]])\n",
    "    else:\n",
    "        old_chromos_ids = list(range(len(old_chromos)))\n",
    "        old_chromos_fits_ar = [(i, f) for i,f in zip(old_chromos_ids, fits)]\n",
    "        old_chromos_ids = [i for i,f in sorted(old_chromos_fits_ar, key=lambda x: -x[1])]\n",
    "        old_chromos = old_chromos[old_chromos_ids]\n",
    "        new_chromos = np.vstack([old_chromos[:1],children[:len(old_chromos)-1]])\n",
    "    return new_chromos"
   ]
  },
  {
   "cell_type": "raw",
   "metadata": {
    "collapsed": true
   },
   "source": [
    "def select_manually(chromos):\n",
    "    to_print = [(i, get_path_len(chromo), chromo,) for i,chromo in enumerate(chromos)]\n",
    "    to_print = sorted(to_print, key = lambda line: line[1])\n",
    "    ids_map = {line[0]:idx for idx, line in enumerate(to_print)}\n",
    "    ids_map_r = {v:k for k,v in ids_map.items()}\n",
    "    if CLEAR_OUTPUT: clear_output()\n",
    "    print('Select best chromosomes')\n",
    "    for line in to_print:\n",
    "        print(\"{id_}: {l}, (len={length})\".format(id_=ids_map[line[0]], l=line[2], length=line[1]))\n",
    "    print('Enter best chromosomes ids:')\n",
    "    ids = input().strip()\n",
    "    if ids=='stop':\n",
    "        raise StopIteration\n",
    "    if len(ids)>0:\n",
    "        ids = list(map(int, ids.split(' ')))\n",
    "        ids = [ids_map_r[i] for i in ids]\n",
    "        not_ids = [ids_map_r[i] for i in ids_map_r if i not in ids]\n",
    "        parents = chromos[ids]\n",
    "        chromos = np.vstack([chromos[ids], chromos[not_ids]])\n",
    "    else:\n",
    "        parents = chromos\n",
    "    print('-----------------\\n')\n",
    "    return parents, chromos"
   ]
  },
  {
   "cell_type": "code",
   "execution_count": null,
   "metadata": {
    "collapsed": true
   },
   "outputs": [],
   "source": [
    "def select_auto(chromos, fits):\n",
    "    probs = np.exp(fits)/np.exp(fits).sum() #Softmax function\n",
    "    parents = np.array([chromos[i] for i in np.random.choice(range(len(chromos)), p=probs, size=len(chromos))])\n",
    "    return parents"
   ]
  },
  {
   "cell_type": "code",
   "execution_count": null,
   "metadata": {
    "collapsed": true
   },
   "outputs": [],
   "source": [
    "def ga_step(old_chromos, is_manual=False, n_lines=55, n_vip_lines=5):\n",
    "    chromos = old_chromos.copy()\n",
    "    #if len(chromos)%2==1: raise Exception('chromos number should be odd')\n",
    "    # step2: calculate fitness\n",
    "    stats_sim = np.array([sm.run_simulation(c, n_lines=55, n_vip_lines=5, verb=False, only_stat=True) for c in chromos])\n",
    "    fits = np.array([get_fitness(stat) for stat in stats_sim])\n",
    "    fits = fits/(fits.mean()+1e-10)\n",
    "    # step3: select parents vectors\n",
    "    if is_manual:\n",
    "        parents, chromos = select_manually(chromos)\n",
    "    else:\n",
    "        parents = select_auto(chromos, fits)\n",
    "    \n",
    "    # step4: set pairs. apply crossover and mutation\n",
    "    pairs = select_pairs(parents)\n",
    "    children = np.array([crossover(pair[0],pair[1]) for pair in np.vstack([pairs,pairs])]) #Each pair gives 2 children\n",
    "    mutated = np.array([mutation(child) for child in children])\n",
    "    new_chromos = reduction(chromos, mutated, fits, is_manual)\n",
    "    \n",
    "    stats = np.array([old_chromos, parents, children, mutated, new_chromos])\n",
    "    return new_chromos, stats, stats_sim"
   ]
  },
  {
   "cell_type": "markdown",
   "metadata": {},
   "source": [
    "# Create graph"
   ]
  },
  {
   "cell_type": "markdown",
   "metadata": {},
   "source": [
    "# Manual optimization"
   ]
  },
  {
   "cell_type": "raw",
   "metadata": {
    "collapsed": true
   },
   "source": [
    "N=10\n",
    "chromo_len = 10\n",
    "is_manual = True\n",
    "CLEAR_OUTPUT = False\n",
    "MUTATION_P = 0.3"
   ]
  },
  {
   "cell_type": "raw",
   "metadata": {},
   "source": [
    "chromos = np.array([generate_path(chromo_len, start_node, end_node, N_NODES) for i in range(N)])\n",
    "all_chromos = np.array([chromos])\n",
    "min_path_lens = np.array([min([get_path_len(i) for i in chromos])])\n",
    "stats = []"
   ]
  },
  {
   "cell_type": "raw",
   "metadata": {
    "scrolled": false
   },
   "source": [
    "for i in tqdm_notebook(range(1000)):\n",
    "    try:\n",
    "        chromos, stat = ga_step(A, chromos, is_manual=is_manual)\n",
    "    except StopIteration:\n",
    "        print(\"Stopped at\",i)\n",
    "        break\n",
    "    stats.append(stat)\n",
    "    \n",
    "    min_path_lens = np.append(min_path_lens, min([get_path_len(i) for i in chromos]))\n",
    "    all_chromos = np.append(all_chromos, [chromos], axis=0)\n",
    "    \n",
    "    min_len = min_path_lens[-1]\n",
    "    if not is_manual and i>=early_stopping_steps \\\n",
    "        and min_len!=np.inf and all(min_len==min_path_lens[- early_stopping_steps:]):\n",
    "        print('early stops at',i)\n",
    "        print('result', min_len)\n",
    "        break\n",
    "stats = np.array(stats)"
   ]
  },
  {
   "cell_type": "raw",
   "metadata": {},
   "source": [
    "plt.figure(figsize=(15,10))\n",
    "plt.subplot(231)\n",
    "sns.heatmap(stats[0][0], cmap=colors, cbar=False, annot=True)\n",
    "plt.ylabel('Хромосомы')\n",
    "plt.xlabel('Гены')\n",
    "plt.title('Исходные хромосомы')\n",
    "\n",
    "plt.subplot(232)\n",
    "sns.heatmap(stats[0][1], cmap=colors, cbar=False, annot=True)\n",
    "plt.ylabel('Хромосомы')\n",
    "plt.xlabel('Гены')\n",
    "plt.title('Селекционированные хромосомы')\n",
    "\n",
    "plt.subplot(233)\n",
    "sns.heatmap(stats[0][2], cmap=colors, cbar=False, annot=True)\n",
    "plt.ylabel('Хромосомы')\n",
    "plt.xlabel('Гены')\n",
    "plt.title('Скрещенные хромосомы')\n",
    "\n",
    "plt.subplot(234)\n",
    "sns.heatmap(stats[0][3], cmap=colors, cbar=False, annot=True)\n",
    "plt.ylabel('Хромосомы')\n",
    "plt.xlabel('Гены')\n",
    "plt.title('Мутировавшие хромосомы')\n",
    "\n",
    "plt.subplot(235)\n",
    "sns.heatmap(stats[0][4], cmap=colors, cbar=False, annot=True)\n",
    "plt.ylabel('Хромосомы')\n",
    "plt.xlabel('Гены')\n",
    "plt.title('Редуцированные хромосомы')\n",
    "plt.suptitle('Развитие хромосом на первой итерации')\n",
    "plt.show()"
   ]
  },
  {
   "cell_type": "raw",
   "metadata": {},
   "source": [
    "plot_data = np.array(min_path_lens)\n",
    "#plot_data[np.isinf(plot_data)]=plot_data[~np.isinf(plot_data)].max()*1.2 #Replace inf with finite numbers\n",
    "plot_data[np.isinf(plot_data)]=3#plot_data[~np.isinf(plot_data)].max()*1.2 #Replace inf with finite numbers\n",
    "\n",
    "plt.plot(plot_data)\n",
    "plt.title('Минимальный найденный путь')\n",
    "plt.ylabel('Минимальное расстояние')\n",
    "plt.xlabel('Итерация')\n",
    "#plt.yscale('log')\n",
    "plt.show()"
   ]
  },
  {
   "cell_type": "raw",
   "metadata": {},
   "source": [
    "best_chromo = chromos[np.argmin([get_path_len(i) for i in chromos])]\n",
    "best_chromo = best_chromo[np.append(best_chromo[:-1]!=best_chromo[1:], True)]\n",
    "best_edges = [(best_chromo[i], best_chromo[i+1]) for i in range(len(best_chromo[:-1]))]\n",
    "\n",
    "plot_graph(G, best_edges=best_edges, title='Найденный путь', colors=colors)"
   ]
  },
  {
   "cell_type": "markdown",
   "metadata": {},
   "source": [
    "# Automatic optimization"
   ]
  },
  {
   "cell_type": "code",
   "execution_count": null,
   "metadata": {
    "collapsed": true
   },
   "outputs": [],
   "source": [
    "N=10"
   ]
  },
  {
   "cell_type": "code",
   "execution_count": null,
   "metadata": {
    "collapsed": true
   },
   "outputs": [],
   "source": [
    "early_stopping_steps = 30\n",
    "is_manual = False\n",
    "MUTATION_P = 0.3\n",
    "n_lines = 50\n",
    "n_vip_lines = 5"
   ]
  },
  {
   "cell_type": "code",
   "execution_count": null,
   "metadata": {},
   "outputs": [],
   "source": [
    "chromos = np.array([generate_gene() for i in range(N)])\n",
    "all_chromos = np.array([chromos])\n",
    "stats_sim = np.array([sm.run_simulation(c, n_lines=n_lines, n_vip_lines=n_vip_lines, verb=False, only_stat=True) for c in chromos])\n",
    "min_costs = np.array([min([get_cost(stat) for stat in stats_sim])])\n",
    "stats = []"
   ]
  },
  {
   "cell_type": "code",
   "execution_count": null,
   "metadata": {
    "scrolled": false
   },
   "outputs": [],
   "source": [
    "for i in tqdm_notebook(range(100)):\n",
    "    try:\n",
    "        chromos, stat, stats_sim = ga_step(chromos, is_manual=is_manual, n_lines=n_lines, n_vip_lines=n_vip_lines)\n",
    "    except StopIteration:\n",
    "        print(\"Stopped at\",i)\n",
    "        break\n",
    "    stats.append(stat)\n",
    "    \n",
    "    min_costs = np.append(min_costs, min([get_cost(s) for s in stats_sim]))\n",
    "    all_chromos = np.append(all_chromos, [chromos], axis=0)\n",
    "    \n",
    "    min_cost = min_costs[-1]\n",
    "    if not is_manual and i>=early_stopping_steps \\\n",
    "        and all(min_cost==min_costs[- early_stopping_steps:]):\n",
    "        print('early stops at',i)\n",
    "        print('result', min_cost)\n",
    "        break\n",
    "stats = np.array(stats)"
   ]
  },
  {
   "cell_type": "code",
   "execution_count": null,
   "metadata": {},
   "outputs": [],
   "source": [
    "plot_data = np.array(min_costs)\n",
    "plot_data[np.isinf(plot_data)]=plot_data[~np.isinf(plot_data)].max()*1.2 #Replace inf with finite numbers\n",
    "\n",
    "plt.plot(plot_data)\n",
    "plt.title('Минимальная найденная стоимость')\n",
    "plt.ylabel('Минимальное расстояние')\n",
    "plt.xlabel('Итерация')\n",
    "#plt.yscale('log')\n",
    "plt.show()"
   ]
  },
  {
   "cell_type": "code",
   "execution_count": null,
   "metadata": {},
   "outputs": [],
   "source": [
    "best_chromo_idx = np.argmin([get_cost(s) for s in stats_sim])\n",
    "best_chromo = chromos[best_chromo_idx]\n",
    "best_stat = stats_sim[best_chromo_idx]"
   ]
  },
  {
   "cell_type": "code",
   "execution_count": null,
   "metadata": {},
   "outputs": [],
   "source": [
    "client_ds, op_ds, st = sm.run_simulation(best_chromo, n_lines=n_lines, n_vip_lines=n_vip_lines, verb=True, only_stat=False)"
   ]
  },
  {
   "cell_type": "code",
   "execution_count": null,
   "metadata": {},
   "outputs": [],
   "source": [
    "op_time_ds = pd.DataFrame(best_chromo.reshape(5,3), index=range(7,12), columns=['gold','silver','regular'])\n",
    "op_time_ds"
   ]
  },
  {
   "cell_type": "code",
   "execution_count": null,
   "metadata": {},
   "outputs": [],
   "source": [
    "sm.plot_clients_no_lines(client_ds)"
   ]
  },
  {
   "cell_type": "code",
   "execution_count": null,
   "metadata": {},
   "outputs": [],
   "source": [
    "sm.plot_clients_waitings(client_ds)"
   ]
  },
  {
   "cell_type": "code",
   "execution_count": null,
   "metadata": {},
   "outputs": [],
   "source": [
    "sm.plot_clients_success(client_ds)"
   ]
  },
  {
   "cell_type": "markdown",
   "metadata": {},
   "source": [
    "# Эксперимент 3"
   ]
  },
  {
   "cell_type": "code",
   "execution_count": null,
   "metadata": {
    "collapsed": true
   },
   "outputs": [],
   "source": [
    "early_stopping_steps = 30\n",
    "is_manual = False\n",
    "MUTATION_P = 0.3\n",
    "n_lines = 50\n",
    "n_vip_lines = 0"
   ]
  },
  {
   "cell_type": "code",
   "execution_count": null,
   "metadata": {},
   "outputs": [],
   "source": [
    "chromos = np.array([generate_gene() for i in range(N)])\n",
    "all_chromos = np.array([chromos])\n",
    "stats_sim = np.array([sm.run_simulation(c, n_lines=n_lines, n_vip_lines=n_vip_lines, verb=False, only_stat=True) for c in chromos])\n",
    "min_costs = np.array([min([get_cost(stat) for stat in stats_sim])])\n",
    "stats = []"
   ]
  },
  {
   "cell_type": "code",
   "execution_count": null,
   "metadata": {
    "collapsed": true,
    "scrolled": false
   },
   "outputs": [],
   "source": [
    "for i in tqdm_notebook(range(100)):\n",
    "    try:\n",
    "        chromos, stat, stats_sim = ga_step(chromos, is_manual=is_manual, n_lines=n_lines, n_vip_lines=n_vip_lines)\n",
    "    except StopIteration:\n",
    "        print(\"Stopped at\",i)\n",
    "        break\n",
    "    stats.append(stat)\n",
    "    \n",
    "    min_costs = np.append(min_costs, min([get_cost(s) for s in stats_sim]))\n",
    "    all_chromos = np.append(all_chromos, [chromos], axis=0)\n",
    "    \n",
    "    min_cost = min_costs[-1]\n",
    "    if not is_manual and i>=early_stopping_steps \\\n",
    "        and all(min_cost==min_costs[- early_stopping_steps:]):\n",
    "        print('early stops at',i)\n",
    "        print('result', min_cost)\n",
    "        break\n",
    "stats = np.array(stats)"
   ]
  },
  {
   "cell_type": "code",
   "execution_count": null,
   "metadata": {
    "collapsed": true
   },
   "outputs": [],
   "source": [
    "plot_data = np.array(min_costs)\n",
    "plot_data[np.isinf(plot_data)]=plot_data[~np.isinf(plot_data)].max()*1.2 #Replace inf with finite numbers\n",
    "\n",
    "plt.plot(plot_data)\n",
    "plt.title('Минимальная найденная стоимость')\n",
    "plt.ylabel('Минимальное расстояние')\n",
    "plt.xlabel('Итерация')\n",
    "#plt.yscale('log')\n",
    "plt.show()"
   ]
  },
  {
   "cell_type": "code",
   "execution_count": null,
   "metadata": {
    "collapsed": true
   },
   "outputs": [],
   "source": [
    "best_chromo_idx = np.argmin([get_cost(s) for s in stats_sim])\n",
    "best_chromo = chromos[best_chromo_idx]\n",
    "best_stat = stats_sim[best_chromo_idx]"
   ]
  },
  {
   "cell_type": "code",
   "execution_count": null,
   "metadata": {
    "collapsed": true
   },
   "outputs": [],
   "source": [
    "client_ds, op_ds, st = sm.run_simulation(best_chromo, n_lines=n_lines, n_vip_lines=n_vip_lines, verb=True, only_stat=False)"
   ]
  },
  {
   "cell_type": "code",
   "execution_count": null,
   "metadata": {
    "collapsed": true
   },
   "outputs": [],
   "source": [
    "op_time_ds = pd.DataFrame(best_chromo.reshape(5,3), index=range(7,12), columns=['gold','silver','regular'])\n",
    "op_time_ds"
   ]
  },
  {
   "cell_type": "code",
   "execution_count": null,
   "metadata": {
    "collapsed": true
   },
   "outputs": [],
   "source": [
    "sm.plot_clients_no_lines(client_ds)"
   ]
  },
  {
   "cell_type": "code",
   "execution_count": null,
   "metadata": {
    "collapsed": true
   },
   "outputs": [],
   "source": [
    "sm.plot_clients_waitings(client_ds)"
   ]
  },
  {
   "cell_type": "code",
   "execution_count": null,
   "metadata": {
    "collapsed": true
   },
   "outputs": [],
   "source": [
    "sm.plot_clients_success(client_ds)"
   ]
  },
  {
   "cell_type": "markdown",
   "metadata": {},
   "source": [
    "# Эксперимент 4"
   ]
  },
  {
   "cell_type": "code",
   "execution_count": null,
   "metadata": {
    "collapsed": true
   },
   "outputs": [],
   "source": [
    "early_stopping_steps = 30\n",
    "is_manual = False\n",
    "MUTATION_P = 0.3\n",
    "n_lines = 55\n",
    "n_vip_lines = 0"
   ]
  },
  {
   "cell_type": "code",
   "execution_count": null,
   "metadata": {
    "collapsed": true
   },
   "outputs": [],
   "source": [
    "chromos = np.array([generate_gene() for i in range(N)])\n",
    "all_chromos = np.array([chromos])\n",
    "stats_sim = np.array([sm.run_simulation(c, n_lines=n_lines, n_vip_lines=n_vip_lines, verb=False, only_stat=True) for c in chromos])\n",
    "min_costs = np.array([min([get_cost(stat) for stat in stats_sim])])\n",
    "stats = []"
   ]
  },
  {
   "cell_type": "code",
   "execution_count": null,
   "metadata": {
    "collapsed": true,
    "scrolled": false
   },
   "outputs": [],
   "source": [
    "for i in tqdm_notebook(range(100)):\n",
    "    try:\n",
    "        chromos, stat, stats_sim = ga_step(chromos, is_manual=is_manual, n_lines=n_lines, n_vip_lines=n_vip_lines)\n",
    "    except StopIteration:\n",
    "        print(\"Stopped at\",i)\n",
    "        break\n",
    "    stats.append(stat)\n",
    "    \n",
    "    min_costs = np.append(min_costs, min([get_cost(s) for s in stats_sim]))\n",
    "    all_chromos = np.append(all_chromos, [chromos], axis=0)\n",
    "    \n",
    "    min_cost = min_costs[-1]\n",
    "    if not is_manual and i>=early_stopping_steps \\\n",
    "        and all(min_cost==min_costs[- early_stopping_steps:]):\n",
    "        print('early stops at',i)\n",
    "        print('result', min_cost)\n",
    "        break\n",
    "stats = np.array(stats)"
   ]
  },
  {
   "cell_type": "code",
   "execution_count": null,
   "metadata": {
    "collapsed": true
   },
   "outputs": [],
   "source": [
    "plot_data = np.array(min_costs)\n",
    "plot_data[np.isinf(plot_data)]=plot_data[~np.isinf(plot_data)].max()*1.2 #Replace inf with finite numbers\n",
    "\n",
    "plt.plot(plot_data)\n",
    "plt.title('Минимальная найденная стоимость')\n",
    "plt.ylabel('Минимальное расстояние')\n",
    "plt.xlabel('Итерация')\n",
    "#plt.yscale('log')\n",
    "plt.show()"
   ]
  },
  {
   "cell_type": "code",
   "execution_count": null,
   "metadata": {
    "collapsed": true
   },
   "outputs": [],
   "source": [
    "best_chromo_idx = np.argmin([get_cost(s) for s in stats_sim])\n",
    "best_chromo = chromos[best_chromo_idx]\n",
    "best_stat = stats_sim[best_chromo_idx]"
   ]
  },
  {
   "cell_type": "code",
   "execution_count": null,
   "metadata": {
    "collapsed": true
   },
   "outputs": [],
   "source": [
    "client_ds, op_ds, st = sm.run_simulation(best_chromo, n_lines=n_lines, n_vip_lines=n_vip_lines, verb=True, only_stat=False)"
   ]
  },
  {
   "cell_type": "code",
   "execution_count": null,
   "metadata": {
    "collapsed": true
   },
   "outputs": [],
   "source": [
    "op_time_ds = pd.DataFrame(best_chromo.reshape(5,3), index=range(7,12), columns=['gold','silver','regular'])\n",
    "op_time_ds"
   ]
  },
  {
   "cell_type": "code",
   "execution_count": null,
   "metadata": {
    "collapsed": true
   },
   "outputs": [],
   "source": [
    "sm.plot_clients_no_lines(client_ds)"
   ]
  },
  {
   "cell_type": "code",
   "execution_count": null,
   "metadata": {
    "collapsed": true
   },
   "outputs": [],
   "source": [
    "sm.plot_clients_waitings(client_ds)"
   ]
  },
  {
   "cell_type": "code",
   "execution_count": null,
   "metadata": {
    "collapsed": true
   },
   "outputs": [],
   "source": [
    "sm.plot_clients_success(client_ds)"
   ]
  },
  {
   "cell_type": "markdown",
   "metadata": {},
   "source": [
    "# Эксперимент 5"
   ]
  },
  {
   "cell_type": "code",
   "execution_count": null,
   "metadata": {
    "collapsed": true
   },
   "outputs": [],
   "source": [
    "early_stopping_steps = 30\n",
    "is_manual = False\n",
    "MUTATION_P = 0.3\n",
    "n_lines = 55\n",
    "n_vip_lines = 5"
   ]
  },
  {
   "cell_type": "code",
   "execution_count": null,
   "metadata": {
    "collapsed": true
   },
   "outputs": [],
   "source": [
    "chromos = np.array([generate_gene() for i in range(N)])\n",
    "all_chromos = np.array([chromos])\n",
    "stats_sim = np.array([sm.run_simulation(c, n_lines=n_lines, n_vip_lines=n_vip_lines, verb=False, only_stat=True) for c in chromos])\n",
    "min_costs = np.array([min([get_cost(stat) for stat in stats_sim])])\n",
    "stats = []"
   ]
  },
  {
   "cell_type": "code",
   "execution_count": null,
   "metadata": {
    "collapsed": true,
    "scrolled": false
   },
   "outputs": [],
   "source": [
    "for i in tqdm_notebook(range(100)):\n",
    "    try:\n",
    "        chromos, stat, stats_sim = ga_step(chromos, is_manual=is_manual, n_lines=n_lines, n_vip_lines=n_vip_lines)\n",
    "    except StopIteration:\n",
    "        print(\"Stopped at\",i)\n",
    "        break\n",
    "    stats.append(stat)\n",
    "    \n",
    "    min_costs = np.append(min_costs, min([get_cost(s) for s in stats_sim]))\n",
    "    all_chromos = np.append(all_chromos, [chromos], axis=0)\n",
    "    \n",
    "    min_cost = min_costs[-1]\n",
    "    if not is_manual and i>=early_stopping_steps \\\n",
    "        and all(min_cost==min_costs[- early_stopping_steps:]):\n",
    "        print('early stops at',i)\n",
    "        print('result', min_cost)\n",
    "        break\n",
    "stats = np.array(stats)"
   ]
  },
  {
   "cell_type": "code",
   "execution_count": null,
   "metadata": {
    "collapsed": true
   },
   "outputs": [],
   "source": [
    "plot_data = np.array(min_costs)\n",
    "plot_data[np.isinf(plot_data)]=plot_data[~np.isinf(plot_data)].max()*1.2 #Replace inf with finite numbers\n",
    "\n",
    "plt.plot(plot_data)\n",
    "plt.title('Минимальная найденная стоимость')\n",
    "plt.ylabel('Минимальное расстояние')\n",
    "plt.xlabel('Итерация')\n",
    "#plt.yscale('log')\n",
    "plt.show()"
   ]
  },
  {
   "cell_type": "code",
   "execution_count": null,
   "metadata": {
    "collapsed": true
   },
   "outputs": [],
   "source": [
    "best_chromo_idx = np.argmin([get_cost(s) for s in stats_sim])\n",
    "best_chromo = chromos[best_chromo_idx]\n",
    "best_stat = stats_sim[best_chromo_idx]"
   ]
  },
  {
   "cell_type": "code",
   "execution_count": null,
   "metadata": {
    "collapsed": true
   },
   "outputs": [],
   "source": [
    "client_ds, op_ds, st = sm.run_simulation(best_chromo, n_lines=n_lines, n_vip_lines=n_vip_lines, verb=True, only_stat=False)"
   ]
  },
  {
   "cell_type": "code",
   "execution_count": null,
   "metadata": {
    "collapsed": true
   },
   "outputs": [],
   "source": [
    "op_time_ds = pd.DataFrame(best_chromo.reshape(5,3), index=range(7,12), columns=['gold','silver','regular'])\n",
    "op_time_ds"
   ]
  },
  {
   "cell_type": "code",
   "execution_count": null,
   "metadata": {
    "collapsed": true
   },
   "outputs": [],
   "source": [
    "sm.plot_clients_no_lines(client_ds)"
   ]
  },
  {
   "cell_type": "code",
   "execution_count": null,
   "metadata": {
    "collapsed": true
   },
   "outputs": [],
   "source": [
    "sm.plot_clients_waitings(client_ds)"
   ]
  },
  {
   "cell_type": "code",
   "execution_count": null,
   "metadata": {
    "collapsed": true
   },
   "outputs": [],
   "source": [
    "sm.plot_clients_success(client_ds)"
   ]
  },
  {
   "cell_type": "markdown",
   "metadata": {},
   "source": [
    "# Эксперимент 6"
   ]
  },
  {
   "cell_type": "code",
   "execution_count": null,
   "metadata": {
    "collapsed": true
   },
   "outputs": [],
   "source": [
    "early_stopping_steps = 30\n",
    "is_manual = False\n",
    "MUTATION_P = 0.3\n",
    "n_lines = 50\n",
    "n_vip_lines = 10"
   ]
  },
  {
   "cell_type": "code",
   "execution_count": null,
   "metadata": {
    "collapsed": true
   },
   "outputs": [],
   "source": [
    "chromos = np.array([generate_gene() for i in range(N)])\n",
    "all_chromos = np.array([chromos])\n",
    "stats_sim = np.array([sm.run_simulation(c, n_lines=n_lines, n_vip_lines=n_vip_lines, verb=False, only_stat=True) for c in chromos])\n",
    "min_costs = np.array([min([get_cost(stat) for stat in stats_sim])])\n",
    "stats = []"
   ]
  },
  {
   "cell_type": "code",
   "execution_count": null,
   "metadata": {
    "collapsed": true,
    "scrolled": false
   },
   "outputs": [],
   "source": [
    "for i in tqdm_notebook(range(100)):\n",
    "    try:\n",
    "        chromos, stat, stats_sim = ga_step(chromos, is_manual=is_manual, n_lines=n_lines, n_vip_lines=n_vip_lines)\n",
    "    except StopIteration:\n",
    "        print(\"Stopped at\",i)\n",
    "        break\n",
    "    stats.append(stat)\n",
    "    \n",
    "    min_costs = np.append(min_costs, min([get_cost(s) for s in stats_sim]))\n",
    "    all_chromos = np.append(all_chromos, [chromos], axis=0)\n",
    "    \n",
    "    min_cost = min_costs[-1]\n",
    "    if not is_manual and i>=early_stopping_steps \\\n",
    "        and all(min_cost==min_costs[- early_stopping_steps:]):\n",
    "        print('early stops at',i)\n",
    "        print('result', min_cost)\n",
    "        break\n",
    "stats = np.array(stats)"
   ]
  },
  {
   "cell_type": "code",
   "execution_count": null,
   "metadata": {
    "collapsed": true
   },
   "outputs": [],
   "source": [
    "plot_data = np.array(min_costs)\n",
    "plot_data[np.isinf(plot_data)]=plot_data[~np.isinf(plot_data)].max()*1.2 #Replace inf with finite numbers\n",
    "\n",
    "plt.plot(plot_data)\n",
    "plt.title('Минимальная найденная стоимость')\n",
    "plt.ylabel('Минимальное расстояние')\n",
    "plt.xlabel('Итерация')\n",
    "#plt.yscale('log')\n",
    "plt.show()"
   ]
  },
  {
   "cell_type": "code",
   "execution_count": null,
   "metadata": {
    "collapsed": true
   },
   "outputs": [],
   "source": [
    "best_chromo_idx = np.argmin([get_cost(s) for s in stats_sim])\n",
    "best_chromo = chromos[best_chromo_idx]\n",
    "best_stat = stats_sim[best_chromo_idx]"
   ]
  },
  {
   "cell_type": "code",
   "execution_count": null,
   "metadata": {
    "collapsed": true
   },
   "outputs": [],
   "source": [
    "client_ds, op_ds, st = sm.run_simulation(best_chromo, n_lines=n_lines, n_vip_lines=n_vip_lines, verb=True, only_stat=False)"
   ]
  },
  {
   "cell_type": "code",
   "execution_count": null,
   "metadata": {
    "collapsed": true
   },
   "outputs": [],
   "source": [
    "op_time_ds = pd.DataFrame(best_chromo.reshape(5,3), index=range(7,12), columns=['gold','silver','regular'])\n",
    "op_time_ds"
   ]
  },
  {
   "cell_type": "code",
   "execution_count": null,
   "metadata": {
    "collapsed": true
   },
   "outputs": [],
   "source": [
    "sm.plot_clients_no_lines(client_ds)"
   ]
  },
  {
   "cell_type": "code",
   "execution_count": null,
   "metadata": {
    "collapsed": true
   },
   "outputs": [],
   "source": [
    "sm.plot_clients_waitings(client_ds)"
   ]
  },
  {
   "cell_type": "code",
   "execution_count": null,
   "metadata": {
    "collapsed": true
   },
   "outputs": [],
   "source": [
    "sm.plot_clients_success(client_ds)"
   ]
  },
  {
   "cell_type": "markdown",
   "metadata": {},
   "source": [
    "# Эксперимент 7"
   ]
  },
  {
   "cell_type": "code",
   "execution_count": null,
   "metadata": {
    "collapsed": true
   },
   "outputs": [],
   "source": [
    "early_stopping_steps = 30\n",
    "is_manual = False\n",
    "MUTATION_P = 0.3\n",
    "n_lines = 55\n",
    "n_vip_lines = 10"
   ]
  },
  {
   "cell_type": "code",
   "execution_count": null,
   "metadata": {
    "collapsed": true
   },
   "outputs": [],
   "source": [
    "chromos = np.array([generate_gene() for i in range(N)])\n",
    "all_chromos = np.array([chromos])\n",
    "stats_sim = np.array([sm.run_simulation(c, n_lines=n_lines, n_vip_lines=n_vip_lines, verb=False, only_stat=True) for c in chromos])\n",
    "min_costs = np.array([min([get_cost(stat) for stat in stats_sim])])\n",
    "stats = []"
   ]
  },
  {
   "cell_type": "code",
   "execution_count": null,
   "metadata": {
    "collapsed": true,
    "scrolled": false
   },
   "outputs": [],
   "source": [
    "for i in tqdm_notebook(range(100)):\n",
    "    try:\n",
    "        chromos, stat, stats_sim = ga_step(chromos, is_manual=is_manual, n_lines=n_lines, n_vip_lines=n_vip_lines)\n",
    "    except StopIteration:\n",
    "        print(\"Stopped at\",i)\n",
    "        break\n",
    "    stats.append(stat)\n",
    "    \n",
    "    min_costs = np.append(min_costs, min([get_cost(s) for s in stats_sim]))\n",
    "    all_chromos = np.append(all_chromos, [chromos], axis=0)\n",
    "    \n",
    "    min_cost = min_costs[-1]\n",
    "    if not is_manual and i>=early_stopping_steps \\\n",
    "        and all(min_cost==min_costs[- early_stopping_steps:]):\n",
    "        print('early stops at',i)\n",
    "        print('result', min_cost)\n",
    "        break\n",
    "stats = np.array(stats)"
   ]
  },
  {
   "cell_type": "code",
   "execution_count": null,
   "metadata": {
    "collapsed": true
   },
   "outputs": [],
   "source": [
    "plot_data = np.array(min_costs)\n",
    "plot_data[np.isinf(plot_data)]=plot_data[~np.isinf(plot_data)].max()*1.2 #Replace inf with finite numbers\n",
    "\n",
    "plt.plot(plot_data)\n",
    "plt.title('Минимальная найденная стоимость')\n",
    "plt.ylabel('Минимальное расстояние')\n",
    "plt.xlabel('Итерация')\n",
    "#plt.yscale('log')\n",
    "plt.show()"
   ]
  },
  {
   "cell_type": "code",
   "execution_count": null,
   "metadata": {
    "collapsed": true
   },
   "outputs": [],
   "source": [
    "best_chromo_idx = np.argmin([get_cost(s) for s in stats_sim])\n",
    "best_chromo = chromos[best_chromo_idx]\n",
    "best_stat = stats_sim[best_chromo_idx]"
   ]
  },
  {
   "cell_type": "code",
   "execution_count": null,
   "metadata": {
    "collapsed": true
   },
   "outputs": [],
   "source": [
    "client_ds, op_ds, st = sm.run_simulation(best_chromo, n_lines=n_lines, n_vip_lines=n_vip_lines, verb=True, only_stat=False)"
   ]
  },
  {
   "cell_type": "code",
   "execution_count": null,
   "metadata": {
    "collapsed": true
   },
   "outputs": [],
   "source": [
    "op_time_ds = pd.DataFrame(best_chromo.reshape(5,3), index=range(7,12), columns=['gold','silver','regular'])\n",
    "op_time_ds"
   ]
  },
  {
   "cell_type": "code",
   "execution_count": null,
   "metadata": {
    "collapsed": true
   },
   "outputs": [],
   "source": [
    "sm.plot_clients_no_lines(client_ds)"
   ]
  },
  {
   "cell_type": "code",
   "execution_count": null,
   "metadata": {
    "collapsed": true
   },
   "outputs": [],
   "source": [
    "sm.plot_clients_waitings(client_ds)"
   ]
  },
  {
   "cell_type": "code",
   "execution_count": null,
   "metadata": {
    "collapsed": true
   },
   "outputs": [],
   "source": [
    "sm.plot_clients_success(client_ds)"
   ]
  },
  {
   "cell_type": "markdown",
   "metadata": {},
   "source": [
    "# Эксперимент 8"
   ]
  },
  {
   "cell_type": "code",
   "execution_count": null,
   "metadata": {
    "collapsed": true
   },
   "outputs": [],
   "source": [
    "early_stopping_steps = 30\n",
    "is_manual = False\n",
    "MUTATION_P = 0.3\n",
    "n_lines = 60\n",
    "n_vip_lines = 0"
   ]
  },
  {
   "cell_type": "code",
   "execution_count": null,
   "metadata": {
    "collapsed": true
   },
   "outputs": [],
   "source": [
    "chromos = np.array([generate_gene() for i in range(N)])\n",
    "all_chromos = np.array([chromos])\n",
    "stats_sim = np.array([sm.run_simulation(c, n_lines=n_lines, n_vip_lines=n_vip_lines, verb=False, only_stat=True) for c in chromos])\n",
    "min_costs = np.array([min([get_cost(stat) for stat in stats_sim])])\n",
    "stats = []"
   ]
  },
  {
   "cell_type": "code",
   "execution_count": null,
   "metadata": {
    "collapsed": true,
    "scrolled": false
   },
   "outputs": [],
   "source": [
    "for i in tqdm_notebook(range(100)):\n",
    "    try:\n",
    "        chromos, stat, stats_sim = ga_step(chromos, is_manual=is_manual, n_lines=n_lines, n_vip_lines=n_vip_lines)\n",
    "    except StopIteration:\n",
    "        print(\"Stopped at\",i)\n",
    "        break\n",
    "    stats.append(stat)\n",
    "    \n",
    "    min_costs = np.append(min_costs, min([get_cost(s) for s in stats_sim]))\n",
    "    all_chromos = np.append(all_chromos, [chromos], axis=0)\n",
    "    \n",
    "    min_cost = min_costs[-1]\n",
    "    if not is_manual and i>=early_stopping_steps \\\n",
    "        and all(min_cost==min_costs[- early_stopping_steps:]):\n",
    "        print('early stops at',i)\n",
    "        print('result', min_cost)\n",
    "        break\n",
    "stats = np.array(stats)"
   ]
  },
  {
   "cell_type": "code",
   "execution_count": null,
   "metadata": {
    "collapsed": true
   },
   "outputs": [],
   "source": [
    "plot_data = np.array(min_costs)\n",
    "plot_data[np.isinf(plot_data)]=plot_data[~np.isinf(plot_data)].max()*1.2 #Replace inf with finite numbers\n",
    "\n",
    "plt.plot(plot_data)\n",
    "plt.title('Минимальная найденная стоимость')\n",
    "plt.ylabel('Минимальное расстояние')\n",
    "plt.xlabel('Итерация')\n",
    "#plt.yscale('log')\n",
    "plt.show()"
   ]
  },
  {
   "cell_type": "code",
   "execution_count": null,
   "metadata": {
    "collapsed": true
   },
   "outputs": [],
   "source": [
    "best_chromo_idx = np.argmin([get_cost(s) for s in stats_sim])\n",
    "best_chromo = chromos[best_chromo_idx]\n",
    "best_stat = stats_sim[best_chromo_idx]"
   ]
  },
  {
   "cell_type": "code",
   "execution_count": null,
   "metadata": {
    "collapsed": true
   },
   "outputs": [],
   "source": [
    "client_ds, op_ds, st = sm.run_simulation(best_chromo, n_lines=n_lines, n_vip_lines=n_vip_lines, verb=True, only_stat=False)"
   ]
  },
  {
   "cell_type": "code",
   "execution_count": null,
   "metadata": {
    "collapsed": true
   },
   "outputs": [],
   "source": [
    "op_time_ds = pd.DataFrame(best_chromo.reshape(5,3), index=range(7,12), columns=['gold','silver','regular'])\n",
    "op_time_ds"
   ]
  },
  {
   "cell_type": "code",
   "execution_count": null,
   "metadata": {
    "collapsed": true
   },
   "outputs": [],
   "source": [
    "sm.plot_clients_no_lines(client_ds)"
   ]
  },
  {
   "cell_type": "code",
   "execution_count": null,
   "metadata": {
    "collapsed": true
   },
   "outputs": [],
   "source": [
    "sm.plot_clients_waitings(client_ds)"
   ]
  },
  {
   "cell_type": "code",
   "execution_count": null,
   "metadata": {
    "collapsed": true
   },
   "outputs": [],
   "source": [
    "sm.plot_clients_success(client_ds)"
   ]
  },
  {
   "cell_type": "markdown",
   "metadata": {},
   "source": [
    "# Эксперимент 9"
   ]
  },
  {
   "cell_type": "code",
   "execution_count": null,
   "metadata": {
    "collapsed": true
   },
   "outputs": [],
   "source": [
    "early_stopping_steps = 30\n",
    "is_manual = False\n",
    "MUTATION_P = 0.3\n",
    "n_lines = 60\n",
    "n_vip_lines = 5"
   ]
  },
  {
   "cell_type": "code",
   "execution_count": null,
   "metadata": {
    "collapsed": true
   },
   "outputs": [],
   "source": [
    "chromos = np.array([generate_gene() for i in range(N)])\n",
    "all_chromos = np.array([chromos])\n",
    "stats_sim = np.array([sm.run_simulation(c, n_lines=n_lines, n_vip_lines=n_vip_lines, verb=False, only_stat=True) for c in chromos])\n",
    "min_costs = np.array([min([get_cost(stat) for stat in stats_sim])])\n",
    "stats = []"
   ]
  },
  {
   "cell_type": "code",
   "execution_count": null,
   "metadata": {
    "collapsed": true,
    "scrolled": false
   },
   "outputs": [],
   "source": [
    "for i in tqdm_notebook(range(100)):\n",
    "    try:\n",
    "        chromos, stat, stats_sim = ga_step(chromos, is_manual=is_manual, n_lines=n_lines, n_vip_lines=n_vip_lines)\n",
    "    except StopIteration:\n",
    "        print(\"Stopped at\",i)\n",
    "        break\n",
    "    stats.append(stat)\n",
    "    \n",
    "    min_costs = np.append(min_costs, min([get_cost(s) for s in stats_sim]))\n",
    "    all_chromos = np.append(all_chromos, [chromos], axis=0)\n",
    "    \n",
    "    min_cost = min_costs[-1]\n",
    "    if not is_manual and i>=early_stopping_steps \\\n",
    "        and all(min_cost==min_costs[- early_stopping_steps:]):\n",
    "        print('early stops at',i)\n",
    "        print('result', min_cost)\n",
    "        break\n",
    "stats = np.array(stats)"
   ]
  },
  {
   "cell_type": "code",
   "execution_count": null,
   "metadata": {
    "collapsed": true
   },
   "outputs": [],
   "source": [
    "plot_data = np.array(min_costs)\n",
    "plot_data[np.isinf(plot_data)]=plot_data[~np.isinf(plot_data)].max()*1.2 #Replace inf with finite numbers\n",
    "\n",
    "plt.plot(plot_data)\n",
    "plt.title('Минимальная найденная стоимость')\n",
    "plt.ylabel('Минимальное расстояние')\n",
    "plt.xlabel('Итерация')\n",
    "#plt.yscale('log')\n",
    "plt.show()"
   ]
  },
  {
   "cell_type": "code",
   "execution_count": null,
   "metadata": {
    "collapsed": true
   },
   "outputs": [],
   "source": [
    "best_chromo_idx = np.argmin([get_cost(s) for s in stats_sim])\n",
    "best_chromo = chromos[best_chromo_idx]\n",
    "best_stat = stats_sim[best_chromo_idx]"
   ]
  },
  {
   "cell_type": "code",
   "execution_count": null,
   "metadata": {
    "collapsed": true
   },
   "outputs": [],
   "source": [
    "client_ds, op_ds, st = sm.run_simulation(best_chromo, n_lines=n_lines, n_vip_lines=n_vip_lines, verb=True, only_stat=False)"
   ]
  },
  {
   "cell_type": "code",
   "execution_count": null,
   "metadata": {
    "collapsed": true
   },
   "outputs": [],
   "source": [
    "op_time_ds = pd.DataFrame(best_chromo.reshape(5,3), index=range(7,12), columns=['gold','silver','regular'])\n",
    "op_time_ds"
   ]
  },
  {
   "cell_type": "code",
   "execution_count": null,
   "metadata": {
    "collapsed": true
   },
   "outputs": [],
   "source": [
    "sm.plot_clients_no_lines(client_ds)"
   ]
  },
  {
   "cell_type": "code",
   "execution_count": null,
   "metadata": {
    "collapsed": true
   },
   "outputs": [],
   "source": [
    "sm.plot_clients_waitings(client_ds)"
   ]
  },
  {
   "cell_type": "code",
   "execution_count": null,
   "metadata": {
    "collapsed": true
   },
   "outputs": [],
   "source": [
    "sm.plot_clients_success(client_ds)"
   ]
  },
  {
   "cell_type": "markdown",
   "metadata": {},
   "source": [
    "# Эксперимент 10"
   ]
  },
  {
   "cell_type": "code",
   "execution_count": null,
   "metadata": {
    "collapsed": true
   },
   "outputs": [],
   "source": [
    "early_stopping_steps = 30\n",
    "is_manual = False\n",
    "MUTATION_P = 0.3\n",
    "n_lines = 60\n",
    "n_vip_lines = 10"
   ]
  },
  {
   "cell_type": "code",
   "execution_count": null,
   "metadata": {
    "collapsed": true
   },
   "outputs": [],
   "source": [
    "chromos = np.array([generate_gene() for i in range(N)])\n",
    "all_chromos = np.array([chromos])\n",
    "stats_sim = np.array([sm.run_simulation(c, n_lines=n_lines, n_vip_lines=n_vip_lines, verb=False, only_stat=True) for c in chromos])\n",
    "min_costs = np.array([min([get_cost(stat) for stat in stats_sim])])\n",
    "stats = []"
   ]
  },
  {
   "cell_type": "code",
   "execution_count": null,
   "metadata": {
    "collapsed": true,
    "scrolled": false
   },
   "outputs": [],
   "source": [
    "for i in tqdm_notebook(range(100)):\n",
    "    try:\n",
    "        chromos, stat, stats_sim = ga_step(chromos, is_manual=is_manual, n_lines=n_lines, n_vip_lines=n_vip_lines)\n",
    "    except StopIteration:\n",
    "        print(\"Stopped at\",i)\n",
    "        break\n",
    "    stats.append(stat)\n",
    "    \n",
    "    min_costs = np.append(min_costs, min([get_cost(s) for s in stats_sim]))\n",
    "    all_chromos = np.append(all_chromos, [chromos], axis=0)\n",
    "    \n",
    "    min_cost = min_costs[-1]\n",
    "    if not is_manual and i>=early_stopping_steps \\\n",
    "        and all(min_cost==min_costs[- early_stopping_steps:]):\n",
    "        print('early stops at',i)\n",
    "        print('result', min_cost)\n",
    "        break\n",
    "stats = np.array(stats)"
   ]
  },
  {
   "cell_type": "code",
   "execution_count": null,
   "metadata": {
    "collapsed": true
   },
   "outputs": [],
   "source": [
    "plot_data = np.array(min_costs)\n",
    "plot_data[np.isinf(plot_data)]=plot_data[~np.isinf(plot_data)].max()*1.2 #Replace inf with finite numbers\n",
    "\n",
    "plt.plot(plot_data)\n",
    "plt.title('Минимальная найденная стоимость')\n",
    "plt.ylabel('Минимальное расстояние')\n",
    "plt.xlabel('Итерация')\n",
    "#plt.yscale('log')\n",
    "plt.show()"
   ]
  },
  {
   "cell_type": "code",
   "execution_count": null,
   "metadata": {
    "collapsed": true
   },
   "outputs": [],
   "source": [
    "best_chromo_idx = np.argmin([get_cost(s) for s in stats_sim])\n",
    "best_chromo = chromos[best_chromo_idx]\n",
    "best_stat = stats_sim[best_chromo_idx]"
   ]
  },
  {
   "cell_type": "code",
   "execution_count": null,
   "metadata": {
    "collapsed": true
   },
   "outputs": [],
   "source": [
    "client_ds, op_ds, st = sm.run_simulation(best_chromo, n_lines=n_lines, n_vip_lines=n_vip_lines, verb=True, only_stat=False)"
   ]
  },
  {
   "cell_type": "code",
   "execution_count": null,
   "metadata": {
    "collapsed": true
   },
   "outputs": [],
   "source": [
    "op_time_ds = pd.DataFrame(best_chromo.reshape(5,3), index=range(7,12), columns=['gold','silver','regular'])\n",
    "op_time_ds"
   ]
  },
  {
   "cell_type": "code",
   "execution_count": null,
   "metadata": {
    "collapsed": true
   },
   "outputs": [],
   "source": [
    "sm.plot_clients_no_lines(client_ds)"
   ]
  },
  {
   "cell_type": "code",
   "execution_count": null,
   "metadata": {
    "collapsed": true
   },
   "outputs": [],
   "source": [
    "sm.plot_clients_waitings(client_ds)"
   ]
  },
  {
   "cell_type": "code",
   "execution_count": null,
   "metadata": {
    "collapsed": true
   },
   "outputs": [],
   "source": [
    "sm.plot_clients_success(client_ds)"
   ]
  }
 ],
 "metadata": {
  "kernelspec": {
   "display_name": "Python 3",
   "language": "python",
   "name": "python3"
  },
  "language_info": {
   "codemirror_mode": {
    "name": "ipython",
    "version": 3
   },
   "file_extension": ".py",
   "mimetype": "text/x-python",
   "name": "python",
   "nbconvert_exporter": "python",
   "pygments_lexer": "ipython3",
   "version": "3.6.3"
  }
 },
 "nbformat": 4,
 "nbformat_minor": 2
}
