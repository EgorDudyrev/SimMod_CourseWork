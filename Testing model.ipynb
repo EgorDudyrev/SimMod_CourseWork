{
 "cells": [
  {
   "cell_type": "code",
   "execution_count": 1,
   "metadata": {
    "collapsed": true
   },
   "outputs": [],
   "source": [
    "import numpy as np\n",
    "import pandas as pd\n",
    "import matplotlib.pyplot as plt\n",
    "import seaborn as sns\n",
    "import datetime\n",
    "import importlib\n",
    "\n",
    "from tqdm import tqdm_notebook"
   ]
  },
  {
   "cell_type": "code",
   "execution_count": 2,
   "metadata": {
    "collapsed": true
   },
   "outputs": [],
   "source": [
    "try: importlib.reload(msp)\n",
    "except: import ModSimPy as msp  # Библиотека с github - предназначена для имит. моделирования"
   ]
  },
  {
   "cell_type": "markdown",
   "metadata": {},
   "source": [
    "# Helpful functions"
   ]
  },
  {
   "cell_type": "code",
   "execution_count": 3,
   "metadata": {
    "collapsed": true
   },
   "outputs": [],
   "source": [
    "type_priority_mapping = {k:v for k,v in zip(['gold','silver','regular'],range(1,4))}\n",
    "type_salary_mapping = {k:v for k,v in zip(['gold','silver','regular'], [600*8, 500*8, 400*8])}"
   ]
  },
  {
   "cell_type": "code",
   "execution_count": 4,
   "metadata": {
    "collapsed": true
   },
   "outputs": [],
   "source": [
    "def to_next_timestep(system, state, tqdm):\n",
    "    \"\"\"\n",
    "    Переводит систему в следующий момент времени\n",
    "    \"\"\"\n",
    "    state['time_cur'] += system['timedelta']\n",
    "    tqdm.update(system['timedelta'].seconds)"
   ]
  },
  {
   "cell_type": "code",
   "execution_count": 5,
   "metadata": {
    "collapsed": true
   },
   "outputs": [],
   "source": [
    "def calc_statistic(state):\n",
    "    \"\"\"\n",
    "    Требуемая от симуляции статистика\n",
    "    \"\"\"\n",
    "    data = pd.Series({        },\n",
    "        name=state['time_cur'])\n",
    "    return data"
   ]
  },
  {
   "cell_type": "code",
   "execution_count": 6,
   "metadata": {
    "collapsed": true
   },
   "outputs": [],
   "source": [
    "def get_datetime(hours, mins, secs=None):\n",
    "    return datetime.datetime(2018,1,1,hours,mins, secs if secs else 0)"
   ]
  },
  {
   "cell_type": "code",
   "execution_count": 7,
   "metadata": {
    "collapsed": true
   },
   "outputs": [],
   "source": [
    "def get_panel(system, state):\n",
    "    ds = pd.merge(state['connections_ds'], state['clients_ds'],\n",
    "              left_on='client_id', right_on='id', suffixes=['_con','_client'], how='right').drop('client_id',axis=1)\n",
    "    ds = pd.merge(ds, system['operators_ds'],\n",
    "                  left_on='operator_id', right_on='id', suffixes=['','_operator'], how='left').drop('id',axis=1)\n",
    "    ds = pd.merge(ds, state['queue_ds'],\n",
    "                  left_on='id_client', right_on='client_id', suffixes=['','_queue'], how='left').drop('client_id',axis=1)\n",
    "    ds = pd.merge(ds, state['blocked_ds'],\n",
    "                  left_on='id_client', right_on='client_id', suffixes=['','_block'], how='left').drop('client_id',axis=1)\n",
    "    ds = ds.rename(columns={'id_con':'id_connection', 'operator_id':'id_operator','line_id':'id_line',\n",
    "                            'closed':'connection_closed',\n",
    "                            'type':'type_client', 'opeartor_type':'type_operator',\n",
    "                            'time_start':'time_start_connection',\n",
    "                            'call_start_time':'time_start_call',\n",
    "                            'call_end_time': 'time_end_call',\n",
    "                            'max_waiting_time':'client_max_waiting_time',\n",
    "                            'missed':'client_missed',\n",
    "                            'start_work_time':'operator_start_work_time',\n",
    "                            'priority':'client_priority',\n",
    "                            'time_from':'time_queue_from',\n",
    "                            'exit':'queue_exit',\n",
    "                            'duration':'block_duration'\n",
    "                           })\n",
    "    ds['hour'] = [x.hour for x in ds['time_start_call']]\n",
    "    ds['client_missed'] = ds['client_missed'].astype(int)\n",
    "    return ds"
   ]
  },
  {
   "cell_type": "code",
   "execution_count": 8,
   "metadata": {
    "collapsed": true
   },
   "outputs": [],
   "source": [
    "def get_line_loads(panel_ds, time_from=get_datetime(7,0), time_to=get_datetime(19,0)):\n",
    "    all_time = pd.DataFrame(pd.date_range(time_from, time_to, freq='s'), columns=['ctime'])[:-1]\n",
    "    all_time.index = all_time['ctime']\n",
    "    tts = []\n",
    "    for idx, row in panel_ds.iterrows():\n",
    "        tt = all_time.loc[row['time_start_call']:row['time_end_call']]\n",
    "        for f in ['id_connection', 'id_line', 'id_client', 'id_operator']:\n",
    "            tt[f] = row[f]\n",
    "        tts.append(tt)\n",
    "    line_loads_ds = pd.concat(tts)\n",
    "    del tts\n",
    "    line_loads_ds = pd.merge(all_time, line_loads_ds, on='ctime', how='left')\n",
    "    line_loads_ds = line_loads_ds.fillna(-1)\n",
    "    line_loads_ds = line_loads_ds.pivot_table(index='ctime', columns='id_line', values='id_client')\n",
    "    if -1 in line_loads_ds.columns: line_loads_ds = line_loads_ds.drop(-1,axis=1)\n",
    "    #line_loads_ds = line_loads_ds.fillna(-1)\n",
    "    return line_loads_ds"
   ]
  },
  {
   "cell_type": "code",
   "execution_count": 9,
   "metadata": {
    "collapsed": true
   },
   "outputs": [],
   "source": [
    "def add_operator(type_, start_work_time, ds):\n",
    "    ds.loc[len(ds)] = {'id':len(operators_ds), 'type':type_,\n",
    "                       'priority':type_priority_mapping[type_], 'start_work_time':start_work_time}\n",
    "def add_operators(ar, ds):\n",
    "    for t, swt in ar: add_operator(t, swt, ds)"
   ]
  },
  {
   "cell_type": "markdown",
   "metadata": {},
   "source": [
    "# Подготовка данных"
   ]
  },
  {
   "cell_type": "markdown",
   "metadata": {},
   "source": [
    "Заданные значения частот звонков разных клиентов"
   ]
  },
  {
   "cell_type": "code",
   "execution_count": 10,
   "metadata": {},
   "outputs": [
    {
     "name": "stdout",
     "output_type": "stream",
     "text": [
      "Частота звонков\n"
     ]
    },
    {
     "data": {
      "text/html": [
       "<div>\n",
       "<style>\n",
       "    .dataframe thead tr:only-child th {\n",
       "        text-align: right;\n",
       "    }\n",
       "\n",
       "    .dataframe thead th {\n",
       "        text-align: left;\n",
       "    }\n",
       "\n",
       "    .dataframe tbody tr th {\n",
       "        vertical-align: top;\n",
       "    }\n",
       "</style>\n",
       "<table border=\"1\" class=\"dataframe\">\n",
       "  <thead>\n",
       "    <tr style=\"text-align: right;\">\n",
       "      <th></th>\n",
       "      <th>regular_clients</th>\n",
       "      <th>vip_clients</th>\n",
       "      <th>silver_clients</th>\n",
       "      <th>gold_clients</th>\n",
       "      <th>regular_clients_per_sec</th>\n",
       "      <th>vip_clients_per_sec</th>\n",
       "      <th>silver_clients_per_sec</th>\n",
       "      <th>gold_clients_per_sec</th>\n",
       "    </tr>\n",
       "  </thead>\n",
       "  <tbody>\n",
       "    <tr>\n",
       "      <th>7</th>\n",
       "      <td>87</td>\n",
       "      <td>89</td>\n",
       "      <td>60.52</td>\n",
       "      <td>28.48</td>\n",
       "      <td>0.024167</td>\n",
       "      <td>0.024722</td>\n",
       "      <td>0.016811</td>\n",
       "      <td>0.007911</td>\n",
       "    </tr>\n",
       "    <tr>\n",
       "      <th>8</th>\n",
       "      <td>165</td>\n",
       "      <td>243</td>\n",
       "      <td>165.24</td>\n",
       "      <td>77.76</td>\n",
       "      <td>0.045833</td>\n",
       "      <td>0.067500</td>\n",
       "      <td>0.045900</td>\n",
       "      <td>0.021600</td>\n",
       "    </tr>\n",
       "    <tr>\n",
       "      <th>9</th>\n",
       "      <td>236</td>\n",
       "      <td>221</td>\n",
       "      <td>150.28</td>\n",
       "      <td>70.72</td>\n",
       "      <td>0.065556</td>\n",
       "      <td>0.061389</td>\n",
       "      <td>0.041744</td>\n",
       "      <td>0.019644</td>\n",
       "    </tr>\n",
       "    <tr>\n",
       "      <th>10</th>\n",
       "      <td>323</td>\n",
       "      <td>180</td>\n",
       "      <td>122.40</td>\n",
       "      <td>57.60</td>\n",
       "      <td>0.089722</td>\n",
       "      <td>0.050000</td>\n",
       "      <td>0.034000</td>\n",
       "      <td>0.016000</td>\n",
       "    </tr>\n",
       "    <tr>\n",
       "      <th>11</th>\n",
       "      <td>277</td>\n",
       "      <td>301</td>\n",
       "      <td>204.68</td>\n",
       "      <td>96.32</td>\n",
       "      <td>0.076944</td>\n",
       "      <td>0.083611</td>\n",
       "      <td>0.056856</td>\n",
       "      <td>0.026756</td>\n",
       "    </tr>\n",
       "    <tr>\n",
       "      <th>12</th>\n",
       "      <td>440</td>\n",
       "      <td>490</td>\n",
       "      <td>333.20</td>\n",
       "      <td>156.80</td>\n",
       "      <td>0.122222</td>\n",
       "      <td>0.136111</td>\n",
       "      <td>0.092556</td>\n",
       "      <td>0.043556</td>\n",
       "    </tr>\n",
       "    <tr>\n",
       "      <th>13</th>\n",
       "      <td>269</td>\n",
       "      <td>394</td>\n",
       "      <td>267.92</td>\n",
       "      <td>126.08</td>\n",
       "      <td>0.074722</td>\n",
       "      <td>0.109444</td>\n",
       "      <td>0.074422</td>\n",
       "      <td>0.035022</td>\n",
       "    </tr>\n",
       "    <tr>\n",
       "      <th>14</th>\n",
       "      <td>342</td>\n",
       "      <td>347</td>\n",
       "      <td>235.96</td>\n",
       "      <td>111.04</td>\n",
       "      <td>0.095000</td>\n",
       "      <td>0.096389</td>\n",
       "      <td>0.065544</td>\n",
       "      <td>0.030844</td>\n",
       "    </tr>\n",
       "    <tr>\n",
       "      <th>15</th>\n",
       "      <td>175</td>\n",
       "      <td>240</td>\n",
       "      <td>163.20</td>\n",
       "      <td>76.80</td>\n",
       "      <td>0.048611</td>\n",
       "      <td>0.066667</td>\n",
       "      <td>0.045333</td>\n",
       "      <td>0.021333</td>\n",
       "    </tr>\n",
       "    <tr>\n",
       "      <th>16</th>\n",
       "      <td>273</td>\n",
       "      <td>269</td>\n",
       "      <td>182.92</td>\n",
       "      <td>86.08</td>\n",
       "      <td>0.075833</td>\n",
       "      <td>0.074722</td>\n",
       "      <td>0.050811</td>\n",
       "      <td>0.023911</td>\n",
       "    </tr>\n",
       "    <tr>\n",
       "      <th>17</th>\n",
       "      <td>115</td>\n",
       "      <td>145</td>\n",
       "      <td>98.60</td>\n",
       "      <td>46.40</td>\n",
       "      <td>0.031944</td>\n",
       "      <td>0.040278</td>\n",
       "      <td>0.027389</td>\n",
       "      <td>0.012889</td>\n",
       "    </tr>\n",
       "    <tr>\n",
       "      <th>18</th>\n",
       "      <td>56</td>\n",
       "      <td>69</td>\n",
       "      <td>46.92</td>\n",
       "      <td>22.08</td>\n",
       "      <td>0.015556</td>\n",
       "      <td>0.019167</td>\n",
       "      <td>0.013033</td>\n",
       "      <td>0.006133</td>\n",
       "    </tr>\n",
       "  </tbody>\n",
       "</table>\n",
       "</div>"
      ],
      "text/plain": [
       "    regular_clients  vip_clients  silver_clients  gold_clients  \\\n",
       "7                87           89           60.52         28.48   \n",
       "8               165          243          165.24         77.76   \n",
       "9               236          221          150.28         70.72   \n",
       "10              323          180          122.40         57.60   \n",
       "11              277          301          204.68         96.32   \n",
       "12              440          490          333.20        156.80   \n",
       "13              269          394          267.92        126.08   \n",
       "14              342          347          235.96        111.04   \n",
       "15              175          240          163.20         76.80   \n",
       "16              273          269          182.92         86.08   \n",
       "17              115          145           98.60         46.40   \n",
       "18               56           69           46.92         22.08   \n",
       "\n",
       "    regular_clients_per_sec  vip_clients_per_sec  silver_clients_per_sec  \\\n",
       "7                  0.024167             0.024722                0.016811   \n",
       "8                  0.045833             0.067500                0.045900   \n",
       "9                  0.065556             0.061389                0.041744   \n",
       "10                 0.089722             0.050000                0.034000   \n",
       "11                 0.076944             0.083611                0.056856   \n",
       "12                 0.122222             0.136111                0.092556   \n",
       "13                 0.074722             0.109444                0.074422   \n",
       "14                 0.095000             0.096389                0.065544   \n",
       "15                 0.048611             0.066667                0.045333   \n",
       "16                 0.075833             0.074722                0.050811   \n",
       "17                 0.031944             0.040278                0.027389   \n",
       "18                 0.015556             0.019167                0.013033   \n",
       "\n",
       "    gold_clients_per_sec  \n",
       "7               0.007911  \n",
       "8               0.021600  \n",
       "9               0.019644  \n",
       "10              0.016000  \n",
       "11              0.026756  \n",
       "12              0.043556  \n",
       "13              0.035022  \n",
       "14              0.030844  \n",
       "15              0.021333  \n",
       "16              0.023911  \n",
       "17              0.012889  \n",
       "18              0.006133  "
      ]
     },
     "execution_count": 10,
     "metadata": {},
     "output_type": "execute_result"
    }
   ],
   "source": [
    "calls_stat_ds = pd.DataFrame()\n",
    "calls_stat_ds['regular_clients'] = [87, 165, 236, 323, 277, 440, 269, 342, 175, 273, 115,  56]\n",
    "calls_stat_ds['vip_clients'] = [89, 243, 221, 180, 301, 490, 394, 347, 240, 269, 145,  69]\n",
    "calls_stat_ds['silver_clients'] = 0.68*calls_stat_ds['vip_clients']\n",
    "calls_stat_ds['gold_clients'] = calls_stat_ds['vip_clients']-calls_stat_ds['silver_clients']\n",
    "for f in calls_stat_ds.columns:\n",
    "    calls_stat_ds[f+'_per_sec'] = calls_stat_ds[f]/3600\n",
    "calls_stat_ds.index = range(7,19)\n",
    "print('Частота звонков')\n",
    "calls_stat_ds"
   ]
  },
  {
   "cell_type": "code",
   "execution_count": 11,
   "metadata": {
    "collapsed": true
   },
   "outputs": [],
   "source": [
    "operators_ds = pd.DataFrame(columns=['id', 'type', 'priority','start_work_time'])\n",
    "for f in ['id','priority']:\n",
    "    operators_ds[f] = operators_ds[f].astype(int)\n",
    "\n",
    "add_operators([['regular', get_datetime(7,0)],\n",
    "               ['regular', get_datetime(11,0)],\n",
    "               ['silver',  get_datetime(7,0)],\n",
    "               ['gold',    get_datetime(8,0)]],\n",
    "             operators_ds)"
   ]
  },
  {
   "cell_type": "raw",
   "metadata": {},
   "source": [
    "for i in range(50):\n",
    "    add_operator('regular', get_datetime(7,0), operators_ds)"
   ]
  },
  {
   "cell_type": "markdown",
   "metadata": {},
   "source": [
    "# Модель 1"
   ]
  },
  {
   "cell_type": "code",
   "execution_count": 12,
   "metadata": {
    "collapsed": true
   },
   "outputs": [],
   "source": [
    "def init_state(system):\n",
    "    \"\"\"\n",
    "    Задаёт первичное состояние системы\n",
    "    \"\"\"\n",
    "    state = {\n",
    "        'time_cur': system['time_start'],  # Текущее время\n",
    "        # Данные по всем клиентам\n",
    "        'clients_ds': pd.DataFrame(columns=['id','line_id','type','call_start_time', 'call_end_time', 'max_waiting_time', 'missed']),\n",
    "        # Данные по всем соединениям операторов с клиентами\n",
    "        'connections_ds': pd.DataFrame(columns=['id', 'operator_id', 'client_id', 'time_start','time_to_service', 'closed']),\n",
    "        # Очередь клиентов на соединение\n",
    "        'queue_ds': pd.DataFrame(columns=['client_id', 'priority', 'time_from', 'blocked', 'exit']),  # \n",
    "        # Клиенты, которые в очереди, но ждут оценки времени, или вводят номера карт\n",
    "        'blocked_ds': pd.DataFrame(columns=['client_id','type','time_from','duration', 'unblocked'])\n",
    "    }\n",
    "    state['free_lines'] = list(range(system['n_lines']))\n",
    "    state['free_operators'] =  {t:[] for t in ['regular','silver','gold']}\n",
    "    state['blocked_clients'] = {t:[] for t in ['regular','silver','gold']}\n",
    "    state['waiting_clients'] = {t:[] for t in ['regular','silver','gold']}\n",
    "    \n",
    "    for ds, f in [['clients_ds', 'id'],\n",
    "                  ['clients_ds', 'max_waiting_time'],\n",
    "                  ['clients_ds', 'line_id'],\n",
    "                  ['connections_ds', 'id'],\n",
    "                  ['connections_ds', 'operator_id'],\n",
    "                  ['connections_ds', 'client_id'],\n",
    "                  ['queue_ds', 'client_id'],\n",
    "                  ['queue_ds', 'priority'],\n",
    "                  ['blocked_ds','client_id']]:\n",
    "        state[ds][f] = state[ds][f].astype(int)\n",
    "    for ds, f in [['clients_ds', 'missed'],\n",
    "                  ['connections_ds', 'closed'],\n",
    "                  ['queue_ds', 'blocked'],\n",
    "                  ['queue_ds', 'exit'],\n",
    "                  ['blocked_ds', 'unblocked']]:\n",
    "        state[ds][f] = state[ds][f].astype(bool)\n",
    "    return state"
   ]
  },
  {
   "cell_type": "code",
   "execution_count": 13,
   "metadata": {
    "collapsed": true
   },
   "outputs": [],
   "source": [
    "def generate_clients(system, state):\n",
    "    \"\"\"\n",
    "    Генератор клиентов. Использует заданные частоты звонков клиентов.\n",
    "    За одну секунду генерируется несколько клиентов, т.к. могут позвонить одновременно золотой и обычные клиент.\n",
    "    \"\"\"\n",
    "    probs = [system['calls_stat'].loc[state['time_cur'].hour, f'{t}_clients_per_sec'] for t in system['client_types']]\n",
    "    bools = [msp.flip(p) for p in probs]  # Перевод вероятности в True/False\n",
    "    clients = [ctype for ctype, b in zip(system['client_types'], bools) if b] \n",
    "    for ctype in clients:\n",
    "        n_lines_available = len(state['free_lines']) if ctype!='regular' else len(state['free_lines'])-system['n_lines_vip']\n",
    "        state['free_lines'].sort()\n",
    "        line_id = state['free_lines'].pop(0) if n_lines_available>0 else None\n",
    "        data = {'id':len(state['clients_ds']),\n",
    "                'line_id': line_id,\n",
    "                'type':ctype,\n",
    "                'call_start_time':state['time_cur'],\n",
    "                'call_end_time': None,\n",
    "                'max_waiting_time':300,  # seconds  # временная константа \n",
    "                'missed':False}  # повесил-ли клиент трубку\n",
    "        if line_id is None:\n",
    "            data['missed'] = True\n",
    "            data['call_end_time'] = state['time_cur']\n",
    "        state['clients_ds'].loc[data['id']] = data"
   ]
  },
  {
   "cell_type": "code",
   "execution_count": 14,
   "metadata": {
    "collapsed": true
   },
   "outputs": [],
   "source": [
    "def add_clients_to_queue(state):\n",
    "    \"\"\"\n",
    "    Добавление клиентов с заданными id в очередь ожидания\n",
    "    \"\"\"\n",
    "    new_clients = state['clients_ds'][state['clients_ds']['call_start_time']==state['time_cur']]\n",
    "    new_clients = new_clients[new_clients['missed']==False]\n",
    "    for idx, row in new_clients.iterrows():\n",
    "        data = {'client_id': row['id'],\n",
    "                'priority': type_priority_mapping[row['type']],\n",
    "                'time_from': state['time_cur'],\n",
    "                'blocked': False,\n",
    "                'exit': False}\n",
    "        state['queue_ds'].loc[row['id']] = data\n",
    "        state['waiting_clients'][row['type']].append(row['id'])"
   ]
  },
  {
   "cell_type": "code",
   "execution_count": 15,
   "metadata": {
    "collapsed": true
   },
   "outputs": [],
   "source": [
    "def drop_clients_from_queue(state):\n",
    "    \"\"\"\n",
    "    Моделирование \"бросания трубки\" недождавшихся клиентов\n",
    "    \"\"\"\n",
    "    cds = pd.merge(state['queue_ds'], state['clients_ds'], left_on='client_id',right_on='id')\n",
    "    \n",
    "    cds = cds[cds['exit']==False]\n",
    "    cds = cds[cds['blocked']==False]\n",
    "    missed = cds.loc[([x.seconds for x in state['time_cur']-cds['time_from']]>cds['max_waiting_time'])]\n",
    "    if len(missed)>0:\n",
    "\n",
    "        state['queue_ds'].loc[missed['client_id'], 'exit'] = True\n",
    "        # Запись, что клиент бросил трубку\n",
    "        state['clients_ds'].loc[missed['client_id'], 'missed'] = True\n",
    "        state['clients_ds'].loc[missed['client_id'], 'call_end_time'] = state['time_cur']\n",
    "        # Удаление клиента из очереди, оптимизирующей расчёты\n",
    "        for idx, row in missed.iterrows():\n",
    "            for ds in ['waiting_clients', 'blocked_clients']:\n",
    "                if row['client_id'] in state[ds][row['type']]:\n",
    "                    state[ds][row['type']].remove(row['client_id'])\n",
    "            state['free_lines'].append(row['line_id'])"
   ]
  },
  {
   "cell_type": "code",
   "execution_count": 16,
   "metadata": {
    "collapsed": true
   },
   "outputs": [],
   "source": [
    "def block_clients_in_queue_regular(state):\n",
    "    cds = state['queue_ds'][state['queue_ds']['priority']==3]\n",
    "    cds = cds[cds['exit']==False]\n",
    "    cds = cds[cds['blocked']==False]\n",
    "    cds = cds[(state['time_cur']-cds['time_from'])==datetime.timedelta(seconds=1)]\n",
    "    for i in cds['client_id']:\n",
    "        is_missed = msp.flip(0.1)\n",
    "        if is_missed:\n",
    "            state['queue_ds'].at[i, 'exit'] = True\n",
    "            state['clients_ds'].at[i, 'missed'] = True\n",
    "            state['clients_ds'].at[i, 'call_end_time'] = state['time_cur']\n",
    "            for q in ['waiting_clients', 'blocked_clients']:\n",
    "                if i in state[q]['regular']:\n",
    "                    state[q]['regular'].remove(i)\n",
    "            state['free_lines'].append(state['clients_ds'].at[i,'line_id'])\n",
    "        else:\n",
    "            data = {'client_id':i,\n",
    "                'type':'regular',\n",
    "                'time_from': state['time_cur'],\n",
    "                'duration': datetime.timedelta(seconds=7),\n",
    "                'unblocked': False}\n",
    "            state['queue_ds'].at[cds['client_id'], 'blocked'] = True\n",
    "            state['blocked_ds'].loc[len(state['blocked_ds'])] = data\n",
    "            if i in state['waiting_clients']['regular']:\n",
    "                state['blocked_clients']['regular'].append(i)\n",
    "                state['waiting_clients']['regular'].remove(i)"
   ]
  },
  {
   "cell_type": "code",
   "execution_count": 17,
   "metadata": {
    "collapsed": true
   },
   "outputs": [],
   "source": [
    "def block_clients_in_queue_vip(state):\n",
    "    cds = state['queue_ds'][state['queue_ds']['priority']<3]\n",
    "    cds = cds[cds['exit']==False]\n",
    "    cds = cds[cds['blocked']==False]\n",
    "    cds = cds[cds['time_from']==state['time_cur']]\n",
    "    state['queue_ds'].loc[cds['client_id'], 'blocked'] = True\n",
    "    for i in cds['client_id']:\n",
    "        t = state['clients_ds'].at[i, 'type']\n",
    "        data = {'client_id':i,\n",
    "                'type':t,\n",
    "                'time_from': state['time_cur'],\n",
    "                'duration': datetime.timedelta(seconds=10), #TEMP constant\n",
    "                'unblocked': False\n",
    "               } \n",
    "        state['blocked_ds'].loc[len(state['blocked_ds'])] = data\n",
    "        if i in state['waiting_clients'][t]:\n",
    "            state['waiting_clients'][t].remove(i)\n",
    "            state['blocked_clients'][t].append(i)"
   ]
  },
  {
   "cell_type": "code",
   "execution_count": 18,
   "metadata": {},
   "outputs": [],
   "source": [
    "def block_clients_in_queue(state):  \n",
    "    block_clients_in_queue_regular(state)\n",
    "    block_clients_in_queue_vip(state)"
   ]
  },
  {
   "cell_type": "code",
   "execution_count": 19,
   "metadata": {
    "collapsed": true
   },
   "outputs": [],
   "source": [
    "def unblock_clients_in_queue(state):\n",
    "    cds = state['blocked_ds']\n",
    "    cds = cds[cds['unblocked']==False]\n",
    "    cds = cds[state['time_cur']>cds['time_from']+cds['duration']]\n",
    "    \n",
    "    state['blocked_ds'].loc[cds.index, 'unblocked'] = True\n",
    "    state['queue_ds'].loc[state['queue_ds']['client_id'].isin(cds['client_id']), 'blocked'] = False\n",
    "    for t, blocked_ids in state['blocked_clients'].items():\n",
    "        for i in blocked_ids:\n",
    "            state['blocked_clients'][t].remove(i)\n",
    "            state['waiting_clients'][t].append(i)"
   ]
  },
  {
   "cell_type": "code",
   "execution_count": 20,
   "metadata": {
    "collapsed": true
   },
   "outputs": [],
   "source": [
    "def generate_operators(system, state):\n",
    "    if state['time_cur'].minute==0 and state['time_cur'].second==0:\n",
    "        new_operators = system['operators_ds'][system['operators_ds']['start_work_time']==state['time_cur']]\n",
    "        for idx, row in new_operators.iterrows():\n",
    "            state['free_operators'][row['type']].append(row['id'])"
   ]
  },
  {
   "cell_type": "code",
   "execution_count": 21,
   "metadata": {
    "collapsed": true
   },
   "outputs": [],
   "source": [
    "def drop_operators(system, state):\n",
    "    for t, ids in state['free_operators'].items():\n",
    "        operators = system['operators_ds'].loc[ids]\n",
    "        operators = operators[operators['start_work_time']+system['operators_work_duration']<=state['time_cur']]\n",
    "        for i in operators['id']:\n",
    "            state['free_operators'][t].remove(i)"
   ]
  },
  {
   "cell_type": "code",
   "execution_count": 22,
   "metadata": {
    "collapsed": true
   },
   "outputs": [],
   "source": [
    "def occupy_operators(system, state):\n",
    "    \"\"\"\n",
    "    Поиск свободных операторов, линий и клиентов в очереди. Установка соединений\n",
    "    \"\"\"\n",
    "    for type_op in ['regular','silver','gold']:\n",
    "        ids_op = state['free_operators'][type_op]\n",
    "        if len(ids_op)==0: continue \n",
    "        clients_available = []\n",
    "        for t in ['regular', 'silver', 'gold']:\n",
    "            if type_priority_mapping[type_op] <= type_priority_mapping[t]:\n",
    "                clients_available = state['waiting_clients'][t]+clients_available\n",
    "        if len(clients_available)==0: continue\n",
    "            \n",
    "        op_cl_pairs = list(zip(ids_op, clients_available))\n",
    "        for op_id, cl_id in op_cl_pairs:\n",
    "            for t in ['regular','silver','gold']:\n",
    "                if cl_id in state['waiting_clients'][t]:\n",
    "                    state['waiting_clients'][t].pop(0)\n",
    "            state['free_operators'][type_op].pop(0)\n",
    "            data = {\n",
    "                'id': len(state['connections_ds']),\n",
    "                'operator_id':op_id,\n",
    "                'client_id':cl_id,\n",
    "                'time_start':state['time_cur'],\n",
    "                'time_to_service': datetime.timedelta(seconds=600),\n",
    "                'closed':False,\n",
    "                }\n",
    "            state['connections_ds'] = state['connections_ds'].append(data, ignore_index=True)\n",
    "            state['queue_ds'].at[cl_id,'exit'] = True \n",
    "    return"
   ]
  },
  {
   "cell_type": "code",
   "execution_count": 23,
   "metadata": {
    "collapsed": true
   },
   "outputs": [],
   "source": [
    "def release_operators(system, state):\n",
    "    \"\"\"\n",
    "    Закрытие соединений, в которых оператор уже всё отработал\n",
    "    \"\"\"\n",
    "    cds = state['connections_ds'][state['connections_ds']['closed']==False]\n",
    "    ended_connections = cds[(state['time_cur']-cds['time_start'])>cds['time_to_service']]\n",
    "    if len(ended_connections)>0:\n",
    "        state['connections_ds'].loc[ended_connections.index, 'closed'] = True\n",
    "        state['clients_ds'].loc[ended_connections['client_id'], 'call_end_time'] = state['time_cur']\n",
    "        for idx, row in ended_connections.iterrows():\n",
    "            state['free_operators'][system['operators_ds'].at[row['operator_id'],'type']].append(row['operator_id'])\n",
    "            state['free_lines'].append(state['clients_ds'].at[row['client_id'],'line_id'])\n",
    "        state['free_lines'] = sorted(state['free_lines'])\n",
    "    return ended_connections"
   ]
  },
  {
   "cell_type": "code",
   "execution_count": 24,
   "metadata": {
    "collapsed": true
   },
   "outputs": [],
   "source": [
    "def step(system, state):        \n",
    "    \"\"\"\n",
    "    Один временной шаг системы\n",
    "    \"\"\"\n",
    "    generate_clients(system, state)\n",
    "    add_clients_to_queue(state)\n",
    "    block_clients_in_queue(state)\n",
    "    unblock_clients_in_queue(state)\n",
    "    \n",
    "    #print('{regular} {silver} {gold}'.format(**{k:state.free_operators[k] for k in['regular','silver','gold']}))\n",
    "    generate_operators(system, state)\n",
    "    drop_operators(system, state)   \n",
    "    \n",
    "    occupy_operators(system, state)\n",
    "    release_operators(system, state)\n",
    "    \n",
    "    drop_clients_from_queue(state)"
   ]
  },
  {
   "cell_type": "code",
   "execution_count": 25,
   "metadata": {
    "collapsed": true
   },
   "outputs": [],
   "source": [
    "def run_simulation(system):\n",
    "    \"\"\"\n",
    "    Внешняя функция для запуска системы\n",
    "    \"\"\"\n",
    "    state = init_state(system)\n",
    "    \n",
    "    results_frame = msp.TimeFrame()\n",
    "    \n",
    "    # tqdm - библиотека для рисования прогрессбаров\n",
    "    tqdm = tqdm_notebook(total=(system['time_end']-system['time_start']).seconds//system['timedelta'].seconds)\n",
    "    while state['time_cur']<system['time_end']:\n",
    "        \"\"\"\n",
    "        try:\n",
    "            step(system, state)\n",
    "        except Exception as e:\n",
    "            print(e)\n",
    "            return results_frame, state\n",
    "        \"\"\"\n",
    "        step(system,state)\n",
    "        #results_frame = results_frame.append(calc_statistic(state))\n",
    "        to_next_timestep(system, state, tqdm)\n",
    "    tqdm.close()\n",
    "\n",
    "    return results_frame, state"
   ]
  },
  {
   "cell_type": "code",
   "execution_count": null,
   "metadata": {
    "collapsed": true
   },
   "outputs": [],
   "source": [
    "system =  {'time_start': get_datetime(7,0),\n",
    "            #'time_end': get_datetime(19,0),\n",
    "            'time_end': get_datetime(8,0),\n",
    "            'timedelta': datetime.timedelta(seconds=1),\n",
    "            'n_lines': 50,  # кол-во линий связи\n",
    "            'calls_stat': calls_stat_ds,  # частоты звонков\n",
    "            'time_to_serve': 120,  # seconds # временная константа. время обслуживания каждого клиента\n",
    "            'client_types': ['regular', 'silver', 'gold'],  # типы клиентов. затем добавятся silver и gold\n",
    "            'operators_ds': operators_ds,\n",
    "            'operators_work_duration': datetime.timedelta(hours=8),\n",
    "            'n_lines_vip': 5\n",
    "         }"
   ]
  },
  {
   "cell_type": "code",
   "execution_count": null,
   "metadata": {},
   "outputs": [
    {
     "data": {
      "application/vnd.jupyter.widget-view+json": {
       "model_id": "3e193397c3774869920b98bb2fe27ddb",
       "version_major": 2,
       "version_minor": 0
      },
      "text/plain": [
       "A Jupyter Widget"
      ]
     },
     "metadata": {},
     "output_type": "display_data"
    }
   ],
   "source": [
    "results, state_final = run_simulation(system)"
   ]
  },
  {
   "cell_type": "code",
   "execution_count": null,
   "metadata": {},
   "outputs": [],
   "source": [
    "ds = get_panel(system, state_final)\n",
    "ds.head()"
   ]
  },
  {
   "cell_type": "code",
   "execution_count": null,
   "metadata": {},
   "outputs": [],
   "source": [
    "tt = ds.pivot_table(columns=['hour'], index=['type_client'], values='client_missed', aggfunc='mean').reindex(\n",
    "    ['gold','silver','regular'])\n",
    "sns.heatmap(tt, vmin=0, vmax=1, cmap='Reds')\n",
    "del tt\n",
    "plt.show()"
   ]
  },
  {
   "cell_type": "code",
   "execution_count": null,
   "metadata": {},
   "outputs": [],
   "source": [
    "line_loads_ds = get_line_loads(ds, time_to=get_datetime(8,0))"
   ]
  },
  {
   "cell_type": "code",
   "execution_count": null,
   "metadata": {},
   "outputs": [],
   "source": [
    "(line_loads_ds>0).sum(1).fillna(0).plot()\n",
    "plt.show()"
   ]
  },
  {
   "cell_type": "code",
   "execution_count": null,
   "metadata": {},
   "outputs": [],
   "source": [
    "sns.heatmap(ds.pivot_table(index='type_operator', columns='type_client', values='id_connection', aggfunc='count', fill_value=0),\n",
    "           cmap='Blues')\n",
    "plt.show()"
   ]
  },
  {
   "cell_type": "markdown",
   "metadata": {},
   "source": [
    "# Что ещё надо добавить"
   ]
  },
  {
   "cell_type": "markdown",
   "metadata": {},
   "source": [
    "Оценка времени ожидания клиента"
   ]
  },
  {
   "cell_type": "markdown",
   "metadata": {},
   "source": [
    "Разные типы звонков"
   ]
  },
  {
   "cell_type": "markdown",
   "metadata": {},
   "source": [
    "Случайный начальные задержки для каждого звонка"
   ]
  },
  {
   "cell_type": "markdown",
   "metadata": {},
   "source": [
    "Случайное время готовности ожидания клиента"
   ]
  },
  {
   "cell_type": "markdown",
   "metadata": {},
   "source": [
    "Случайное время обслуживания для оператора (+поправки на тип оператора) для соединения"
   ]
  },
  {
   "cell_type": "markdown",
   "metadata": {},
   "source": [
    "Поиск оптимальной комбинации"
   ]
  }
 ],
 "metadata": {
  "kernelspec": {
   "display_name": "Python 3",
   "language": "python",
   "name": "python3"
  },
  "language_info": {
   "codemirror_mode": {
    "name": "ipython",
    "version": 3
   },
   "file_extension": ".py",
   "mimetype": "text/x-python",
   "name": "python",
   "nbconvert_exporter": "python",
   "pygments_lexer": "ipython3",
   "version": "3.6.3"
  }
 },
 "nbformat": 4,
 "nbformat_minor": 2
}
