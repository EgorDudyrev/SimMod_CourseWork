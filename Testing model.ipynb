{
 "cells": [
  {
   "cell_type": "code",
   "execution_count": 1,
   "metadata": {
    "collapsed": true
   },
   "outputs": [],
   "source": [
    "import numpy as np\n",
    "import pandas as pd\n",
    "import matplotlib.pyplot as plt\n",
    "import seaborn as sns\n",
    "import datetime\n",
    "import importlib\n",
    "\n",
    "from tqdm import tqdm_notebook"
   ]
  },
  {
   "cell_type": "code",
   "execution_count": 2,
   "metadata": {
    "collapsed": true
   },
   "outputs": [],
   "source": [
    "try: importlib.reload(msp)\n",
    "except: import ModSimPy as msp  # Библиотека с github - предназначена для имит. моделирования"
   ]
  },
  {
   "cell_type": "markdown",
   "metadata": {},
   "source": [
    "# Helpful functions"
   ]
  },
  {
   "cell_type": "code",
   "execution_count": 3,
   "metadata": {
    "collapsed": true
   },
   "outputs": [],
   "source": [
    "type_priority_mapping = {k:v for k,v in zip(['gold','silver','regular'],range(1,4))}\n",
    "type_salary_mapping = {k:v for k,v in zip(['gold','silver','regular'], [600*8, 500*8, 400*8])}"
   ]
  },
  {
   "cell_type": "code",
   "execution_count": 4,
   "metadata": {
    "collapsed": true
   },
   "outputs": [],
   "source": [
    "def to_next_timestep(system, state, tqdm):\n",
    "    \"\"\"\n",
    "    Переводит систему в следующий момент времени\n",
    "    \"\"\"\n",
    "    state.time_cur += system.timedelta\n",
    "    tqdm.update(system.timedelta.seconds)"
   ]
  },
  {
   "cell_type": "code",
   "execution_count": 5,
   "metadata": {
    "collapsed": true
   },
   "outputs": [],
   "source": [
    "def calc_statistic(state):\n",
    "    \"\"\"\n",
    "    Требуемая от симуляции статистика\n",
    "    \"\"\"\n",
    "    data = pd.Series({\n",
    "        },\n",
    "        name=state.time_cur)\n",
    "    return data"
   ]
  },
  {
   "cell_type": "code",
   "execution_count": 6,
   "metadata": {
    "collapsed": true
   },
   "outputs": [],
   "source": [
    "def get_datetime(hours, mins, secs=None):\n",
    "    return datetime.datetime(2018,1,1,hours,mins, secs if secs else 0)"
   ]
  },
  {
   "cell_type": "code",
   "execution_count": 7,
   "metadata": {
    "collapsed": true
   },
   "outputs": [],
   "source": [
    "def get_panel(system, state):\n",
    "    ds = pd.merge(state.connections_ds, state.clients_ds,\n",
    "              left_on='client_id', right_on='id', suffixes=['_con','_client'], how='right').drop('id_client',axis=1)\n",
    "    ds = pd.merge(ds, system.operators_ds,\n",
    "                  left_on='operator_id', right_on='id', suffixes=['','_operator'], how='left').drop('id',axis=1)\n",
    "    ds = pd.merge(ds, state.queue_ds,\n",
    "                  left_on='client_id', right_on='client_id', suffixes=['','_queue'], how='left')\n",
    "    ds = ds.rename(columns={'id_con':'id_connection', 'operator_id':'id_operator', 'client_id':'id_client','line_id':'id_line',\n",
    "                            'closed':'connection_closed',\n",
    "                            'type':'type_client', 'opeartor_type':'type_operator',\n",
    "                            'time_start':'time_start_connection',\n",
    "                            'call_start_time':'time_start_call',\n",
    "                            'max_waiting_time':'client_max_waiting_time',\n",
    "                            'missed':'client_missed',\n",
    "                            'start_work_time':'operator_start_work_time',\n",
    "                            'priority':'client_priority',\n",
    "                            'time_from':'time_quque_from',\n",
    "                            'exit':'queue_exit'\n",
    "                           })\n",
    "    ds['hour'] = [x.hour for x in ds['time_start_call']]\n",
    "    ds['client_missed'] = ds['client_missed'].astype(int)\n",
    "    return ds"
   ]
  },
  {
   "cell_type": "code",
   "execution_count": 8,
   "metadata": {
    "collapsed": true
   },
   "outputs": [],
   "source": [
    "def get_line_loads(panel_ds, time_from=get_datetime(7,0), time_to=get_datetime(19,0)):\n",
    "    all_time = pd.DataFrame(pd.date_range(time_from, time_to, freq='s'), columns=['ctime'])[:-1]\n",
    "    all_time.index = all_time['ctime']\n",
    "    tts = []\n",
    "    for idx, row in ds.iterrows():\n",
    "        tt = all_time.loc[row['time_start_connection']:row['time_start_connection']+row['time_to_service']][:-1]\n",
    "        for f in ['id_connection', 'id_line', 'id_client', 'id_operator']:\n",
    "            tt[f] = row[f]\n",
    "        tts.append(tt)\n",
    "    line_loads_ds = pd.concat(tts)\n",
    "    del tts\n",
    "    line_loads_ds = pd.merge(all_time, line_loads_ds, on='ctime', how='left')\n",
    "    line_loads_ds = line_loads_ds.fillna(-1)\n",
    "    line_loads_ds = line_loads_ds.pivot_table(index='ctime', columns='id_line', values='id_connection')\n",
    "    line_loads_ds = line_loads_ds.drop(-1,axis=1)\n",
    "    line_loads_ds = line_loads_ds.fillna(0)\n",
    "    return line_loads_ds"
   ]
  },
  {
   "cell_type": "code",
   "execution_count": 9,
   "metadata": {
    "collapsed": true
   },
   "outputs": [],
   "source": [
    "def add_operator(type_, start_work_time, ds):\n",
    "    ds.loc[len(ds)] = {'id':len(operators_ds), 'type':type_, 'start_work_time':start_work_time}\n",
    "def add_operators(ar, ds):\n",
    "    for t, swt in ar: add_operator(t, swt, ds)"
   ]
  },
  {
   "cell_type": "markdown",
   "metadata": {},
   "source": [
    "# Подготовка данных"
   ]
  },
  {
   "cell_type": "markdown",
   "metadata": {},
   "source": [
    "Заданные значения частот звонков разных клиентов"
   ]
  },
  {
   "cell_type": "code",
   "execution_count": 10,
   "metadata": {},
   "outputs": [
    {
     "name": "stdout",
     "output_type": "stream",
     "text": [
      "Частота звонков\n"
     ]
    },
    {
     "data": {
      "text/html": [
       "<div>\n",
       "<style>\n",
       "    .dataframe thead tr:only-child th {\n",
       "        text-align: right;\n",
       "    }\n",
       "\n",
       "    .dataframe thead th {\n",
       "        text-align: left;\n",
       "    }\n",
       "\n",
       "    .dataframe tbody tr th {\n",
       "        vertical-align: top;\n",
       "    }\n",
       "</style>\n",
       "<table border=\"1\" class=\"dataframe\">\n",
       "  <thead>\n",
       "    <tr style=\"text-align: right;\">\n",
       "      <th></th>\n",
       "      <th>regular_clients</th>\n",
       "      <th>vip_clients</th>\n",
       "      <th>silver_clients</th>\n",
       "      <th>gold_clients</th>\n",
       "      <th>regular_clients_per_sec</th>\n",
       "      <th>vip_clients_per_sec</th>\n",
       "      <th>silver_clients_per_sec</th>\n",
       "      <th>gold_clients_per_sec</th>\n",
       "    </tr>\n",
       "  </thead>\n",
       "  <tbody>\n",
       "    <tr>\n",
       "      <th>7</th>\n",
       "      <td>87</td>\n",
       "      <td>89</td>\n",
       "      <td>60.52</td>\n",
       "      <td>28.48</td>\n",
       "      <td>0.024167</td>\n",
       "      <td>0.024722</td>\n",
       "      <td>0.016811</td>\n",
       "      <td>0.007911</td>\n",
       "    </tr>\n",
       "    <tr>\n",
       "      <th>8</th>\n",
       "      <td>165</td>\n",
       "      <td>243</td>\n",
       "      <td>165.24</td>\n",
       "      <td>77.76</td>\n",
       "      <td>0.045833</td>\n",
       "      <td>0.067500</td>\n",
       "      <td>0.045900</td>\n",
       "      <td>0.021600</td>\n",
       "    </tr>\n",
       "    <tr>\n",
       "      <th>9</th>\n",
       "      <td>236</td>\n",
       "      <td>221</td>\n",
       "      <td>150.28</td>\n",
       "      <td>70.72</td>\n",
       "      <td>0.065556</td>\n",
       "      <td>0.061389</td>\n",
       "      <td>0.041744</td>\n",
       "      <td>0.019644</td>\n",
       "    </tr>\n",
       "    <tr>\n",
       "      <th>10</th>\n",
       "      <td>323</td>\n",
       "      <td>180</td>\n",
       "      <td>122.40</td>\n",
       "      <td>57.60</td>\n",
       "      <td>0.089722</td>\n",
       "      <td>0.050000</td>\n",
       "      <td>0.034000</td>\n",
       "      <td>0.016000</td>\n",
       "    </tr>\n",
       "    <tr>\n",
       "      <th>11</th>\n",
       "      <td>277</td>\n",
       "      <td>301</td>\n",
       "      <td>204.68</td>\n",
       "      <td>96.32</td>\n",
       "      <td>0.076944</td>\n",
       "      <td>0.083611</td>\n",
       "      <td>0.056856</td>\n",
       "      <td>0.026756</td>\n",
       "    </tr>\n",
       "    <tr>\n",
       "      <th>12</th>\n",
       "      <td>440</td>\n",
       "      <td>490</td>\n",
       "      <td>333.20</td>\n",
       "      <td>156.80</td>\n",
       "      <td>0.122222</td>\n",
       "      <td>0.136111</td>\n",
       "      <td>0.092556</td>\n",
       "      <td>0.043556</td>\n",
       "    </tr>\n",
       "    <tr>\n",
       "      <th>13</th>\n",
       "      <td>269</td>\n",
       "      <td>394</td>\n",
       "      <td>267.92</td>\n",
       "      <td>126.08</td>\n",
       "      <td>0.074722</td>\n",
       "      <td>0.109444</td>\n",
       "      <td>0.074422</td>\n",
       "      <td>0.035022</td>\n",
       "    </tr>\n",
       "    <tr>\n",
       "      <th>14</th>\n",
       "      <td>342</td>\n",
       "      <td>347</td>\n",
       "      <td>235.96</td>\n",
       "      <td>111.04</td>\n",
       "      <td>0.095000</td>\n",
       "      <td>0.096389</td>\n",
       "      <td>0.065544</td>\n",
       "      <td>0.030844</td>\n",
       "    </tr>\n",
       "    <tr>\n",
       "      <th>15</th>\n",
       "      <td>175</td>\n",
       "      <td>240</td>\n",
       "      <td>163.20</td>\n",
       "      <td>76.80</td>\n",
       "      <td>0.048611</td>\n",
       "      <td>0.066667</td>\n",
       "      <td>0.045333</td>\n",
       "      <td>0.021333</td>\n",
       "    </tr>\n",
       "    <tr>\n",
       "      <th>16</th>\n",
       "      <td>273</td>\n",
       "      <td>269</td>\n",
       "      <td>182.92</td>\n",
       "      <td>86.08</td>\n",
       "      <td>0.075833</td>\n",
       "      <td>0.074722</td>\n",
       "      <td>0.050811</td>\n",
       "      <td>0.023911</td>\n",
       "    </tr>\n",
       "    <tr>\n",
       "      <th>17</th>\n",
       "      <td>115</td>\n",
       "      <td>145</td>\n",
       "      <td>98.60</td>\n",
       "      <td>46.40</td>\n",
       "      <td>0.031944</td>\n",
       "      <td>0.040278</td>\n",
       "      <td>0.027389</td>\n",
       "      <td>0.012889</td>\n",
       "    </tr>\n",
       "    <tr>\n",
       "      <th>18</th>\n",
       "      <td>56</td>\n",
       "      <td>69</td>\n",
       "      <td>46.92</td>\n",
       "      <td>22.08</td>\n",
       "      <td>0.015556</td>\n",
       "      <td>0.019167</td>\n",
       "      <td>0.013033</td>\n",
       "      <td>0.006133</td>\n",
       "    </tr>\n",
       "  </tbody>\n",
       "</table>\n",
       "</div>"
      ],
      "text/plain": [
       "    regular_clients  vip_clients  silver_clients  gold_clients  \\\n",
       "7                87           89           60.52         28.48   \n",
       "8               165          243          165.24         77.76   \n",
       "9               236          221          150.28         70.72   \n",
       "10              323          180          122.40         57.60   \n",
       "11              277          301          204.68         96.32   \n",
       "12              440          490          333.20        156.80   \n",
       "13              269          394          267.92        126.08   \n",
       "14              342          347          235.96        111.04   \n",
       "15              175          240          163.20         76.80   \n",
       "16              273          269          182.92         86.08   \n",
       "17              115          145           98.60         46.40   \n",
       "18               56           69           46.92         22.08   \n",
       "\n",
       "    regular_clients_per_sec  vip_clients_per_sec  silver_clients_per_sec  \\\n",
       "7                  0.024167             0.024722                0.016811   \n",
       "8                  0.045833             0.067500                0.045900   \n",
       "9                  0.065556             0.061389                0.041744   \n",
       "10                 0.089722             0.050000                0.034000   \n",
       "11                 0.076944             0.083611                0.056856   \n",
       "12                 0.122222             0.136111                0.092556   \n",
       "13                 0.074722             0.109444                0.074422   \n",
       "14                 0.095000             0.096389                0.065544   \n",
       "15                 0.048611             0.066667                0.045333   \n",
       "16                 0.075833             0.074722                0.050811   \n",
       "17                 0.031944             0.040278                0.027389   \n",
       "18                 0.015556             0.019167                0.013033   \n",
       "\n",
       "    gold_clients_per_sec  \n",
       "7               0.007911  \n",
       "8               0.021600  \n",
       "9               0.019644  \n",
       "10              0.016000  \n",
       "11              0.026756  \n",
       "12              0.043556  \n",
       "13              0.035022  \n",
       "14              0.030844  \n",
       "15              0.021333  \n",
       "16              0.023911  \n",
       "17              0.012889  \n",
       "18              0.006133  "
      ]
     },
     "execution_count": 10,
     "metadata": {},
     "output_type": "execute_result"
    }
   ],
   "source": [
    "calls_stat_ds = pd.DataFrame()\n",
    "calls_stat_ds['regular_clients'] = [87, 165, 236, 323, 277, 440, 269, 342, 175, 273, 115,  56]\n",
    "calls_stat_ds['vip_clients'] = [89, 243, 221, 180, 301, 490, 394, 347, 240, 269, 145,  69]\n",
    "calls_stat_ds['silver_clients'] = 0.68*calls_stat_ds['vip_clients']\n",
    "calls_stat_ds['gold_clients'] = calls_stat_ds['vip_clients']-calls_stat_ds['silver_clients']\n",
    "for f in calls_stat_ds.columns:\n",
    "    calls_stat_ds[f+'_per_sec'] = calls_stat_ds[f]/3600\n",
    "calls_stat_ds.index = range(7,19)\n",
    "print('Частота звонков')\n",
    "calls_stat_ds"
   ]
  },
  {
   "cell_type": "code",
   "execution_count": 11,
   "metadata": {
    "collapsed": true
   },
   "outputs": [],
   "source": [
    "operators_ds = pd.DataFrame(columns=['id', 'type', 'start_work_time'])\n",
    "\n",
    "add_operators([['regular', get_datetime(7,0)],\n",
    "               ['regular', get_datetime(11,0)],\n",
    "               ['silver',  get_datetime(7,0)],\n",
    "               ['gold',    get_datetime(8,0)]],\n",
    "             operators_ds)"
   ]
  },
  {
   "cell_type": "markdown",
   "metadata": {},
   "source": [
    "# Модель 1"
   ]
  },
  {
   "cell_type": "code",
   "execution_count": 12,
   "metadata": {
    "collapsed": true
   },
   "outputs": [],
   "source": [
    "def init_state(system):\n",
    "    \"\"\"\n",
    "    Задаёт первичное состояние системы\n",
    "    \"\"\"\n",
    "    state = msp.State(\n",
    "        time_cur=system.time_start,  # Текущее время\n",
    "        # Данные по линиям связи (возможно уже не нужны)\n",
    "        lines_ds=pd.DataFrame({'time_to_free':0 for i in range(system.n_lines)}, index=range(system.n_lines)),\n",
    "        # Данные по всем клиентам\n",
    "        clients_ds=pd.DataFrame(columns=['id','type','call_start_time', 'max_waiting_time', 'missed']),\n",
    "        # Данные по всем соединениям операторов с клиентами\n",
    "        connections_ds=pd.DataFrame(columns=['id', 'operator_id', 'client_id', 'line_id', 'time_start','time_to_service', 'closed']),\n",
    "        # Очередь клиентов на соединение\n",
    "        queue_ds=pd.DataFrame(columns=['client_id','priority', 'time_from', 'exit']  # \n",
    "        )\n",
    "    )\n",
    "    return state"
   ]
  },
  {
   "cell_type": "code",
   "execution_count": 13,
   "metadata": {
    "collapsed": true
   },
   "outputs": [],
   "source": [
    "def generate_clients(system, state):\n",
    "    \"\"\"\n",
    "    Генератор клиентов. Использует заданные частоты звонков клиентов.\n",
    "    За одну секунду генерируется несколько клиентов, т.к. могут позвонить одновременно золотой и обычные клиент.\n",
    "    \"\"\"\n",
    "    probs = [system.calls_stat.loc[state.time_cur.hour, f'{t}_clients_per_sec'] for t in system.client_types]\n",
    "    bools = [msp.flip(p) for p in probs]  # Перевод вероятности в True/False\n",
    "    clients = [ctype for ctype, b in zip(system.client_types, bools) if b] \n",
    "    ids = []\n",
    "    for ctype in clients:\n",
    "        data = {'id':len(state.clients_ds),\n",
    "                'type':ctype,\n",
    "                'call_start_time':state.time_cur,\n",
    "                'max_waiting_time':300,  # seconds  # временная константа \n",
    "                'missed':False}  # повесил-ли клиент трубку\n",
    "        ids.append(data['id'])\n",
    "        state.clients_ds.loc[data['id']] = data\n",
    "    return ids"
   ]
  },
  {
   "cell_type": "code",
   "execution_count": 14,
   "metadata": {
    "collapsed": true
   },
   "outputs": [],
   "source": [
    "def add_clients_to_queue(state, clients_ids):\n",
    "    \"\"\"\n",
    "    Добавление клиентов с заданными id в очередь ожидания\n",
    "    \"\"\"\n",
    "    for cid in clients_ids:\n",
    "        data = {'client_id':cid,\n",
    "                'priority': type_priority_mapping[state.clients_ds.loc[cid,'type']],\n",
    "                'time_from':state.time_cur,\n",
    "                'exit':False}\n",
    "        state.queue_ds = state.queue_ds.append(data, ignore_index=True)"
   ]
  },
  {
   "cell_type": "code",
   "execution_count": 15,
   "metadata": {
    "collapsed": true
   },
   "outputs": [],
   "source": [
    "def drop_clients_from_queue(state):\n",
    "    \"\"\"\n",
    "    Моделирование \"бросания трубки\" недождавшихся клиентов\n",
    "    \"\"\"\n",
    "    cds = pd.merge(state.queue_ds, state.clients_ds, left_on='client_id',right_on='id', how='right')\n",
    "    \n",
    "    missed_cids = cds.loc[([x.seconds for x in state.time_cur-cds['time_from']]>cds['max_waiting_time']), 'client_id']\n",
    "    if len(missed_cids)>0:\n",
    "        # Убираем клиента из очереди\n",
    "        state.queue_ds.loc[state.queue_ds['client_id'].isin(missed_cids), 'exit'] = True\n",
    "        # Запись, что клиент бросил трубку\n",
    "        state.clients_ds.loc[state.clients_ds['id'].isin(missed_cids), 'missed'] = True"
   ]
  },
  {
   "cell_type": "code",
   "execution_count": 16,
   "metadata": {
    "collapsed": true
   },
   "outputs": [],
   "source": [
    "def occupy_operators(system, state):\n",
    "    \"\"\"\n",
    "    Поиск свободных операторов, линий и клиентов в очереди. Установка соединений\n",
    "    \"\"\"\n",
    "    connections_open = state.connections_ds[state.connections_ds['closed']==False]\n",
    "    free_operators = system.operators_ds.loc[-system.operators_ds['id'].isin(connections_open['operator_id'])]\n",
    "    free_operators = free_operators[(free_operators['start_work_time']<state.time_cur)&\n",
    "                                    (state.time_cur<free_operators['start_work_time']+system.operators_work_duration)]\n",
    "    free_operators\n",
    "    free_lines = [x for x in range(system.n_lines) if x not in connections_open['line_id']]\n",
    "    \n",
    "    for idx, op_row in free_operators.iterrows():\n",
    "        if len(free_lines) == 0:\n",
    "            break\n",
    "        cds = state.queue_ds\n",
    "        cds = cds[cds['exit']==False]\n",
    "        cds = cds[cds['priority']>=type_priority_mapping[op_row['type']]]\n",
    "        if len(cds)==0:\n",
    "            continue\n",
    "        cds = cds.sort_values(['priority','time_from'], ascending=[True, True])\n",
    "        cclient = cds.iloc[0]\n",
    "        cline, free_lines = free_lines[0], free_lines[1:]\n",
    "        data = {\n",
    "            'id': len(state.connections_ds),\n",
    "            'operator_id':op_row['id'],\n",
    "            'client_id':cclient['client_id'],\n",
    "            'line_id':cline,\n",
    "            'time_start':state.time_cur,\n",
    "            'time_to_service': datetime.timedelta(seconds=600),\n",
    "            'closed':False,\n",
    "            }\n",
    "        state.connections_ds = state.connections_ds.append(data, ignore_index=True)\n",
    "    return free_operators"
   ]
  },
  {
   "cell_type": "code",
   "execution_count": 17,
   "metadata": {
    "collapsed": true
   },
   "outputs": [],
   "source": [
    "def release_operators(system, state):\n",
    "    \"\"\"\n",
    "    Закрытие соединений, в которых оператор уже всё отработал\n",
    "    \"\"\"\n",
    "    cds = state.connections_ds[state.connections_ds['closed']==False]\n",
    "    ended_connections = cds[(state.time_cur-cds['time_start'])>cds['time_to_service']]\n",
    "    state.connections_ds.loc[ended_connections.index, 'closed'] = True\n",
    "    return ended_connections"
   ]
  },
  {
   "cell_type": "code",
   "execution_count": 18,
   "metadata": {
    "collapsed": true
   },
   "outputs": [],
   "source": [
    "def step(system, state):        \n",
    "    \"\"\"\n",
    "    Один временной шаг системы\n",
    "    \"\"\"\n",
    "    new_clients_id = generate_clients(system, state)\n",
    "    add_clients_to_queue(state, new_clients_id)\n",
    "    \n",
    "    occupy_operators(system, state)\n",
    "    release_operators(system, state)\n",
    "    \n",
    "    drop_clients_from_queue(state)"
   ]
  },
  {
   "cell_type": "code",
   "execution_count": 19,
   "metadata": {
    "collapsed": true
   },
   "outputs": [],
   "source": [
    "def run_simulation(system):\n",
    "    \"\"\"\n",
    "    Внешняя функция для запуска системы\n",
    "    \"\"\"\n",
    "    state = init_state(system)\n",
    "    \n",
    "    results_frame = msp.TimeFrame()\n",
    "    \n",
    "    # tqdm - библиотека для рисования прогрессбаров\n",
    "    tqdm = tqdm_notebook(total=(system.time_end-system.time_start).seconds//system.timedelta.seconds)\n",
    "    while state.time_cur<system.time_end:\n",
    "        step(system, state)\n",
    "        results_frame = results_frame.append(calc_statistic(state))\n",
    "        to_next_timestep(system, state, tqdm)\n",
    "    tqdm.close()\n",
    "\n",
    "    return results_frame, state"
   ]
  },
  {
   "cell_type": "code",
   "execution_count": 20,
   "metadata": {
    "collapsed": true
   },
   "outputs": [],
   "source": [
    "system = msp.System(time_start=get_datetime(7,0),\n",
    "                #time_end=get_datetime(19,0),\n",
    "                time_end=get_datetime(8,0),\n",
    "                timedelta = datetime.timedelta(seconds=1),\n",
    "                n_lines = 50,  # кол-во линий связи\n",
    "                calls_stat=calls_stat_ds,  # частоты звонков\n",
    "                time_to_serve=120,  # seconds # временная константа. время обслуживания каждого клиента\n",
    "                client_types = ['regular', 'silver', 'gold'],  # типы клиентов. затем добавятся silver и gold\n",
    "                operators_ds=operators_ds,\n",
    "                operators_work_duration = datetime.timedelta(hours=8),\n",
    "                n_lines_vip = 5\n",
    "                )"
   ]
  },
  {
   "cell_type": "code",
   "execution_count": 21,
   "metadata": {},
   "outputs": [
    {
     "data": {
      "application/vnd.jupyter.widget-view+json": {
       "model_id": "af490b3279ee4383849e839c84c2bd1b",
       "version_major": 2,
       "version_minor": 0
      },
      "text/plain": [
       "A Jupyter Widget"
      ]
     },
     "metadata": {},
     "output_type": "display_data"
    },
    {
     "name": "stdout",
     "output_type": "stream",
     "text": [
      "\n"
     ]
    }
   ],
   "source": [
    "results, state_final = run_simulation(system)"
   ]
  },
  {
   "cell_type": "code",
   "execution_count": 22,
   "metadata": {},
   "outputs": [
    {
     "data": {
      "text/html": [
       "<div>\n",
       "<style>\n",
       "    .dataframe thead tr:only-child th {\n",
       "        text-align: right;\n",
       "    }\n",
       "\n",
       "    .dataframe thead th {\n",
       "        text-align: left;\n",
       "    }\n",
       "\n",
       "    .dataframe tbody tr th {\n",
       "        vertical-align: top;\n",
       "    }\n",
       "</style>\n",
       "<table border=\"1\" class=\"dataframe\">\n",
       "  <thead>\n",
       "    <tr style=\"text-align: right;\">\n",
       "      <th></th>\n",
       "      <th>id_connection</th>\n",
       "      <th>id_operator</th>\n",
       "      <th>id_client</th>\n",
       "      <th>id_line</th>\n",
       "      <th>time_start_connection</th>\n",
       "      <th>time_to_service</th>\n",
       "      <th>connection_closed</th>\n",
       "      <th>type_client</th>\n",
       "      <th>time_start_call</th>\n",
       "      <th>client_max_waiting_time</th>\n",
       "      <th>client_missed</th>\n",
       "      <th>type_operator</th>\n",
       "      <th>operator_start_work_time</th>\n",
       "      <th>client_priority</th>\n",
       "      <th>time_quque_from</th>\n",
       "      <th>queue_exit</th>\n",
       "      <th>hour</th>\n",
       "    </tr>\n",
       "  </thead>\n",
       "  <tbody>\n",
       "    <tr>\n",
       "      <th>0</th>\n",
       "      <td>0</td>\n",
       "      <td>2</td>\n",
       "      <td>0</td>\n",
       "      <td>0</td>\n",
       "      <td>2018-01-01 07:00:05</td>\n",
       "      <td>00:10:00</td>\n",
       "      <td>True</td>\n",
       "      <td>silver</td>\n",
       "      <td>2018-01-01 07:00:05</td>\n",
       "      <td>300</td>\n",
       "      <td>1</td>\n",
       "      <td>silver</td>\n",
       "      <td>2018-01-01 07:00:00</td>\n",
       "      <td>2</td>\n",
       "      <td>2018-01-01 07:00:05</td>\n",
       "      <td>True</td>\n",
       "      <td>7</td>\n",
       "    </tr>\n",
       "    <tr>\n",
       "      <th>1</th>\n",
       "      <td>1</td>\n",
       "      <td>0</td>\n",
       "      <td>1</td>\n",
       "      <td>1</td>\n",
       "      <td>2018-01-01 07:01:20</td>\n",
       "      <td>00:10:00</td>\n",
       "      <td>True</td>\n",
       "      <td>regular</td>\n",
       "      <td>2018-01-01 07:01:20</td>\n",
       "      <td>300</td>\n",
       "      <td>1</td>\n",
       "      <td>regular</td>\n",
       "      <td>2018-01-01 07:00:00</td>\n",
       "      <td>3</td>\n",
       "      <td>2018-01-01 07:01:20</td>\n",
       "      <td>True</td>\n",
       "      <td>7</td>\n",
       "    </tr>\n",
       "    <tr>\n",
       "      <th>2</th>\n",
       "      <td>2</td>\n",
       "      <td>2</td>\n",
       "      <td>12</td>\n",
       "      <td>0</td>\n",
       "      <td>2018-01-01 07:10:07</td>\n",
       "      <td>00:10:00</td>\n",
       "      <td>True</td>\n",
       "      <td>silver</td>\n",
       "      <td>2018-01-01 07:06:29</td>\n",
       "      <td>300</td>\n",
       "      <td>1</td>\n",
       "      <td>silver</td>\n",
       "      <td>2018-01-01 07:00:00</td>\n",
       "      <td>2</td>\n",
       "      <td>2018-01-01 07:06:29</td>\n",
       "      <td>True</td>\n",
       "      <td>7</td>\n",
       "    </tr>\n",
       "    <tr>\n",
       "      <th>3</th>\n",
       "      <td>3</td>\n",
       "      <td>0</td>\n",
       "      <td>10</td>\n",
       "      <td>0</td>\n",
       "      <td>2018-01-01 07:11:22</td>\n",
       "      <td>00:10:00</td>\n",
       "      <td>True</td>\n",
       "      <td>regular</td>\n",
       "      <td>2018-01-01 07:06:22</td>\n",
       "      <td>300</td>\n",
       "      <td>1</td>\n",
       "      <td>regular</td>\n",
       "      <td>2018-01-01 07:00:00</td>\n",
       "      <td>3</td>\n",
       "      <td>2018-01-01 07:06:22</td>\n",
       "      <td>True</td>\n",
       "      <td>7</td>\n",
       "    </tr>\n",
       "    <tr>\n",
       "      <th>4</th>\n",
       "      <td>4</td>\n",
       "      <td>2</td>\n",
       "      <td>46</td>\n",
       "      <td>0</td>\n",
       "      <td>2018-01-01 07:20:09</td>\n",
       "      <td>00:10:00</td>\n",
       "      <td>True</td>\n",
       "      <td>silver</td>\n",
       "      <td>2018-01-01 07:15:31</td>\n",
       "      <td>300</td>\n",
       "      <td>1</td>\n",
       "      <td>silver</td>\n",
       "      <td>2018-01-01 07:00:00</td>\n",
       "      <td>2</td>\n",
       "      <td>2018-01-01 07:15:31</td>\n",
       "      <td>True</td>\n",
       "      <td>7</td>\n",
       "    </tr>\n",
       "  </tbody>\n",
       "</table>\n",
       "</div>"
      ],
      "text/plain": [
       "  id_connection id_operator id_client id_line time_start_connection  \\\n",
       "0             0           2         0       0   2018-01-01 07:00:05   \n",
       "1             1           0         1       1   2018-01-01 07:01:20   \n",
       "2             2           2        12       0   2018-01-01 07:10:07   \n",
       "3             3           0        10       0   2018-01-01 07:11:22   \n",
       "4             4           2        46       0   2018-01-01 07:20:09   \n",
       "\n",
       "  time_to_service connection_closed type_client     time_start_call  \\\n",
       "0        00:10:00              True      silver 2018-01-01 07:00:05   \n",
       "1        00:10:00              True     regular 2018-01-01 07:01:20   \n",
       "2        00:10:00              True      silver 2018-01-01 07:06:29   \n",
       "3        00:10:00              True     regular 2018-01-01 07:06:22   \n",
       "4        00:10:00              True      silver 2018-01-01 07:15:31   \n",
       "\n",
       "  client_max_waiting_time  client_missed type_operator  \\\n",
       "0                     300              1        silver   \n",
       "1                     300              1       regular   \n",
       "2                     300              1        silver   \n",
       "3                     300              1       regular   \n",
       "4                     300              1        silver   \n",
       "\n",
       "  operator_start_work_time client_priority     time_quque_from queue_exit  \\\n",
       "0      2018-01-01 07:00:00               2 2018-01-01 07:00:05       True   \n",
       "1      2018-01-01 07:00:00               3 2018-01-01 07:01:20       True   \n",
       "2      2018-01-01 07:00:00               2 2018-01-01 07:06:29       True   \n",
       "3      2018-01-01 07:00:00               3 2018-01-01 07:06:22       True   \n",
       "4      2018-01-01 07:00:00               2 2018-01-01 07:15:31       True   \n",
       "\n",
       "   hour  \n",
       "0     7  \n",
       "1     7  \n",
       "2     7  \n",
       "3     7  \n",
       "4     7  "
      ]
     },
     "execution_count": 22,
     "metadata": {},
     "output_type": "execute_result"
    }
   ],
   "source": [
    "ds = get_panel(system, state_final)\n",
    "ds.head()"
   ]
  },
  {
   "cell_type": "code",
   "execution_count": 23,
   "metadata": {},
   "outputs": [
    {
     "data": {
      "image/png": "[encoded data removed]",
      "text/plain": [
       "<matplotlib.figure.Figure at 0x23c381e4588>"
      ]
     },
     "metadata": {},
     "output_type": "display_data"
    }
   ],
   "source": [
    "tt = ds.pivot_table(columns=['hour'], index=['type_client'], values='client_missed', aggfunc='mean').reindex(['gold','silver','regular'])\n",
    "sns.heatmap(tt, vmin=0, vmax=1, cmap='RdBu_r')\n",
    "del tt\n",
    "plt.show()"
   ]
  },
  {
   "cell_type": "code",
   "execution_count": 24,
   "metadata": {
    "collapsed": true
   },
   "outputs": [],
   "source": [
    "line_loads_ds = get_line_loads(ds)"
   ]
  },
  {
   "cell_type": "code",
   "execution_count": 25,
   "metadata": {},
   "outputs": [
    {
     "data": {
      "image/png": "[encoded data removed]",
      "text/plain": [
       "<matplotlib.figure.Figure at 0x23c2d587f98>"
      ]
     },
     "metadata": {},
     "output_type": "display_data"
    }
   ],
   "source": [
    "(line_loads_ds>0).plot()\n",
    "plt.show()"
   ]
  },
  {
   "cell_type": "code",
   "execution_count": 26,
   "metadata": {},
   "outputs": [
    {
     "data": {
      "image/png": "[encoded data removed]",
      "text/plain": [
       "<matplotlib.figure.Figure at 0x23c2d587d68>"
      ]
     },
     "metadata": {},
     "output_type": "display_data"
    }
   ],
   "source": [
    "(line_loads_ds>0).sum(axis=1).plot()\n",
    "plt.show()"
   ]
  },
  {
   "cell_type": "markdown",
   "metadata": {},
   "source": [
    "# Что ещё надо добавить"
   ]
  },
  {
   "cell_type": "markdown",
   "metadata": {},
   "source": [
    "Отдельные линии для випов"
   ]
  },
  {
   "cell_type": "markdown",
   "metadata": {},
   "source": [
    "Начальные задержки для каждого звонка"
   ]
  },
  {
   "cell_type": "markdown",
   "metadata": {},
   "source": [
    "Разные типы звонков"
   ]
  },
  {
   "cell_type": "markdown",
   "metadata": {},
   "source": [
    "Случайное время готовности ожидания клиента"
   ]
  },
  {
   "cell_type": "markdown",
   "metadata": {},
   "source": [
    "Случайное время обслуживания для оператора (+поправки на тип оператора) для соединения"
   ]
  },
  {
   "cell_type": "markdown",
   "metadata": {},
   "source": [
    "Поиск оптимальной комбинации"
   ]
  }
 ],
 "metadata": {
  "kernelspec": {
   "display_name": "Python 3",
   "language": "python",
   "name": "python3"
  },
  "language_info": {
   "codemirror_mode": {
    "name": "ipython",
    "version": 3
   },
   "file_extension": ".py",
   "mimetype": "text/x-python",
   "name": "python",
   "nbconvert_exporter": "python",
   "pygments_lexer": "ipython3",
   "version": "3.6.3"
  }
 },
 "nbformat": 4,
 "nbformat_minor": 2
}
