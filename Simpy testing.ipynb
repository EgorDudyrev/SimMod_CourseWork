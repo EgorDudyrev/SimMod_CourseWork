{
 "cells": [
  {
   "cell_type": "code",
   "execution_count": 1,
   "metadata": {
    "collapsed": true
   },
   "outputs": [],
   "source": [
    "import simpy"
   ]
  },
  {
   "cell_type": "markdown",
   "metadata": {},
   "source": [
    "https://simpy.readthedocs.io/en/latest/contents.html"
   ]
  },
  {
   "cell_type": "markdown",
   "metadata": {},
   "source": [
    "# basic"
   ]
  },
  {
   "cell_type": "code",
   "execution_count": 2,
   "metadata": {
    "collapsed": true
   },
   "outputs": [],
   "source": [
    "def car(env):\n",
    "    while True:\n",
    "        print('Start parking at %d' % env.now)\n",
    "        parking_duration = 5\n",
    "        yield env.timeout(parking_duration)\n",
    "        \n",
    "        print('Start driving at %d' % env.now)\n",
    "        trip_duration = 2\n",
    "        yield env.timeout(trip_duration)"
   ]
  },
  {
   "cell_type": "code",
   "execution_count": 3,
   "metadata": {},
   "outputs": [
    {
     "name": "stdout",
     "output_type": "stream",
     "text": [
      "Start parking at 0\n",
      "Start driving at 5\n",
      "Start parking at 7\n",
      "Start driving at 12\n",
      "Start parking at 14\n"
     ]
    }
   ],
   "source": [
    "env = simpy.Environment()\n",
    "env.process(car(env))\n",
    "env.run(until=15)"
   ]
  },
  {
   "cell_type": "markdown",
   "metadata": {},
   "source": [
    "# Process interaction"
   ]
  },
  {
   "cell_type": "code",
   "execution_count": 4,
   "metadata": {
    "collapsed": true
   },
   "outputs": [],
   "source": [
    "class Car(object):\n",
    "    def __init__(self, env):\n",
    "        self.env = env\n",
    "        self.action = env.process(self.run())\n",
    "    \n",
    "    def run(self):\n",
    "        while True:\n",
    "            print('Start parking and charging at %d' % self.env.now)\n",
    "            charge_duration = 5\n",
    "            yield self.env.process(self.charge(charge_duration))\n",
    "            \n",
    "            print('start driving at %d'%self.env.now)\n",
    "            trip_duration = 2\n",
    "            yield self.env.timeout(trip_duration)\n",
    "    \n",
    "    def charge(self, duration):\n",
    "        yield self.env.timeout(duration)"
   ]
  },
  {
   "cell_type": "code",
   "execution_count": 5,
   "metadata": {},
   "outputs": [
    {
     "name": "stdout",
     "output_type": "stream",
     "text": [
      "Start parking and charging at 0\n",
      "start driving at 5\n",
      "Start parking and charging at 7\n",
      "start driving at 12\n",
      "Start parking and charging at 14\n"
     ]
    }
   ],
   "source": [
    "env = simpy.Environment()\n",
    "car = Car(env)\n",
    "env.run(until=15)"
   ]
  },
  {
   "cell_type": "code",
   "execution_count": 6,
   "metadata": {
    "collapsed": true
   },
   "outputs": [],
   "source": [
    "def driver(env, car):\n",
    "    yield env.timeout(3)\n",
    "    car.action.interrupt()"
   ]
  },
  {
   "cell_type": "code",
   "execution_count": 7,
   "metadata": {
    "collapsed": true
   },
   "outputs": [],
   "source": [
    "class Car(object):\n",
    "    def __init__(self, env):\n",
    "        self.env = env\n",
    "        self.action = env.process(self.run())\n",
    "    \n",
    "    def run(self):\n",
    "        while True:\n",
    "            print('Start parking and charging at %d' % self.env.now)\n",
    "            charge_duration = 5\n",
    "            try:\n",
    "                yield self.env.process(self.charge(charge_duration))\n",
    "            except simpy.Interrupt:\n",
    "                print('Was interrupted. Hope, the battery is full enough ...')\n",
    "            \n",
    "            print('start driving at %d'%self.env.now)\n",
    "            trip_duration = 2\n",
    "            yield self.env.timeout(trip_duration)\n",
    "    \n",
    "    def charge(self, duration):\n",
    "        yield self.env.timeout(duration)"
   ]
  },
  {
   "cell_type": "code",
   "execution_count": 8,
   "metadata": {},
   "outputs": [
    {
     "name": "stdout",
     "output_type": "stream",
     "text": [
      "Start parking and charging at 0\n",
      "Was interrupted. Hope, the battery is full enough ...\n",
      "start driving at 3\n",
      "Start parking and charging at 5\n",
      "start driving at 10\n",
      "Start parking and charging at 12\n"
     ]
    }
   ],
   "source": [
    "env = simpy.Environment()\n",
    "car = Car(env)\n",
    "env.process(driver(env, car))\n",
    "env.run(until=15)"
   ]
  },
  {
   "cell_type": "markdown",
   "metadata": {},
   "source": [
    "# Resources"
   ]
  },
  {
   "cell_type": "code",
   "execution_count": 9,
   "metadata": {},
   "outputs": [],
   "source": [
    "def car(env, name, bcs, driving_time, charge_duration):\n",
    "    yield env.timeout(driving_time)\n",
    "    \n",
    "    print('%s arriving at %d' % (name, env.now))\n",
    "    with bcs.request() as req:\n",
    "        yield req\n",
    "        \n",
    "        print('%s starting to charge at %s' % (name, env.now))\n",
    "        yield env.timeout(charge_duration)\n",
    "        print('%s leaving the bcs at %s' % (name, env.now))"
   ]
  },
  {
   "cell_type": "code",
   "execution_count": 10,
   "metadata": {
    "collapsed": true
   },
   "outputs": [],
   "source": [
    "env = simpy.Environment()\n",
    "bcs = simpy.Resource(env, capacity=2)"
   ]
  },
  {
   "cell_type": "code",
   "execution_count": 11,
   "metadata": {
    "collapsed": true
   },
   "outputs": [],
   "source": [
    "for i in range(4):\n",
    "    env.process(car(env, 'Car %d'%i, bcs, i*2, 5))"
   ]
  },
  {
   "cell_type": "code",
   "execution_count": 12,
   "metadata": {},
   "outputs": [
    {
     "name": "stdout",
     "output_type": "stream",
     "text": [
      "Car 0 arriving at 0\n",
      "Car 0 starting to charge at 0\n",
      "Car 1 arriving at 2\n",
      "Car 1 starting to charge at 2\n",
      "Car 2 arriving at 4\n",
      "Car 0 leaving the bcs at 5\n",
      "Car 2 starting to charge at 5\n",
      "Car 3 arriving at 6\n",
      "Car 1 leaving the bcs at 7\n",
      "Car 3 starting to charge at 7\n",
      "Car 2 leaving the bcs at 10\n",
      "Car 3 leaving the bcs at 12\n"
     ]
    }
   ],
   "source": [
    "env.run()"
   ]
  },
  {
   "cell_type": "markdown",
   "metadata": {},
   "source": [
    "# Events"
   ]
  },
  {
   "cell_type": "code",
   "execution_count": 13,
   "metadata": {},
   "outputs": [],
   "source": [
    "class School:\n",
    "    def __init__(self, env):\n",
    "        self.env = env\n",
    "        self.class_ends = env.event()\n",
    "        self.pupil_procs = [env.process(self.pupil()) for i in range(3)]\n",
    "        self.bell_proc = env.process(self.bell())\n",
    "    \n",
    "    def bell(self):\n",
    "        print('start bell')\n",
    "        for i in range(2):\n",
    "            print('before bell timeout')\n",
    "            yield self.env.timeout(45)\n",
    "            print('before succeed')\n",
    "            self.class_ends.succeed()\n",
    "            print('after succeed')\n",
    "            self.class_ends = self.env.event()\n",
    "            print()\n",
    "    def pupil(self):\n",
    "        print('start pupil', end='')\n",
    "        for i in range(2):\n",
    "            print(r' \\o/', end='')\n",
    "            print()\n",
    "            yield self.class_ends\n",
    "            print(' /o\\\\', end='')"
   ]
  },
  {
   "cell_type": "code",
   "execution_count": 14,
   "metadata": {},
   "outputs": [
    {
     "name": "stdout",
     "output_type": "stream",
     "text": [
      "start pupil \\o/\n",
      "start pupil \\o/\n",
      "start pupil \\o/\n",
      "start bell\n",
      "before bell timeout\n",
      "before succeed\n",
      "after succeed\n",
      "\n",
      "before bell timeout\n",
      " /o\\ \\o/\n",
      " /o\\ \\o/\n",
      " /o\\ \\o/\n",
      "before succeed\n",
      "after succeed\n",
      "\n",
      " /o\\ /o\\ /o\\"
     ]
    }
   ],
   "source": [
    "school = School(env)\n",
    "env.run()"
   ]
  },
  {
   "cell_type": "markdown",
   "metadata": {},
   "source": [
    "# Basic resource"
   ]
  },
  {
   "cell_type": "code",
   "execution_count": 15,
   "metadata": {
    "collapsed": true
   },
   "outputs": [],
   "source": [
    "def resource_user(env, resource):\n",
    "    request = resource.request()\n",
    "    yield request\n",
    "    yield env.timeout(1)\n",
    "    resource.release(request)\n",
    "    \n",
    "env = simpy.Environment()\n",
    "res = simpy.Resource(env, capacity=1)\n",
    "user = env.process(resource_user(env, res))\n",
    "env.run()"
   ]
  },
  {
   "cell_type": "code",
   "execution_count": 16,
   "metadata": {
    "collapsed": true
   },
   "outputs": [],
   "source": [
    "res = simpy.Resource(env, capacity=1)\n",
    "def print_stats(res):\n",
    "    print('%d of %d slots are allocated.' %(res.count, res.capacity))\n",
    "    print(' Users: ', res.users)\n",
    "    print(' Queued events:', res.queue)\n",
    "    \n",
    "def user(res):\n",
    "    print_stats(res)\n",
    "    with res.request() as req:\n",
    "        yield req\n",
    "        print_stats(res)\n",
    "    print_stats(res)\n",
    "procs = [env.process(user(res)), env.process(user(res))]"
   ]
  },
  {
   "cell_type": "code",
   "execution_count": 17,
   "metadata": {},
   "outputs": [
    {
     "name": "stdout",
     "output_type": "stream",
     "text": [
      "0 of 1 slots are allocated.\n",
      " Users:  []\n",
      " Queued events: []\n",
      "1 of 1 slots are allocated.\n",
      " Users:  [<Request() object at 0x2a56654ec88>]\n",
      " Queued events: []\n",
      "1 of 1 slots are allocated.\n",
      " Users:  [<Request() object at 0x2a56654ec88>]\n",
      " Queued events: [<Request() object at 0x2a56654ea90>]\n",
      "0 of 1 slots are allocated.\n",
      " Users:  []\n",
      " Queued events: [<Request() object at 0x2a56654ea90>]\n",
      "1 of 1 slots are allocated.\n",
      " Users:  [<Request() object at 0x2a56654ea90>]\n",
      " Queued events: []\n",
      "0 of 1 slots are allocated.\n",
      " Users:  []\n",
      " Queued events: []\n"
     ]
    }
   ],
   "source": [
    "env.run()"
   ]
  },
  {
   "cell_type": "markdown",
   "metadata": {},
   "source": [
    "## Priority resource"
   ]
  },
  {
   "cell_type": "code",
   "execution_count": 18,
   "metadata": {
    "collapsed": true
   },
   "outputs": [],
   "source": [
    "def resource_user(name, env, resource, wait, prio):\n",
    "    yield env.timeout(wait)\n",
    "    with resource.request(priority=prio) as req:\n",
    "        print('%s requesting at %s with priority=%s' % (name, env.now, prio))\n",
    "        yield req\n",
    "        print('%s got resource at %s' % (name, env.now))\n",
    "        yield env.timeout(3)"
   ]
  },
  {
   "cell_type": "code",
   "execution_count": 19,
   "metadata": {},
   "outputs": [
    {
     "name": "stdout",
     "output_type": "stream",
     "text": [
      "1 requesting at 0 with priority=0\n",
      "1 got resource at 0\n",
      "2 requesting at 1 with priority=0\n",
      "3 requesting at 2 with priority=-1\n",
      "3 got resource at 3\n",
      "2 got resource at 6\n"
     ]
    }
   ],
   "source": [
    "env = simpy.Environment()\n",
    "res = simpy.PriorityResource(env, capacity=1)\n",
    "p1 = env.process(resource_user(1, env, res, wait=0, prio=0))\n",
    "p2 = env.process(resource_user(2, env, res, wait=1, prio=0))\n",
    "p3 = env.process(resource_user(3, env, res, wait=2, prio=-1))\n",
    "env.run()"
   ]
  }
 ],
 "metadata": {
  "kernelspec": {
   "display_name": "Python 3",
   "language": "python",
   "name": "python3"
  },
  "language_info": {
   "codemirror_mode": {
    "name": "ipython",
    "version": 3
   },
   "file_extension": ".py",
   "mimetype": "text/x-python",
   "name": "python",
   "nbconvert_exporter": "python",
   "pygments_lexer": "ipython3",
   "version": "3.6.3"
  }
 },
 "nbformat": 4,
 "nbformat_minor": 2
}
