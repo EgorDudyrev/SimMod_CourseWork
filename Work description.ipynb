{
 "cells": [
  {
   "cell_type": "code",
   "execution_count": 2,
   "metadata": {
    "collapsed": true
   },
   "outputs": [],
   "source": [
    "import pandas as pd"
   ]
  },
  {
   "cell_type": "markdown",
   "metadata": {},
   "source": [
    "# Given description"
   ]
  },
  {
   "cell_type": "markdown",
   "metadata": {},
   "source": [
    "https://github.com/EgorDudyrev/SimMod_CourseWork/blob/master/Specification(%D0%B7%D0%B0%D0%B4%D0%B0%D1%87%D0%B0%20-%D0%91%D1%8E%D1%80%D0%BE%20%D0%BF%D1%83%D1%82%D0%B5%D1%88%D0%B5%D1%81%D1%82%D0%B2%D0%B8%D0%B9).docx"
   ]
  },
  {
   "cell_type": "markdown",
   "metadata": {},
   "source": [
    "## Главная идея\n",
    "\n",
    "Объединение нескольких бюро в 2 центра, принимающих звонки. Необходимо оптимизировать затраты на офисы: работу персонала и т.п."
   ]
  },
  {
   "cell_type": "markdown",
   "metadata": {},
   "source": [
    "Время работы:\n",
    "* Office1 - 07:00-19:00\n",
    "* Office2 - 19:00-07:00"
   ]
  },
  {
   "cell_type": "markdown",
   "metadata": {},
   "source": [
    "Клиенты:\n",
    "* Обычные\n",
    "* Премиум\n",
    "    * золотые\n",
    "    * серебрянные\n",
    "    \n",
    "У премиумов - особый номер телефона. По этому номеру они и определяются"
   ]
  },
  {
   "cell_type": "markdown",
   "metadata": {},
   "source": [
    "Количество линий связи - ограничено\n",
    "\n",
    "Если линия занята, а клиент - обычный, то \"нам очень важен ваш звонок\". Система ведёт учёт таких случаев.\n",
    "\n",
    "Если система загружена (используется большинство линий), оставшиеся линии - только vip'ам.\n",
    "\n",
    "Сколько линий выделять под vip'ов - вот в чём вопрос"
   ]
  },
  {
   "cell_type": "markdown",
   "metadata": {},
   "source": [
    "Время ожидания обычного клиента ~ треугольное распределение (min=12 минут, max= 30 минут)\n",
    "\n",
    "Если оценочное время > того, что может терпеть клиент - он сбрасывается\n",
    "\n",
    "Время ожидания vip ~ norm(min= 8 минут, max = 17 минут)\n",
    "\n",
    "Клиенты сбросят вызов, если будут ждать слишком долго"
   ]
  },
  {
   "cell_type": "markdown",
   "metadata": {},
   "source": [
    "Если звонит обычный клиент и линий нет:\n",
    "* 8 секунд определяется время ожидания в очереди (клиент может сброситься в это время)"
   ]
  },
  {
   "cell_type": "markdown",
   "metadata": {},
   "source": [
    "Если звонит vip и линия есть:\n",
    "* 7-16 секунд - вводится номер карточки"
   ]
  },
  {
   "cell_type": "markdown",
   "metadata": {},
   "source": [
    "Звонки есть 3х видов:\n",
    "* запрос информации о путёвке\n",
    "* бронь путёвки\n",
    "* перебронирование"
   ]
  },
  {
   "cell_type": "code",
   "execution_count": 38,
   "metadata": {},
   "outputs": [
    {
     "data": {
      "text/html": [
       "<div>\n",
       "<style>\n",
       "    .dataframe thead tr:only-child th {\n",
       "        text-align: right;\n",
       "    }\n",
       "\n",
       "    .dataframe thead th {\n",
       "        text-align: left;\n",
       "    }\n",
       "\n",
       "    .dataframe tbody tr th {\n",
       "        vertical-align: top;\n",
       "    }\n",
       "</style>\n",
       "<table border=\"1\" class=\"dataframe\">\n",
       "  <thead>\n",
       "    <tr style=\"text-align: right;\">\n",
       "      <th></th>\n",
       "      <th>type</th>\n",
       "      <th>p</th>\n",
       "    </tr>\n",
       "  </thead>\n",
       "  <tbody>\n",
       "    <tr>\n",
       "      <th>0</th>\n",
       "      <td>Вопрос</td>\n",
       "      <td>0.16</td>\n",
       "    </tr>\n",
       "    <tr>\n",
       "      <th>1</th>\n",
       "      <td>Бронь</td>\n",
       "      <td>0.76</td>\n",
       "    </tr>\n",
       "    <tr>\n",
       "      <th>2</th>\n",
       "      <td>Перебронь</td>\n",
       "      <td>0.08</td>\n",
       "    </tr>\n",
       "  </tbody>\n",
       "</table>\n",
       "</div>"
      ],
      "text/plain": [
       "        type     p\n",
       "0     Вопрос  0.16\n",
       "1      Бронь  0.76\n",
       "2  Перебронь  0.08"
      ]
     },
     "execution_count": 38,
     "metadata": {},
     "output_type": "execute_result"
    }
   ],
   "source": [
    "calls_type_distr = pd.DataFrame([['Вопрос', 0.16], ['Бронь', 0.76], ['Перебронь', 0.08]],\n",
    "                                columns=['type', 'p'])\n",
    "\n",
    "calls_type_distr"
   ]
  },
  {
   "cell_type": "markdown",
   "metadata": {},
   "source": [
    "Операторы 3х типов:\n",
    "* обычные\n",
    "* серебрянные\n",
    "* золотые - доступны только золотым клиентам\n",
    "\n",
    "Клиенты 3х типов:\n",
    "* обычные\n",
    "* серебрянные - приоритет №2 - принимаются серебрянными и обычными - середина очереди\n",
    "* золотые - приоритет №1 - принимаются всеми - в начале очереди"
   ]
  },
  {
   "cell_type": "markdown",
   "metadata": {},
   "source": [
    "У операторов есть квалификации:\n",
    "* золотой может уменьшить время обслуживания на 12%\n",
    "* серебрянный может уменьшить время обслуживания на 5%"
   ]
  },
  {
   "cell_type": "markdown",
   "metadata": {},
   "source": [
    "* Время на обслуживание - треугольное распределение\n",
    "* Время на доп. работу - норм распределение"
   ]
  },
  {
   "cell_type": "code",
   "execution_count": 41,
   "metadata": {},
   "outputs": [
    {
     "name": "stdout",
     "output_type": "stream",
     "text": [
      "Время обслуживания клиентов\n"
     ]
    },
    {
     "data": {
      "text/html": [
       "<div>\n",
       "<style>\n",
       "    .dataframe thead tr:only-child th {\n",
       "        text-align: right;\n",
       "    }\n",
       "\n",
       "    .dataframe thead th {\n",
       "        text-align: left;\n",
       "    }\n",
       "\n",
       "    .dataframe tbody tr th {\n",
       "        vertical-align: top;\n",
       "    }\n",
       "</style>\n",
       "<table border=\"1\" class=\"dataframe\">\n",
       "  <thead>\n",
       "    <tr style=\"text-align: right;\">\n",
       "      <th></th>\n",
       "      <th>type</th>\n",
       "      <th>serv_time_regular</th>\n",
       "      <th>extra_time</th>\n",
       "    </tr>\n",
       "  </thead>\n",
       "  <tbody>\n",
       "    <tr>\n",
       "      <th>0</th>\n",
       "      <td>Инфо</td>\n",
       "      <td>(1.2, 2.05, 3.75)</td>\n",
       "      <td>(0.05, 0.1)</td>\n",
       "    </tr>\n",
       "    <tr>\n",
       "      <th>1</th>\n",
       "      <td>Бронь</td>\n",
       "      <td>(2.25, 2.95, 8.6)</td>\n",
       "      <td>(0.5, 0.8)</td>\n",
       "    </tr>\n",
       "    <tr>\n",
       "      <th>2</th>\n",
       "      <td>Перебронь</td>\n",
       "      <td>(1.2, 1.9, 5.8)</td>\n",
       "      <td>(0.4, 0.6)</td>\n",
       "    </tr>\n",
       "  </tbody>\n",
       "</table>\n",
       "</div>"
      ],
      "text/plain": [
       "        type  serv_time_regular   extra_time\n",
       "0       Инфо  (1.2, 2.05, 3.75)  (0.05, 0.1)\n",
       "1      Бронь  (2.25, 2.95, 8.6)   (0.5, 0.8)\n",
       "2  Перебронь    (1.2, 1.9, 5.8)   (0.4, 0.6)"
      ]
     },
     "execution_count": 41,
     "metadata": {},
     "output_type": "execute_result"
    }
   ],
   "source": [
    "print('Время обслуживания клиентов (в минутах)')\n",
    "service_stat_ds = pd.DataFrame()\n",
    "service_stat_ds['type'] = ['Инфо', 'Бронь', 'Перебронь']\n",
    "service_stat_ds['serv_time_regular'] = [(1.2, 2.05, 3.75),\n",
    "                               (2.25, 2.95, 8.6),\n",
    "                               (1.2, 1.9, 5.8)]\n",
    "service_stat_ds['extra_time'] = [(0.05, 0.1),\n",
    "                                 (0.5, 0.8),\n",
    "                                 (0.4, 0.6)]\n",
    "service_stat_ds"
   ]
  },
  {
   "cell_type": "code",
   "execution_count": null,
   "metadata": {
    "collapsed": true
   },
   "outputs": [],
   "source": []
  },
  {
   "cell_type": "code",
   "execution_count": 32,
   "metadata": {},
   "outputs": [],
   "source": [
    "calls_stat_ds = pd.DataFrame()\n",
    "calls_stat_ds['time_range'] = range(7,19)\n",
    "calls_stat_ds['regular_clients'] = [87, 165, 236, 323, 277, 440, 269, 342, 175, 273, 115,  56]\n",
    "calls_stat_ds['vip_clients'] = [89, 243, 221, 180, 301, 490, 394, 347, 240, 269, 145,  69]\n",
    "calls_stat_ds['silver_clients'] = 0.68*calls_stat_ds['vip_clients']\n",
    "calls_stat_ds['gold_clients'] = calls_stat_ds['vip_clients']-calls_stat_ds['silver_clients']"
   ]
  },
  {
   "cell_type": "code",
   "execution_count": 34,
   "metadata": {},
   "outputs": [
    {
     "name": "stdout",
     "output_type": "stream",
     "text": [
      "Статистика по звонкам\n"
     ]
    },
    {
     "data": {
      "text/html": [
       "<div>\n",
       "<style>\n",
       "    .dataframe thead tr:only-child th {\n",
       "        text-align: right;\n",
       "    }\n",
       "\n",
       "    .dataframe thead th {\n",
       "        text-align: left;\n",
       "    }\n",
       "\n",
       "    .dataframe tbody tr th {\n",
       "        vertical-align: top;\n",
       "    }\n",
       "</style>\n",
       "<table border=\"1\" class=\"dataframe\">\n",
       "  <thead>\n",
       "    <tr style=\"text-align: right;\">\n",
       "      <th></th>\n",
       "      <th>time_range</th>\n",
       "      <th>regular_clients</th>\n",
       "      <th>vip_clients</th>\n",
       "      <th>silver_clients</th>\n",
       "      <th>gold_clients</th>\n",
       "    </tr>\n",
       "  </thead>\n",
       "  <tbody>\n",
       "    <tr>\n",
       "      <th>0</th>\n",
       "      <td>7</td>\n",
       "      <td>87</td>\n",
       "      <td>89</td>\n",
       "      <td>60.52</td>\n",
       "      <td>28.48</td>\n",
       "    </tr>\n",
       "    <tr>\n",
       "      <th>1</th>\n",
       "      <td>8</td>\n",
       "      <td>165</td>\n",
       "      <td>243</td>\n",
       "      <td>165.24</td>\n",
       "      <td>77.76</td>\n",
       "    </tr>\n",
       "    <tr>\n",
       "      <th>2</th>\n",
       "      <td>9</td>\n",
       "      <td>236</td>\n",
       "      <td>221</td>\n",
       "      <td>150.28</td>\n",
       "      <td>70.72</td>\n",
       "    </tr>\n",
       "    <tr>\n",
       "      <th>3</th>\n",
       "      <td>10</td>\n",
       "      <td>323</td>\n",
       "      <td>180</td>\n",
       "      <td>122.40</td>\n",
       "      <td>57.60</td>\n",
       "    </tr>\n",
       "    <tr>\n",
       "      <th>4</th>\n",
       "      <td>11</td>\n",
       "      <td>277</td>\n",
       "      <td>301</td>\n",
       "      <td>204.68</td>\n",
       "      <td>96.32</td>\n",
       "    </tr>\n",
       "    <tr>\n",
       "      <th>5</th>\n",
       "      <td>12</td>\n",
       "      <td>440</td>\n",
       "      <td>490</td>\n",
       "      <td>333.20</td>\n",
       "      <td>156.80</td>\n",
       "    </tr>\n",
       "    <tr>\n",
       "      <th>6</th>\n",
       "      <td>13</td>\n",
       "      <td>269</td>\n",
       "      <td>394</td>\n",
       "      <td>267.92</td>\n",
       "      <td>126.08</td>\n",
       "    </tr>\n",
       "    <tr>\n",
       "      <th>7</th>\n",
       "      <td>14</td>\n",
       "      <td>342</td>\n",
       "      <td>347</td>\n",
       "      <td>235.96</td>\n",
       "      <td>111.04</td>\n",
       "    </tr>\n",
       "    <tr>\n",
       "      <th>8</th>\n",
       "      <td>15</td>\n",
       "      <td>175</td>\n",
       "      <td>240</td>\n",
       "      <td>163.20</td>\n",
       "      <td>76.80</td>\n",
       "    </tr>\n",
       "    <tr>\n",
       "      <th>9</th>\n",
       "      <td>16</td>\n",
       "      <td>273</td>\n",
       "      <td>269</td>\n",
       "      <td>182.92</td>\n",
       "      <td>86.08</td>\n",
       "    </tr>\n",
       "    <tr>\n",
       "      <th>10</th>\n",
       "      <td>17</td>\n",
       "      <td>115</td>\n",
       "      <td>145</td>\n",
       "      <td>98.60</td>\n",
       "      <td>46.40</td>\n",
       "    </tr>\n",
       "    <tr>\n",
       "      <th>11</th>\n",
       "      <td>18</td>\n",
       "      <td>56</td>\n",
       "      <td>69</td>\n",
       "      <td>46.92</td>\n",
       "      <td>22.08</td>\n",
       "    </tr>\n",
       "  </tbody>\n",
       "</table>\n",
       "</div>"
      ],
      "text/plain": [
       "    time_range  regular_clients  vip_clients  silver_clients  gold_clients\n",
       "0            7               87           89           60.52         28.48\n",
       "1            8              165          243          165.24         77.76\n",
       "2            9              236          221          150.28         70.72\n",
       "3           10              323          180          122.40         57.60\n",
       "4           11              277          301          204.68         96.32\n",
       "5           12              440          490          333.20        156.80\n",
       "6           13              269          394          267.92        126.08\n",
       "7           14              342          347          235.96        111.04\n",
       "8           15              175          240          163.20         76.80\n",
       "9           16              273          269          182.92         86.08\n",
       "10          17              115          145           98.60         46.40\n",
       "11          18               56           69           46.92         22.08"
      ]
     },
     "execution_count": 34,
     "metadata": {},
     "output_type": "execute_result"
    }
   ],
   "source": [
    "print('Статистика по звонкам')\n",
    "calls_stat_ds"
   ]
  }
 ],
 "metadata": {
  "kernelspec": {
   "display_name": "Python 3",
   "language": "python",
   "name": "python3"
  },
  "language_info": {
   "codemirror_mode": {
    "name": "ipython",
    "version": 3
   },
   "file_extension": ".py",
   "mimetype": "text/x-python",
   "name": "python",
   "nbconvert_exporter": "python",
   "pygments_lexer": "ipython3",
   "version": "3.6.3"
  }
 },
 "nbformat": 4,
 "nbformat_minor": 2
}
